{
  "nbformat": 4,
  "nbformat_minor": 0,
  "metadata": {
    "kernelspec": {
      "display_name": "Python 3",
      "language": "python",
      "name": "python3"
    },
    "language_info": {
      "codemirror_mode": {
        "name": "ipython",
        "version": 3
      },
      "file_extension": ".py",
      "mimetype": "text/x-python",
      "name": "python",
      "nbconvert_exporter": "python",
      "pygments_lexer": "ipython3",
      "version": "3.8.3"
    },
    "colab": {
      "name": "1_data_pipelining_template.ipynb",
      "provenance": [],
      "collapsed_sections": [
        "xzSbiF8p5YwG",
        "EdzkFAaw2aTF",
        "nMG6vGL62aTI",
        "_gqBvmM7QnBy",
        "E8I1X0J7Qgas",
        "_jlTQ1GhTTJP",
        "roim7Ncy2aTL",
        "XBxAAgEd2aTL",
        "kmU1S9M52aTL",
        "6sSMaLRY2aTM",
        "WSYGhgu1DcQu",
        "Sq27czITmQlQ",
        "qE21s8EK2aTN",
        "65LTvSfJEJlm",
        "Dmlt0UhqERp1",
        "rcjXaDu-EaEM",
        "XbxE4yXZ2aTN",
        "mvgfHpxuBBnQ",
        "zSrunwTQ2aTO",
        "BfIsB1cO2aTO",
        "TmR7brMg2aTO",
        "ctNoKRIxGqTt",
        "XqDxXWBd2aTP",
        "dpTumlZqG-NN",
        "R_4Cixrp2aTQ",
        "LG_L08C59eeG",
        "mhoZDriu9ifl",
        "8elxYXop-M58",
        "1Lj49UJj-3XP",
        "R1OtkUI1-9CE",
        "yJSqaIN22aTS",
        "62OEZA3A_Cxh",
        "2Hl6s6NI_IZo",
        "kYt9UCvuTu4_"
      ],
      "include_colab_link": true
    }
  },
  "cells": [
    {
      "cell_type": "markdown",
      "metadata": {
        "id": "view-in-github",
        "colab_type": "text"
      },
      "source": [
        "<a href=\"https://colab.research.google.com/github/kartik025017/FODBMS/blob/main/1_data_pipelining_template.ipynb\" target=\"_parent\"><img src=\"https://colab.research.google.com/assets/colab-badge.svg\" alt=\"Open In Colab\"/></a>"
      ]
    },
    {
      "cell_type": "code",
      "metadata": {
        "id": "PDvAPLfo2aS7"
      },
      "source": [
        "# Last amended:  21st May, 2022\n",
        "# My folder:    /home/ashok/Documents/5.decisiontree\n",
        "# VM: lubuntu_machinelearning_I\n",
        "# Ref Why dummy encoding:\n",
        "#        https://www.statisticssolutions.com/dummy-coding-the-how-and-why/\n",
        "\n",
        "# Objectives:\n",
        "#     i)    Read and explore data\n",
        "#    ii)    Deal with missing values \n",
        "#   iii)    OneHotEncode categorical features\n",
        "#    iv)    Use Pipeline and ColumnTransformer \n",
        "#           for data transformation\n",
        "#    v)     Pipeline for modeling\n",
        "#    vi)    Nested pipes"
      ],
      "execution_count": 1,
      "outputs": []
    },
    {
      "cell_type": "code",
      "metadata": {
        "id": "BhOobKZkep38",
        "colab": {
          "base_uri": "https://localhost:8080/"
        },
        "outputId": "4d21fd1b-1ecb-4850-c1f4-ecc7c6401f10"
      },
      "source": [
        "# 0.0 Install recent version of sklearn for\n",
        "#     visualizing pipelines\n",
        "\n",
        "!pip install --upgrade scikit-learn"
      ],
      "execution_count": 2,
      "outputs": [
        {
          "output_type": "stream",
          "name": "stdout",
          "text": [
            "Looking in indexes: https://pypi.org/simple, https://us-python.pkg.dev/colab-wheels/public/simple/\n",
            "Requirement already satisfied: scikit-learn in /usr/local/lib/python3.7/dist-packages (1.0.2)\n",
            "Requirement already satisfied: numpy>=1.14.6 in /usr/local/lib/python3.7/dist-packages (from scikit-learn) (1.21.6)\n",
            "Requirement already satisfied: joblib>=0.11 in /usr/local/lib/python3.7/dist-packages (from scikit-learn) (1.1.0)\n",
            "Requirement already satisfied: threadpoolctl>=2.0.0 in /usr/local/lib/python3.7/dist-packages (from scikit-learn) (3.1.0)\n",
            "Requirement already satisfied: scipy>=1.1.0 in /usr/local/lib/python3.7/dist-packages (from scikit-learn) (1.4.1)\n"
          ]
        }
      ]
    },
    {
      "cell_type": "markdown",
      "metadata": {
        "id": "KjgQEVq1KX0G"
      },
      "source": [
        "### Call libraries\n",
        "(#1--#2.0)\n"
      ]
    },
    {
      "cell_type": "code",
      "metadata": {
        "id": "XZwZ335C2aTB"
      },
      "source": [
        "# 1.0 Reset memory\n",
        "#%reset -f\n",
        "# 1.1 Call libraries\n",
        "\n",
        "## A. Data manipulation\n",
        "import numpy as np\n",
        "import pandas as pd\n",
        "\n",
        "# 1.2 for data splitting\n",
        "from sklearn.model_selection import train_test_split\n",
        "\n",
        "## B. Transformers for predictors:\n",
        "\n",
        "# 1.3 Class for imputing missing values\n",
        "# https://scikit-learn.org/stable/modules/generated/sklearn.impute.SimpleImputer.html\n",
        "from sklearn.impute import SimpleImputer\n",
        "\n",
        "# 1.4 One hot encode categorical data--Convert to dummy\n",
        "# https://scikit-learn.org/stable/modules/generated/sklearn.preprocessing.OneHotEncoder.html\n",
        "from sklearn.preprocessing import OneHotEncoder as onehot\n",
        "\n",
        "# 1.5 Scale numeric data\n",
        "from sklearn.preprocessing import StandardScaler\n",
        "\n",
        "## C. Transformer for target:\n",
        "\n",
        "# 1.6 Label encode target column\n",
        "from sklearn.preprocessing import LabelEncoder\n",
        "\n",
        "## D. Composite Transformers:\n",
        "\n",
        "# 1.7 Class for applying multiple data transformation\n",
        "#     jobs parallely\n",
        "from sklearn.compose import ColumnTransformer\n",
        "\n",
        "# 1.8 Pipeline class: Class for applying multiple\n",
        "#     data transformations sequentially\n",
        "from sklearn.pipeline import Pipeline\n",
        "\n",
        "## E. Estimator\n",
        "\n",
        "# 1.9 Estimator\n",
        "# Ref: https://scikit-learn.org/stable/modules/generated/sklearn.tree.DecisionTreeClassifier.html\n",
        "# User guide: https://scikit-learn.org/stable/modules/tree.html\n",
        "from sklearn.tree import DecisionTreeClassifier \n",
        "\n",
        "# 1.10 To plot graphs and pipeline diagram\n",
        "import matplotlib.pyplot as plt\n",
        "import plotly.express as px\n",
        "import seaborn as sns\n",
        "from sklearn import set_config"
      ],
      "execution_count": 3,
      "outputs": []
    },
    {
      "cell_type": "code",
      "metadata": {
        "id": "JVR_x1sr2aTC"
      },
      "source": [
        "# 1.11 Display outputs of all commands from a cell--not just of the last command\n",
        "from IPython.core.interactiveshell import InteractiveShell\n",
        "InteractiveShell.ast_node_interactivity = \"all\""
      ],
      "execution_count": 4,
      "outputs": []
    },
    {
      "cell_type": "code",
      "metadata": {
        "id": "UecQ2sRu2aTD"
      },
      "source": [
        "# 2.0 Import warnings module\n",
        "#     No FutureWarnings display\n",
        " \n",
        "import warnings\n",
        "# 2.1 Do not print warnings on screen\n",
        "warnings.filterwarnings(\"ignore\")"
      ],
      "execution_count": 5,
      "outputs": []
    },
    {
      "cell_type": "markdown",
      "metadata": {
        "id": "nuKQRILEKdVV"
      },
      "source": [
        "### Read and preprocess data\n",
        "(#3.0--#3.2)<br>\n",
        "Read data, create simple cat features and shuffle data"
      ]
    },
    {
      "cell_type": "code",
      "metadata": {
        "id": "CbM3cNrf2aTE",
        "colab": {
          "base_uri": "https://localhost:8080/",
          "height": 488
        },
        "outputId": "5ef6a9cf-f9ea-4b87-ec82-004655cdc4b8"
      },
      "source": [
        "# 3.0 Create a toy dataset with six columns\n",
        "#     Every column has at least one NaN except column: 'creditability'\n",
        "#     'creditability' is our target column so no NaN\n",
        "df = pd.DataFrame({\n",
        "                    'creditability' : ['yes','yes','yes','yes','yes','yes','no','no','no','no','no','no','no','no'], # Target column\n",
        "                    'acc_balance'   : [1,2,1,np.nan,1,2,1,2,1,2,2,np.nan,np.nan,np.nan],\n",
        "                    'house_owned'   : ['big','small',np.nan,'small','big',np.nan,np.nan,'big','small','big','big','small',np.nan,'small'],\n",
        "                    'age'           : [50,45,45,54,50,89,23,65,70,70,90,52,60,np.nan],\n",
        "                    'income'        : [np.nan,7.8,3.4,5.5,2.1,8.9,3.9,np.nan,6.9,9.0,np.nan,8.0,8.5,np.nan],  \n",
        "                    'credit_amount' : [1011,np.nan,3211,np.nan,1000,2323,1010,1500,1300,1782,1212,np.nan,1232,np.nan]\n",
        "                  }\n",
        "               )\n",
        "\n",
        "df    # (14,6)"
      ],
      "execution_count": 6,
      "outputs": [
        {
          "output_type": "execute_result",
          "data": {
            "text/plain": [
              "   creditability  acc_balance house_owned   age  income  credit_amount\n",
              "0            yes          1.0         big  50.0     NaN         1011.0\n",
              "1            yes          2.0       small  45.0     7.8            NaN\n",
              "2            yes          1.0         NaN  45.0     3.4         3211.0\n",
              "3            yes          NaN       small  54.0     5.5            NaN\n",
              "4            yes          1.0         big  50.0     2.1         1000.0\n",
              "5            yes          2.0         NaN  89.0     8.9         2323.0\n",
              "6             no          1.0         NaN  23.0     3.9         1010.0\n",
              "7             no          2.0         big  65.0     NaN         1500.0\n",
              "8             no          1.0       small  70.0     6.9         1300.0\n",
              "9             no          2.0         big  70.0     9.0         1782.0\n",
              "10            no          2.0         big  90.0     NaN         1212.0\n",
              "11            no          NaN       small  52.0     8.0            NaN\n",
              "12            no          NaN         NaN  60.0     8.5         1232.0\n",
              "13            no          NaN       small   NaN     NaN            NaN"
            ],
            "text/html": [
              "\n",
              "  <div id=\"df-a75f63ee-e6fb-419e-b277-426d5756836a\">\n",
              "    <div class=\"colab-df-container\">\n",
              "      <div>\n",
              "<style scoped>\n",
              "    .dataframe tbody tr th:only-of-type {\n",
              "        vertical-align: middle;\n",
              "    }\n",
              "\n",
              "    .dataframe tbody tr th {\n",
              "        vertical-align: top;\n",
              "    }\n",
              "\n",
              "    .dataframe thead th {\n",
              "        text-align: right;\n",
              "    }\n",
              "</style>\n",
              "<table border=\"1\" class=\"dataframe\">\n",
              "  <thead>\n",
              "    <tr style=\"text-align: right;\">\n",
              "      <th></th>\n",
              "      <th>creditability</th>\n",
              "      <th>acc_balance</th>\n",
              "      <th>house_owned</th>\n",
              "      <th>age</th>\n",
              "      <th>income</th>\n",
              "      <th>credit_amount</th>\n",
              "    </tr>\n",
              "  </thead>\n",
              "  <tbody>\n",
              "    <tr>\n",
              "      <th>0</th>\n",
              "      <td>yes</td>\n",
              "      <td>1.0</td>\n",
              "      <td>big</td>\n",
              "      <td>50.0</td>\n",
              "      <td>NaN</td>\n",
              "      <td>1011.0</td>\n",
              "    </tr>\n",
              "    <tr>\n",
              "      <th>1</th>\n",
              "      <td>yes</td>\n",
              "      <td>2.0</td>\n",
              "      <td>small</td>\n",
              "      <td>45.0</td>\n",
              "      <td>7.8</td>\n",
              "      <td>NaN</td>\n",
              "    </tr>\n",
              "    <tr>\n",
              "      <th>2</th>\n",
              "      <td>yes</td>\n",
              "      <td>1.0</td>\n",
              "      <td>NaN</td>\n",
              "      <td>45.0</td>\n",
              "      <td>3.4</td>\n",
              "      <td>3211.0</td>\n",
              "    </tr>\n",
              "    <tr>\n",
              "      <th>3</th>\n",
              "      <td>yes</td>\n",
              "      <td>NaN</td>\n",
              "      <td>small</td>\n",
              "      <td>54.0</td>\n",
              "      <td>5.5</td>\n",
              "      <td>NaN</td>\n",
              "    </tr>\n",
              "    <tr>\n",
              "      <th>4</th>\n",
              "      <td>yes</td>\n",
              "      <td>1.0</td>\n",
              "      <td>big</td>\n",
              "      <td>50.0</td>\n",
              "      <td>2.1</td>\n",
              "      <td>1000.0</td>\n",
              "    </tr>\n",
              "    <tr>\n",
              "      <th>5</th>\n",
              "      <td>yes</td>\n",
              "      <td>2.0</td>\n",
              "      <td>NaN</td>\n",
              "      <td>89.0</td>\n",
              "      <td>8.9</td>\n",
              "      <td>2323.0</td>\n",
              "    </tr>\n",
              "    <tr>\n",
              "      <th>6</th>\n",
              "      <td>no</td>\n",
              "      <td>1.0</td>\n",
              "      <td>NaN</td>\n",
              "      <td>23.0</td>\n",
              "      <td>3.9</td>\n",
              "      <td>1010.0</td>\n",
              "    </tr>\n",
              "    <tr>\n",
              "      <th>7</th>\n",
              "      <td>no</td>\n",
              "      <td>2.0</td>\n",
              "      <td>big</td>\n",
              "      <td>65.0</td>\n",
              "      <td>NaN</td>\n",
              "      <td>1500.0</td>\n",
              "    </tr>\n",
              "    <tr>\n",
              "      <th>8</th>\n",
              "      <td>no</td>\n",
              "      <td>1.0</td>\n",
              "      <td>small</td>\n",
              "      <td>70.0</td>\n",
              "      <td>6.9</td>\n",
              "      <td>1300.0</td>\n",
              "    </tr>\n",
              "    <tr>\n",
              "      <th>9</th>\n",
              "      <td>no</td>\n",
              "      <td>2.0</td>\n",
              "      <td>big</td>\n",
              "      <td>70.0</td>\n",
              "      <td>9.0</td>\n",
              "      <td>1782.0</td>\n",
              "    </tr>\n",
              "    <tr>\n",
              "      <th>10</th>\n",
              "      <td>no</td>\n",
              "      <td>2.0</td>\n",
              "      <td>big</td>\n",
              "      <td>90.0</td>\n",
              "      <td>NaN</td>\n",
              "      <td>1212.0</td>\n",
              "    </tr>\n",
              "    <tr>\n",
              "      <th>11</th>\n",
              "      <td>no</td>\n",
              "      <td>NaN</td>\n",
              "      <td>small</td>\n",
              "      <td>52.0</td>\n",
              "      <td>8.0</td>\n",
              "      <td>NaN</td>\n",
              "    </tr>\n",
              "    <tr>\n",
              "      <th>12</th>\n",
              "      <td>no</td>\n",
              "      <td>NaN</td>\n",
              "      <td>NaN</td>\n",
              "      <td>60.0</td>\n",
              "      <td>8.5</td>\n",
              "      <td>1232.0</td>\n",
              "    </tr>\n",
              "    <tr>\n",
              "      <th>13</th>\n",
              "      <td>no</td>\n",
              "      <td>NaN</td>\n",
              "      <td>small</td>\n",
              "      <td>NaN</td>\n",
              "      <td>NaN</td>\n",
              "      <td>NaN</td>\n",
              "    </tr>\n",
              "  </tbody>\n",
              "</table>\n",
              "</div>\n",
              "      <button class=\"colab-df-convert\" onclick=\"convertToInteractive('df-a75f63ee-e6fb-419e-b277-426d5756836a')\"\n",
              "              title=\"Convert this dataframe to an interactive table.\"\n",
              "              style=\"display:none;\">\n",
              "        \n",
              "  <svg xmlns=\"http://www.w3.org/2000/svg\" height=\"24px\"viewBox=\"0 0 24 24\"\n",
              "       width=\"24px\">\n",
              "    <path d=\"M0 0h24v24H0V0z\" fill=\"none\"/>\n",
              "    <path d=\"M18.56 5.44l.94 2.06.94-2.06 2.06-.94-2.06-.94-.94-2.06-.94 2.06-2.06.94zm-11 1L8.5 8.5l.94-2.06 2.06-.94-2.06-.94L8.5 2.5l-.94 2.06-2.06.94zm10 10l.94 2.06.94-2.06 2.06-.94-2.06-.94-.94-2.06-.94 2.06-2.06.94z\"/><path d=\"M17.41 7.96l-1.37-1.37c-.4-.4-.92-.59-1.43-.59-.52 0-1.04.2-1.43.59L10.3 9.45l-7.72 7.72c-.78.78-.78 2.05 0 2.83L4 21.41c.39.39.9.59 1.41.59.51 0 1.02-.2 1.41-.59l7.78-7.78 2.81-2.81c.8-.78.8-2.07 0-2.86zM5.41 20L4 18.59l7.72-7.72 1.47 1.35L5.41 20z\"/>\n",
              "  </svg>\n",
              "      </button>\n",
              "      \n",
              "  <style>\n",
              "    .colab-df-container {\n",
              "      display:flex;\n",
              "      flex-wrap:wrap;\n",
              "      gap: 12px;\n",
              "    }\n",
              "\n",
              "    .colab-df-convert {\n",
              "      background-color: #E8F0FE;\n",
              "      border: none;\n",
              "      border-radius: 50%;\n",
              "      cursor: pointer;\n",
              "      display: none;\n",
              "      fill: #1967D2;\n",
              "      height: 32px;\n",
              "      padding: 0 0 0 0;\n",
              "      width: 32px;\n",
              "    }\n",
              "\n",
              "    .colab-df-convert:hover {\n",
              "      background-color: #E2EBFA;\n",
              "      box-shadow: 0px 1px 2px rgba(60, 64, 67, 0.3), 0px 1px 3px 1px rgba(60, 64, 67, 0.15);\n",
              "      fill: #174EA6;\n",
              "    }\n",
              "\n",
              "    [theme=dark] .colab-df-convert {\n",
              "      background-color: #3B4455;\n",
              "      fill: #D2E3FC;\n",
              "    }\n",
              "\n",
              "    [theme=dark] .colab-df-convert:hover {\n",
              "      background-color: #434B5C;\n",
              "      box-shadow: 0px 1px 3px 1px rgba(0, 0, 0, 0.15);\n",
              "      filter: drop-shadow(0px 1px 2px rgba(0, 0, 0, 0.3));\n",
              "      fill: #FFFFFF;\n",
              "    }\n",
              "  </style>\n",
              "\n",
              "      <script>\n",
              "        const buttonEl =\n",
              "          document.querySelector('#df-a75f63ee-e6fb-419e-b277-426d5756836a button.colab-df-convert');\n",
              "        buttonEl.style.display =\n",
              "          google.colab.kernel.accessAllowed ? 'block' : 'none';\n",
              "\n",
              "        async function convertToInteractive(key) {\n",
              "          const element = document.querySelector('#df-a75f63ee-e6fb-419e-b277-426d5756836a');\n",
              "          const dataTable =\n",
              "            await google.colab.kernel.invokeFunction('convertToInteractive',\n",
              "                                                     [key], {});\n",
              "          if (!dataTable) return;\n",
              "\n",
              "          const docLinkHtml = 'Like what you see? Visit the ' +\n",
              "            '<a target=\"_blank\" href=https://colab.research.google.com/notebooks/data_table.ipynb>data table notebook</a>'\n",
              "            + ' to learn more about interactive tables.';\n",
              "          element.innerHTML = '';\n",
              "          dataTable['output_type'] = 'display_data';\n",
              "          await google.colab.output.renderOutput(dataTable, element);\n",
              "          const docLink = document.createElement('div');\n",
              "          docLink.innerHTML = docLinkHtml;\n",
              "          element.appendChild(docLink);\n",
              "        }\n",
              "      </script>\n",
              "    </div>\n",
              "  </div>\n",
              "  "
            ]
          },
          "metadata": {},
          "execution_count": 6
        }
      ]
    },
    {
      "cell_type": "code",
      "source": [
        "cat_cols = ['acc_balance'\t,'house_owned']\n",
        "num_cols=['age','income','credit_amount']"
      ],
      "metadata": {
        "id": "hBB1V3uFGdlE"
      },
      "execution_count": 8,
      "outputs": []
    },
    {
      "cell_type": "code",
      "source": [
        "NT = Pipeline(steps=[\n",
        "       ('imputer', SimpleImputer(strategy='median'))\n",
        "      ,('scaler', StandardScaler())\n",
        "])\n",
        "\n"
      ],
      "metadata": {
        "id": "9nzC91IOGeGI"
      },
      "execution_count": 12,
      "outputs": []
    },
    {
      "cell_type": "code",
      "source": [
        "NT.fit_transform(df[num_cols])"
      ],
      "metadata": {
        "colab": {
          "base_uri": "https://localhost:8080/"
        },
        "id": "4clPerH-GeNx",
        "outputId": "c51cde10-04f7-40e7-8c64-4324aedc56a0"
      },
      "execution_count": 13,
      "outputs": [
        {
          "output_type": "execute_result",
          "data": {
            "text/plain": [
              "array([[-0.48935131,  0.32965848, -0.79030883],\n",
              "       [-0.7821256 ,  0.5482741 , -0.35564506],\n",
              "       [-0.7821256 , -1.58930086,  2.95973152],\n",
              "       [-0.25513188, -0.56909463, -0.35564506],\n",
              "       [-0.48935131, -2.2208571 , -0.80905903],\n",
              "       [ 1.79428815,  1.08266783,  1.44607887],\n",
              "       [-2.07033248, -1.34639462, -0.79201339],\n",
              "       [ 0.38897156,  0.32965848,  0.04322287],\n",
              "       [ 0.68174585,  0.11104285, -0.29768989],\n",
              "       [ 0.68174585,  1.13124908,  0.52390986],\n",
              "       [ 1.85284301,  0.32965848, -0.4476915 ],\n",
              "       [-0.3722416 ,  0.64543659, -0.35564506],\n",
              "       [ 0.09619727,  0.88834284, -0.41360023],\n",
              "       [-0.25513188,  0.32965848, -0.35564506]])"
            ]
          },
          "metadata": {},
          "execution_count": 13
        }
      ]
    },
    {
      "cell_type": "code",
      "source": [
        "from sklearn.preprocessing import OneHotEncoder\n",
        "CT= Pipeline(steps=[\n",
        "       ('imputer', SimpleImputer(strategy='most_frequent'))\n",
        "      ,('encoder', OneHotEncoder())\n",
        "])"
      ],
      "metadata": {
        "id": "VV-c3pMgGeSG"
      },
      "execution_count": 20,
      "outputs": []
    },
    {
      "cell_type": "code",
      "source": [
        "abc = CT.fit_transform(df[cat_cols])"
      ],
      "metadata": {
        "id": "y3WK2i1MGeWP"
      },
      "execution_count": 22,
      "outputs": []
    },
    {
      "cell_type": "code",
      "source": [
        "f= abc.todense()"
      ],
      "metadata": {
        "id": "hf2LTTQDGeZn"
      },
      "execution_count": 23,
      "outputs": []
    },
    {
      "cell_type": "code",
      "source": [
        "f"
      ],
      "metadata": {
        "colab": {
          "base_uri": "https://localhost:8080/"
        },
        "id": "BZXGN13fO2Nb",
        "outputId": "949543b9-8129-4c58-f3f9-f34e0124b34c"
      },
      "execution_count": 24,
      "outputs": [
        {
          "output_type": "execute_result",
          "data": {
            "text/plain": [
              "matrix([[1., 0., 1., 0.],\n",
              "        [0., 1., 0., 1.],\n",
              "        [1., 0., 1., 0.],\n",
              "        [1., 0., 0., 1.],\n",
              "        [1., 0., 1., 0.],\n",
              "        [0., 1., 1., 0.],\n",
              "        [1., 0., 1., 0.],\n",
              "        [0., 1., 1., 0.],\n",
              "        [1., 0., 0., 1.],\n",
              "        [0., 1., 1., 0.],\n",
              "        [0., 1., 1., 0.],\n",
              "        [1., 0., 0., 1.],\n",
              "        [1., 0., 1., 0.],\n",
              "        [1., 0., 0., 1.]])"
            ]
          },
          "metadata": {},
          "execution_count": 24
        }
      ]
    },
    {
      "cell_type": "code",
      "metadata": {
        "id": "P5kdn8t12aTE",
        "colab": {
          "base_uri": "https://localhost:8080/",
          "height": 488
        },
        "outputId": "731cadef-b673-405d-d691-751061a92deb"
      },
      "source": [
        "# 3.1 Engineer some new categorical features from 'age' and 'credit_amount'\n",
        "#     We will have NaN values both in 'age_cat' and 'credit_amount_cat' columns\n",
        "#     (Note: Strictly speaking this method of creating features outside pipeline is \n",
        "#     not recommended as it leaks information about X_test (to be created, see below)\n",
        "#     to X_train. Recommended way is to wrap it up inside sklearn's FunctionTransformer\n",
        "#     and then use wrapped transformer within a processing pipeline. See:\n",
        "#     https://scikit-learn.org/stable/modules/preprocessing.html#custom-transformers)\n",
        "#     Else, use KBinsDiscretizer of sklearn\n",
        "\n",
        "\n",
        "df['age_cat'] = pd.cut(df['age'],               # Equal interval cuts between min and max\n",
        "                       3,                       # Three cuts\n",
        "                       labels=[\"1\",\"2\", \"3\"]    # Label for each cut\n",
        "                       )\n",
        "\n",
        "# 3.1.1\n",
        "df['credit_amount_cat'] = pd.qcut(df['credit_amount'],       # Equal freq cut\n",
        "                                  3,\n",
        "                                  labels=[\"low\",\"medium\", \"high\"])\n",
        "df   # (13,8)\n"
      ],
      "execution_count": 7,
      "outputs": [
        {
          "output_type": "execute_result",
          "data": {
            "text/plain": [
              "   creditability  acc_balance house_owned   age  income  credit_amount  \\\n",
              "0            yes          1.0         big  50.0     NaN         1011.0   \n",
              "1            yes          2.0       small  45.0     7.8            NaN   \n",
              "2            yes          1.0         NaN  45.0     3.4         3211.0   \n",
              "3            yes          NaN       small  54.0     5.5            NaN   \n",
              "4            yes          1.0         big  50.0     2.1         1000.0   \n",
              "5            yes          2.0         NaN  89.0     8.9         2323.0   \n",
              "6             no          1.0         NaN  23.0     3.9         1010.0   \n",
              "7             no          2.0         big  65.0     NaN         1500.0   \n",
              "8             no          1.0       small  70.0     6.9         1300.0   \n",
              "9             no          2.0         big  70.0     9.0         1782.0   \n",
              "10            no          2.0         big  90.0     NaN         1212.0   \n",
              "11            no          NaN       small  52.0     8.0            NaN   \n",
              "12            no          NaN         NaN  60.0     8.5         1232.0   \n",
              "13            no          NaN       small   NaN     NaN            NaN   \n",
              "\n",
              "   age_cat credit_amount_cat  \n",
              "0        2               low  \n",
              "1        1               NaN  \n",
              "2        1              high  \n",
              "3        2               NaN  \n",
              "4        2               low  \n",
              "5        3              high  \n",
              "6        1               low  \n",
              "7        2            medium  \n",
              "8        3            medium  \n",
              "9        3              high  \n",
              "10       3               low  \n",
              "11       2               NaN  \n",
              "12       2            medium  \n",
              "13     NaN               NaN  "
            ],
            "text/html": [
              "\n",
              "  <div id=\"df-46ebabde-3910-410c-86ec-0c19db9c7fc9\">\n",
              "    <div class=\"colab-df-container\">\n",
              "      <div>\n",
              "<style scoped>\n",
              "    .dataframe tbody tr th:only-of-type {\n",
              "        vertical-align: middle;\n",
              "    }\n",
              "\n",
              "    .dataframe tbody tr th {\n",
              "        vertical-align: top;\n",
              "    }\n",
              "\n",
              "    .dataframe thead th {\n",
              "        text-align: right;\n",
              "    }\n",
              "</style>\n",
              "<table border=\"1\" class=\"dataframe\">\n",
              "  <thead>\n",
              "    <tr style=\"text-align: right;\">\n",
              "      <th></th>\n",
              "      <th>creditability</th>\n",
              "      <th>acc_balance</th>\n",
              "      <th>house_owned</th>\n",
              "      <th>age</th>\n",
              "      <th>income</th>\n",
              "      <th>credit_amount</th>\n",
              "      <th>age_cat</th>\n",
              "      <th>credit_amount_cat</th>\n",
              "    </tr>\n",
              "  </thead>\n",
              "  <tbody>\n",
              "    <tr>\n",
              "      <th>0</th>\n",
              "      <td>yes</td>\n",
              "      <td>1.0</td>\n",
              "      <td>big</td>\n",
              "      <td>50.0</td>\n",
              "      <td>NaN</td>\n",
              "      <td>1011.0</td>\n",
              "      <td>2</td>\n",
              "      <td>low</td>\n",
              "    </tr>\n",
              "    <tr>\n",
              "      <th>1</th>\n",
              "      <td>yes</td>\n",
              "      <td>2.0</td>\n",
              "      <td>small</td>\n",
              "      <td>45.0</td>\n",
              "      <td>7.8</td>\n",
              "      <td>NaN</td>\n",
              "      <td>1</td>\n",
              "      <td>NaN</td>\n",
              "    </tr>\n",
              "    <tr>\n",
              "      <th>2</th>\n",
              "      <td>yes</td>\n",
              "      <td>1.0</td>\n",
              "      <td>NaN</td>\n",
              "      <td>45.0</td>\n",
              "      <td>3.4</td>\n",
              "      <td>3211.0</td>\n",
              "      <td>1</td>\n",
              "      <td>high</td>\n",
              "    </tr>\n",
              "    <tr>\n",
              "      <th>3</th>\n",
              "      <td>yes</td>\n",
              "      <td>NaN</td>\n",
              "      <td>small</td>\n",
              "      <td>54.0</td>\n",
              "      <td>5.5</td>\n",
              "      <td>NaN</td>\n",
              "      <td>2</td>\n",
              "      <td>NaN</td>\n",
              "    </tr>\n",
              "    <tr>\n",
              "      <th>4</th>\n",
              "      <td>yes</td>\n",
              "      <td>1.0</td>\n",
              "      <td>big</td>\n",
              "      <td>50.0</td>\n",
              "      <td>2.1</td>\n",
              "      <td>1000.0</td>\n",
              "      <td>2</td>\n",
              "      <td>low</td>\n",
              "    </tr>\n",
              "    <tr>\n",
              "      <th>5</th>\n",
              "      <td>yes</td>\n",
              "      <td>2.0</td>\n",
              "      <td>NaN</td>\n",
              "      <td>89.0</td>\n",
              "      <td>8.9</td>\n",
              "      <td>2323.0</td>\n",
              "      <td>3</td>\n",
              "      <td>high</td>\n",
              "    </tr>\n",
              "    <tr>\n",
              "      <th>6</th>\n",
              "      <td>no</td>\n",
              "      <td>1.0</td>\n",
              "      <td>NaN</td>\n",
              "      <td>23.0</td>\n",
              "      <td>3.9</td>\n",
              "      <td>1010.0</td>\n",
              "      <td>1</td>\n",
              "      <td>low</td>\n",
              "    </tr>\n",
              "    <tr>\n",
              "      <th>7</th>\n",
              "      <td>no</td>\n",
              "      <td>2.0</td>\n",
              "      <td>big</td>\n",
              "      <td>65.0</td>\n",
              "      <td>NaN</td>\n",
              "      <td>1500.0</td>\n",
              "      <td>2</td>\n",
              "      <td>medium</td>\n",
              "    </tr>\n",
              "    <tr>\n",
              "      <th>8</th>\n",
              "      <td>no</td>\n",
              "      <td>1.0</td>\n",
              "      <td>small</td>\n",
              "      <td>70.0</td>\n",
              "      <td>6.9</td>\n",
              "      <td>1300.0</td>\n",
              "      <td>3</td>\n",
              "      <td>medium</td>\n",
              "    </tr>\n",
              "    <tr>\n",
              "      <th>9</th>\n",
              "      <td>no</td>\n",
              "      <td>2.0</td>\n",
              "      <td>big</td>\n",
              "      <td>70.0</td>\n",
              "      <td>9.0</td>\n",
              "      <td>1782.0</td>\n",
              "      <td>3</td>\n",
              "      <td>high</td>\n",
              "    </tr>\n",
              "    <tr>\n",
              "      <th>10</th>\n",
              "      <td>no</td>\n",
              "      <td>2.0</td>\n",
              "      <td>big</td>\n",
              "      <td>90.0</td>\n",
              "      <td>NaN</td>\n",
              "      <td>1212.0</td>\n",
              "      <td>3</td>\n",
              "      <td>low</td>\n",
              "    </tr>\n",
              "    <tr>\n",
              "      <th>11</th>\n",
              "      <td>no</td>\n",
              "      <td>NaN</td>\n",
              "      <td>small</td>\n",
              "      <td>52.0</td>\n",
              "      <td>8.0</td>\n",
              "      <td>NaN</td>\n",
              "      <td>2</td>\n",
              "      <td>NaN</td>\n",
              "    </tr>\n",
              "    <tr>\n",
              "      <th>12</th>\n",
              "      <td>no</td>\n",
              "      <td>NaN</td>\n",
              "      <td>NaN</td>\n",
              "      <td>60.0</td>\n",
              "      <td>8.5</td>\n",
              "      <td>1232.0</td>\n",
              "      <td>2</td>\n",
              "      <td>medium</td>\n",
              "    </tr>\n",
              "    <tr>\n",
              "      <th>13</th>\n",
              "      <td>no</td>\n",
              "      <td>NaN</td>\n",
              "      <td>small</td>\n",
              "      <td>NaN</td>\n",
              "      <td>NaN</td>\n",
              "      <td>NaN</td>\n",
              "      <td>NaN</td>\n",
              "      <td>NaN</td>\n",
              "    </tr>\n",
              "  </tbody>\n",
              "</table>\n",
              "</div>\n",
              "      <button class=\"colab-df-convert\" onclick=\"convertToInteractive('df-46ebabde-3910-410c-86ec-0c19db9c7fc9')\"\n",
              "              title=\"Convert this dataframe to an interactive table.\"\n",
              "              style=\"display:none;\">\n",
              "        \n",
              "  <svg xmlns=\"http://www.w3.org/2000/svg\" height=\"24px\"viewBox=\"0 0 24 24\"\n",
              "       width=\"24px\">\n",
              "    <path d=\"M0 0h24v24H0V0z\" fill=\"none\"/>\n",
              "    <path d=\"M18.56 5.44l.94 2.06.94-2.06 2.06-.94-2.06-.94-.94-2.06-.94 2.06-2.06.94zm-11 1L8.5 8.5l.94-2.06 2.06-.94-2.06-.94L8.5 2.5l-.94 2.06-2.06.94zm10 10l.94 2.06.94-2.06 2.06-.94-2.06-.94-.94-2.06-.94 2.06-2.06.94z\"/><path d=\"M17.41 7.96l-1.37-1.37c-.4-.4-.92-.59-1.43-.59-.52 0-1.04.2-1.43.59L10.3 9.45l-7.72 7.72c-.78.78-.78 2.05 0 2.83L4 21.41c.39.39.9.59 1.41.59.51 0 1.02-.2 1.41-.59l7.78-7.78 2.81-2.81c.8-.78.8-2.07 0-2.86zM5.41 20L4 18.59l7.72-7.72 1.47 1.35L5.41 20z\"/>\n",
              "  </svg>\n",
              "      </button>\n",
              "      \n",
              "  <style>\n",
              "    .colab-df-container {\n",
              "      display:flex;\n",
              "      flex-wrap:wrap;\n",
              "      gap: 12px;\n",
              "    }\n",
              "\n",
              "    .colab-df-convert {\n",
              "      background-color: #E8F0FE;\n",
              "      border: none;\n",
              "      border-radius: 50%;\n",
              "      cursor: pointer;\n",
              "      display: none;\n",
              "      fill: #1967D2;\n",
              "      height: 32px;\n",
              "      padding: 0 0 0 0;\n",
              "      width: 32px;\n",
              "    }\n",
              "\n",
              "    .colab-df-convert:hover {\n",
              "      background-color: #E2EBFA;\n",
              "      box-shadow: 0px 1px 2px rgba(60, 64, 67, 0.3), 0px 1px 3px 1px rgba(60, 64, 67, 0.15);\n",
              "      fill: #174EA6;\n",
              "    }\n",
              "\n",
              "    [theme=dark] .colab-df-convert {\n",
              "      background-color: #3B4455;\n",
              "      fill: #D2E3FC;\n",
              "    }\n",
              "\n",
              "    [theme=dark] .colab-df-convert:hover {\n",
              "      background-color: #434B5C;\n",
              "      box-shadow: 0px 1px 3px 1px rgba(0, 0, 0, 0.15);\n",
              "      filter: drop-shadow(0px 1px 2px rgba(0, 0, 0, 0.3));\n",
              "      fill: #FFFFFF;\n",
              "    }\n",
              "  </style>\n",
              "\n",
              "      <script>\n",
              "        const buttonEl =\n",
              "          document.querySelector('#df-46ebabde-3910-410c-86ec-0c19db9c7fc9 button.colab-df-convert');\n",
              "        buttonEl.style.display =\n",
              "          google.colab.kernel.accessAllowed ? 'block' : 'none';\n",
              "\n",
              "        async function convertToInteractive(key) {\n",
              "          const element = document.querySelector('#df-46ebabde-3910-410c-86ec-0c19db9c7fc9');\n",
              "          const dataTable =\n",
              "            await google.colab.kernel.invokeFunction('convertToInteractive',\n",
              "                                                     [key], {});\n",
              "          if (!dataTable) return;\n",
              "\n",
              "          const docLinkHtml = 'Like what you see? Visit the ' +\n",
              "            '<a target=\"_blank\" href=https://colab.research.google.com/notebooks/data_table.ipynb>data table notebook</a>'\n",
              "            + ' to learn more about interactive tables.';\n",
              "          element.innerHTML = '';\n",
              "          dataTable['output_type'] = 'display_data';\n",
              "          await google.colab.output.renderOutput(dataTable, element);\n",
              "          const docLink = document.createElement('div');\n",
              "          docLink.innerHTML = docLinkHtml;\n",
              "          element.appendChild(docLink);\n",
              "        }\n",
              "      </script>\n",
              "    </div>\n",
              "  </div>\n",
              "  "
            ]
          },
          "metadata": {},
          "execution_count": 7
        }
      ]
    },
    {
      "cell_type": "code",
      "metadata": {
        "id": "Ry93GzGl2aTF",
        "colab": {
          "base_uri": "https://localhost:8080/",
          "height": 488
        },
        "outputId": "a8a5fbd8-dd5b-45fd-d73f-d29268557c92"
      },
      "source": [
        "# 3.2 Randomly shuffle data as values \n",
        "#     in 'credibility' column have an order\n",
        "\n",
        "df = df.sample(frac = 1) \n",
        "df    # (13,8)"
      ],
      "execution_count": null,
      "outputs": [
        {
          "output_type": "execute_result",
          "data": {
            "text/plain": [
              "   creditability  acc_balance house_owned   age  income  credit_amount  \\\n",
              "13            no          NaN       small   NaN     NaN            NaN   \n",
              "5            yes          2.0         NaN  89.0     8.9         2323.0   \n",
              "6             no          1.0         NaN  23.0     3.9         1010.0   \n",
              "2            yes          1.0         NaN  45.0     3.4         3211.0   \n",
              "4            yes          1.0         big  50.0     2.1         1000.0   \n",
              "0            yes          1.0         big  50.0     NaN         1011.0   \n",
              "10            no          2.0         big  90.0     NaN         1212.0   \n",
              "9             no          2.0         big  70.0     9.0         1782.0   \n",
              "1            yes          2.0       small  45.0     7.8            NaN   \n",
              "7             no          2.0         big  65.0     NaN         1500.0   \n",
              "12            no          NaN         NaN  60.0     8.5         1232.0   \n",
              "8             no          1.0       small  70.0     6.9         1300.0   \n",
              "11            no          NaN       small  52.0     8.0            NaN   \n",
              "3            yes          NaN       small  54.0     5.5            NaN   \n",
              "\n",
              "   age_cat credit_amount_cat  \n",
              "13     NaN               NaN  \n",
              "5        3              high  \n",
              "6        1               low  \n",
              "2        1              high  \n",
              "4        2               low  \n",
              "0        2               low  \n",
              "10       3               low  \n",
              "9        3              high  \n",
              "1        1               NaN  \n",
              "7        2            medium  \n",
              "12       2            medium  \n",
              "8        3            medium  \n",
              "11       2               NaN  \n",
              "3        2               NaN  "
            ],
            "text/html": [
              "\n",
              "  <div id=\"df-01dc8e02-13e5-481b-bfa2-5f618729fbc4\">\n",
              "    <div class=\"colab-df-container\">\n",
              "      <div>\n",
              "<style scoped>\n",
              "    .dataframe tbody tr th:only-of-type {\n",
              "        vertical-align: middle;\n",
              "    }\n",
              "\n",
              "    .dataframe tbody tr th {\n",
              "        vertical-align: top;\n",
              "    }\n",
              "\n",
              "    .dataframe thead th {\n",
              "        text-align: right;\n",
              "    }\n",
              "</style>\n",
              "<table border=\"1\" class=\"dataframe\">\n",
              "  <thead>\n",
              "    <tr style=\"text-align: right;\">\n",
              "      <th></th>\n",
              "      <th>creditability</th>\n",
              "      <th>acc_balance</th>\n",
              "      <th>house_owned</th>\n",
              "      <th>age</th>\n",
              "      <th>income</th>\n",
              "      <th>credit_amount</th>\n",
              "      <th>age_cat</th>\n",
              "      <th>credit_amount_cat</th>\n",
              "    </tr>\n",
              "  </thead>\n",
              "  <tbody>\n",
              "    <tr>\n",
              "      <th>13</th>\n",
              "      <td>no</td>\n",
              "      <td>NaN</td>\n",
              "      <td>small</td>\n",
              "      <td>NaN</td>\n",
              "      <td>NaN</td>\n",
              "      <td>NaN</td>\n",
              "      <td>NaN</td>\n",
              "      <td>NaN</td>\n",
              "    </tr>\n",
              "    <tr>\n",
              "      <th>5</th>\n",
              "      <td>yes</td>\n",
              "      <td>2.0</td>\n",
              "      <td>NaN</td>\n",
              "      <td>89.0</td>\n",
              "      <td>8.9</td>\n",
              "      <td>2323.0</td>\n",
              "      <td>3</td>\n",
              "      <td>high</td>\n",
              "    </tr>\n",
              "    <tr>\n",
              "      <th>6</th>\n",
              "      <td>no</td>\n",
              "      <td>1.0</td>\n",
              "      <td>NaN</td>\n",
              "      <td>23.0</td>\n",
              "      <td>3.9</td>\n",
              "      <td>1010.0</td>\n",
              "      <td>1</td>\n",
              "      <td>low</td>\n",
              "    </tr>\n",
              "    <tr>\n",
              "      <th>2</th>\n",
              "      <td>yes</td>\n",
              "      <td>1.0</td>\n",
              "      <td>NaN</td>\n",
              "      <td>45.0</td>\n",
              "      <td>3.4</td>\n",
              "      <td>3211.0</td>\n",
              "      <td>1</td>\n",
              "      <td>high</td>\n",
              "    </tr>\n",
              "    <tr>\n",
              "      <th>4</th>\n",
              "      <td>yes</td>\n",
              "      <td>1.0</td>\n",
              "      <td>big</td>\n",
              "      <td>50.0</td>\n",
              "      <td>2.1</td>\n",
              "      <td>1000.0</td>\n",
              "      <td>2</td>\n",
              "      <td>low</td>\n",
              "    </tr>\n",
              "    <tr>\n",
              "      <th>0</th>\n",
              "      <td>yes</td>\n",
              "      <td>1.0</td>\n",
              "      <td>big</td>\n",
              "      <td>50.0</td>\n",
              "      <td>NaN</td>\n",
              "      <td>1011.0</td>\n",
              "      <td>2</td>\n",
              "      <td>low</td>\n",
              "    </tr>\n",
              "    <tr>\n",
              "      <th>10</th>\n",
              "      <td>no</td>\n",
              "      <td>2.0</td>\n",
              "      <td>big</td>\n",
              "      <td>90.0</td>\n",
              "      <td>NaN</td>\n",
              "      <td>1212.0</td>\n",
              "      <td>3</td>\n",
              "      <td>low</td>\n",
              "    </tr>\n",
              "    <tr>\n",
              "      <th>9</th>\n",
              "      <td>no</td>\n",
              "      <td>2.0</td>\n",
              "      <td>big</td>\n",
              "      <td>70.0</td>\n",
              "      <td>9.0</td>\n",
              "      <td>1782.0</td>\n",
              "      <td>3</td>\n",
              "      <td>high</td>\n",
              "    </tr>\n",
              "    <tr>\n",
              "      <th>1</th>\n",
              "      <td>yes</td>\n",
              "      <td>2.0</td>\n",
              "      <td>small</td>\n",
              "      <td>45.0</td>\n",
              "      <td>7.8</td>\n",
              "      <td>NaN</td>\n",
              "      <td>1</td>\n",
              "      <td>NaN</td>\n",
              "    </tr>\n",
              "    <tr>\n",
              "      <th>7</th>\n",
              "      <td>no</td>\n",
              "      <td>2.0</td>\n",
              "      <td>big</td>\n",
              "      <td>65.0</td>\n",
              "      <td>NaN</td>\n",
              "      <td>1500.0</td>\n",
              "      <td>2</td>\n",
              "      <td>medium</td>\n",
              "    </tr>\n",
              "    <tr>\n",
              "      <th>12</th>\n",
              "      <td>no</td>\n",
              "      <td>NaN</td>\n",
              "      <td>NaN</td>\n",
              "      <td>60.0</td>\n",
              "      <td>8.5</td>\n",
              "      <td>1232.0</td>\n",
              "      <td>2</td>\n",
              "      <td>medium</td>\n",
              "    </tr>\n",
              "    <tr>\n",
              "      <th>8</th>\n",
              "      <td>no</td>\n",
              "      <td>1.0</td>\n",
              "      <td>small</td>\n",
              "      <td>70.0</td>\n",
              "      <td>6.9</td>\n",
              "      <td>1300.0</td>\n",
              "      <td>3</td>\n",
              "      <td>medium</td>\n",
              "    </tr>\n",
              "    <tr>\n",
              "      <th>11</th>\n",
              "      <td>no</td>\n",
              "      <td>NaN</td>\n",
              "      <td>small</td>\n",
              "      <td>52.0</td>\n",
              "      <td>8.0</td>\n",
              "      <td>NaN</td>\n",
              "      <td>2</td>\n",
              "      <td>NaN</td>\n",
              "    </tr>\n",
              "    <tr>\n",
              "      <th>3</th>\n",
              "      <td>yes</td>\n",
              "      <td>NaN</td>\n",
              "      <td>small</td>\n",
              "      <td>54.0</td>\n",
              "      <td>5.5</td>\n",
              "      <td>NaN</td>\n",
              "      <td>2</td>\n",
              "      <td>NaN</td>\n",
              "    </tr>\n",
              "  </tbody>\n",
              "</table>\n",
              "</div>\n",
              "      <button class=\"colab-df-convert\" onclick=\"convertToInteractive('df-01dc8e02-13e5-481b-bfa2-5f618729fbc4')\"\n",
              "              title=\"Convert this dataframe to an interactive table.\"\n",
              "              style=\"display:none;\">\n",
              "        \n",
              "  <svg xmlns=\"http://www.w3.org/2000/svg\" height=\"24px\"viewBox=\"0 0 24 24\"\n",
              "       width=\"24px\">\n",
              "    <path d=\"M0 0h24v24H0V0z\" fill=\"none\"/>\n",
              "    <path d=\"M18.56 5.44l.94 2.06.94-2.06 2.06-.94-2.06-.94-.94-2.06-.94 2.06-2.06.94zm-11 1L8.5 8.5l.94-2.06 2.06-.94-2.06-.94L8.5 2.5l-.94 2.06-2.06.94zm10 10l.94 2.06.94-2.06 2.06-.94-2.06-.94-.94-2.06-.94 2.06-2.06.94z\"/><path d=\"M17.41 7.96l-1.37-1.37c-.4-.4-.92-.59-1.43-.59-.52 0-1.04.2-1.43.59L10.3 9.45l-7.72 7.72c-.78.78-.78 2.05 0 2.83L4 21.41c.39.39.9.59 1.41.59.51 0 1.02-.2 1.41-.59l7.78-7.78 2.81-2.81c.8-.78.8-2.07 0-2.86zM5.41 20L4 18.59l7.72-7.72 1.47 1.35L5.41 20z\"/>\n",
              "  </svg>\n",
              "      </button>\n",
              "      \n",
              "  <style>\n",
              "    .colab-df-container {\n",
              "      display:flex;\n",
              "      flex-wrap:wrap;\n",
              "      gap: 12px;\n",
              "    }\n",
              "\n",
              "    .colab-df-convert {\n",
              "      background-color: #E8F0FE;\n",
              "      border: none;\n",
              "      border-radius: 50%;\n",
              "      cursor: pointer;\n",
              "      display: none;\n",
              "      fill: #1967D2;\n",
              "      height: 32px;\n",
              "      padding: 0 0 0 0;\n",
              "      width: 32px;\n",
              "    }\n",
              "\n",
              "    .colab-df-convert:hover {\n",
              "      background-color: #E2EBFA;\n",
              "      box-shadow: 0px 1px 2px rgba(60, 64, 67, 0.3), 0px 1px 3px 1px rgba(60, 64, 67, 0.15);\n",
              "      fill: #174EA6;\n",
              "    }\n",
              "\n",
              "    [theme=dark] .colab-df-convert {\n",
              "      background-color: #3B4455;\n",
              "      fill: #D2E3FC;\n",
              "    }\n",
              "\n",
              "    [theme=dark] .colab-df-convert:hover {\n",
              "      background-color: #434B5C;\n",
              "      box-shadow: 0px 1px 3px 1px rgba(0, 0, 0, 0.15);\n",
              "      filter: drop-shadow(0px 1px 2px rgba(0, 0, 0, 0.3));\n",
              "      fill: #FFFFFF;\n",
              "    }\n",
              "  </style>\n",
              "\n",
              "      <script>\n",
              "        const buttonEl =\n",
              "          document.querySelector('#df-01dc8e02-13e5-481b-bfa2-5f618729fbc4 button.colab-df-convert');\n",
              "        buttonEl.style.display =\n",
              "          google.colab.kernel.accessAllowed ? 'block' : 'none';\n",
              "\n",
              "        async function convertToInteractive(key) {\n",
              "          const element = document.querySelector('#df-01dc8e02-13e5-481b-bfa2-5f618729fbc4');\n",
              "          const dataTable =\n",
              "            await google.colab.kernel.invokeFunction('convertToInteractive',\n",
              "                                                     [key], {});\n",
              "          if (!dataTable) return;\n",
              "\n",
              "          const docLinkHtml = 'Like what you see? Visit the ' +\n",
              "            '<a target=\"_blank\" href=https://colab.research.google.com/notebooks/data_table.ipynb>data table notebook</a>'\n",
              "            + ' to learn more about interactive tables.';\n",
              "          element.innerHTML = '';\n",
              "          dataTable['output_type'] = 'display_data';\n",
              "          await google.colab.output.renderOutput(dataTable, element);\n",
              "          const docLink = document.createElement('div');\n",
              "          docLink.innerHTML = docLinkHtml;\n",
              "          element.appendChild(docLink);\n",
              "        }\n",
              "      </script>\n",
              "    </div>\n",
              "  </div>\n",
              "  "
            ]
          },
          "metadata": {},
          "execution_count": 8
        }
      ]
    },
    {
      "cell_type": "code",
      "source": [
        "# 3.3 Introduce some more missing values in 'age_cat' and 'credit_amount_cat'\n",
        "#       else we find that there is no missing value in 'train' and only in 'test'\n",
        "\n",
        "df['age_cat'][[9,10,12]] = np.nan   # At index 9,10,12\n",
        "#df['credit_amount_cat'][[0]] = np.nan   # At index 0   # Do if required\n",
        "\n"
      ],
      "metadata": {
        "id": "UAkfgg4dQi-F"
      },
      "execution_count": null,
      "outputs": []
    },
    {
      "cell_type": "markdown",
      "source": [
        "### Strategy to fill in missing values"
      ],
      "metadata": {
        "id": "xzSbiF8p5YwG"
      }
    },
    {
      "cell_type": "code",
      "source": [
        "# 3.4 Some plots showing distributions\n",
        "#       These plots may help in deciding as how to impute\n",
        "#        missing values:\n",
        "\n",
        "fig,ax = plt.subplots(1,3, figsize = (10,5))\n",
        "sns.histplot(data = df, x = 'income', ax = ax[0]) ;\n",
        "sns.histplot(data = df, x = 'age', ax = ax[1]) ;\n",
        "sns.histplot(data = df, x = 'credit_amount', ax = ax[2]) ;"
      ],
      "metadata": {
        "colab": {
          "base_uri": "https://localhost:8080/",
          "height": 335
        },
        "id": "Pfi5iN-bFAo5",
        "outputId": "6cdbc3d1-041c-4f19-ead0-f152e3c118e4"
      },
      "execution_count": null,
      "outputs": [
        {
          "output_type": "display_data",
          "data": {
            "text/plain": [
              "<Figure size 720x360 with 3 Axes>"
            ],
            "image/png": "[encoded data removed]"
          },
          "metadata": {
            "needs_background": "light"
          }
        }
      ]
    },
    {
      "cell_type": "markdown",
      "source": [
        ""
      ],
      "metadata": {
        "id": "fasbGJXJnmBT"
      }
    },
    {
      "cell_type": "code",
      "source": [
        "# 3.4.1 Draw with plotly express\n",
        "#       https://plotly.com/python/plotly-express/\n",
        "\n",
        "fig = px.histogram(df,\n",
        "                  x=\"income\",\n",
        "                  marginal=\"rug\",\n",
        "                  hover_data=df.columns,\n",
        "                  width=400,\n",
        "                  height=400\n",
        "                  )\n",
        "\n",
        "fig.show()"
      ],
      "metadata": {
        "colab": {
          "base_uri": "https://localhost:8080/",
          "height": 417
        },
        "id": "13wTqzTGXhR6",
        "outputId": "73b05312-f2e9-4aaf-fb82-00f484267ed8"
      },
      "execution_count": null,
      "outputs": [
        {
          "output_type": "display_data",
          "data": {
            "text/html": [
              "<html>\n",
              "<head><meta charset=\"utf-8\" /></head>\n",
              "<body>\n",
              "    <div>            <script src=\"https://cdnjs.cloudflare.com/ajax/libs/mathjax/2.7.5/MathJax.js?config=TeX-AMS-MML_SVG\"></script><script type=\"text/javascript\">if (window.MathJax) {MathJax.Hub.Config({SVG: {font: \"STIX-Web\"}});}</script>                <script type=\"text/javascript\">window.PlotlyConfig = {MathJaxConfig: 'local'};</script>\n",
              "        <script src=\"https://cdn.plot.ly/plotly-2.8.3.min.js\"></script>                <div id=\"151d503b-e5fb-4dda-8ee5-6f4200668e7a\" class=\"plotly-graph-div\" style=\"height:400px; width:400px;\"></div>            <script type=\"text/javascript\">                                    window.PLOTLYENV=window.PLOTLYENV || {};                                    if (document.getElementById(\"151d503b-e5fb-4dda-8ee5-6f4200668e7a\")) {                    Plotly.newPlot(                        \"151d503b-e5fb-4dda-8ee5-6f4200668e7a\",                        [{\"alignmentgroup\":\"True\",\"bingroup\":\"x\",\"hovertemplate\":\"income=%{x}<br>count=%{y}<extra></extra>\",\"legendgroup\":\"\",\"marker\":{\"color\":\"#636efa\",\"pattern\":{\"shape\":\"\"}},\"name\":\"\",\"offsetgroup\":\"\",\"orientation\":\"v\",\"showlegend\":false,\"x\":[null,8.9,3.9,3.4,2.1,null,null,9.0,7.8,null,8.5,6.9,8.0,5.5],\"xaxis\":\"x\",\"yaxis\":\"y\",\"type\":\"histogram\"},{\"alignmentgroup\":\"True\",\"boxpoints\":\"all\",\"customdata\":[[\"no\",null,\"small\",null,null,null,null],[\"yes\",2.0,null,89.0,2323.0,\"3\",\"high\"],[\"no\",1.0,null,23.0,1010.0,\"1\",\"low\"],[\"yes\",1.0,null,45.0,3211.0,\"1\",\"high\"],[\"yes\",1.0,\"big\",50.0,1000.0,\"2\",\"low\"],[\"yes\",1.0,\"big\",50.0,1011.0,\"2\",\"low\"],[\"no\",2.0,\"big\",90.0,1212.0,null,\"low\"],[\"no\",2.0,\"big\",70.0,1782.0,null,\"high\"],[\"yes\",2.0,\"small\",45.0,null,\"1\",null],[\"no\",2.0,\"big\",65.0,1500.0,\"2\",\"medium\"],[\"no\",null,null,60.0,1232.0,null,\"medium\"],[\"no\",1.0,\"small\",70.0,1300.0,\"3\",\"medium\"],[\"no\",null,\"small\",52.0,null,\"2\",null],[\"yes\",null,\"small\",54.0,null,\"2\",null]],\"fillcolor\":\"rgba(255,255,255,0)\",\"hoveron\":\"points\",\"hovertemplate\":\"income=%{x}<br>creditability=%{customdata[0]}<br>acc_balance=%{customdata[1]}<br>house_owned=%{customdata[2]}<br>age=%{customdata[3]}<br>credit_amount=%{customdata[4]}<br>age_cat=%{customdata[5]}<br>credit_amount_cat=%{customdata[6]}<extra></extra>\",\"jitter\":0,\"legendgroup\":\"\",\"line\":{\"color\":\"rgba(255,255,255,0)\"},\"marker\":{\"color\":\"#636efa\",\"symbol\":\"line-ns-open\"},\"name\":\"\",\"offsetgroup\":\"\",\"showlegend\":false,\"x\":[null,8.9,3.9,3.4,2.1,null,null,9.0,7.8,null,8.5,6.9,8.0,5.5],\"xaxis\":\"x2\",\"yaxis\":\"y2\",\"type\":\"box\"}],                        {\"template\":{\"data\":{\"bar\":[{\"error_x\":{\"color\":\"#2a3f5f\"},\"error_y\":{\"color\":\"#2a3f5f\"},\"marker\":{\"line\":{\"color\":\"#E5ECF6\",\"width\":0.5},\"pattern\":{\"fillmode\":\"overlay\",\"size\":10,\"solidity\":0.2}},\"type\":\"bar\"}],\"barpolar\":[{\"marker\":{\"line\":{\"color\":\"#E5ECF6\",\"width\":0.5},\"pattern\":{\"fillmode\":\"overlay\",\"size\":10,\"solidity\":0.2}},\"type\":\"barpolar\"}],\"carpet\":[{\"aaxis\":{\"endlinecolor\":\"#2a3f5f\",\"gridcolor\":\"white\",\"linecolor\":\"white\",\"minorgridcolor\":\"white\",\"startlinecolor\":\"#2a3f5f\"},\"baxis\":{\"endlinecolor\":\"#2a3f5f\",\"gridcolor\":\"white\",\"linecolor\":\"white\",\"minorgridcolor\":\"white\",\"startlinecolor\":\"#2a3f5f\"},\"type\":\"carpet\"}],\"choropleth\":[{\"colorbar\":{\"outlinewidth\":0,\"ticks\":\"\"},\"type\":\"choropleth\"}],\"contour\":[{\"colorbar\":{\"outlinewidth\":0,\"ticks\":\"\"},\"colorscale\":[[0.0,\"#0d0887\"],[0.1111111111111111,\"#46039f\"],[0.2222222222222222,\"#7201a8\"],[0.3333333333333333,\"#9c179e\"],[0.4444444444444444,\"#bd3786\"],[0.5555555555555556,\"#d8576b\"],[0.6666666666666666,\"#ed7953\"],[0.7777777777777778,\"#fb9f3a\"],[0.8888888888888888,\"#fdca26\"],[1.0,\"#f0f921\"]],\"type\":\"contour\"}],\"contourcarpet\":[{\"colorbar\":{\"outlinewidth\":0,\"ticks\":\"\"},\"type\":\"contourcarpet\"}],\"heatmap\":[{\"colorbar\":{\"outlinewidth\":0,\"ticks\":\"\"},\"colorscale\":[[0.0,\"#0d0887\"],[0.1111111111111111,\"#46039f\"],[0.2222222222222222,\"#7201a8\"],[0.3333333333333333,\"#9c179e\"],[0.4444444444444444,\"#bd3786\"],[0.5555555555555556,\"#d8576b\"],[0.6666666666666666,\"#ed7953\"],[0.7777777777777778,\"#fb9f3a\"],[0.8888888888888888,\"#fdca26\"],[1.0,\"#f0f921\"]],\"type\":\"heatmap\"}],\"heatmapgl\":[{\"colorbar\":{\"outlinewidth\":0,\"ticks\":\"\"},\"colorscale\":[[0.0,\"#0d0887\"],[0.1111111111111111,\"#46039f\"],[0.2222222222222222,\"#7201a8\"],[0.3333333333333333,\"#9c179e\"],[0.4444444444444444,\"#bd3786\"],[0.5555555555555556,\"#d8576b\"],[0.6666666666666666,\"#ed7953\"],[0.7777777777777778,\"#fb9f3a\"],[0.8888888888888888,\"#fdca26\"],[1.0,\"#f0f921\"]],\"type\":\"heatmapgl\"}],\"histogram\":[{\"marker\":{\"pattern\":{\"fillmode\":\"overlay\",\"size\":10,\"solidity\":0.2}},\"type\":\"histogram\"}],\"histogram2d\":[{\"colorbar\":{\"outlinewidth\":0,\"ticks\":\"\"},\"colorscale\":[[0.0,\"#0d0887\"],[0.1111111111111111,\"#46039f\"],[0.2222222222222222,\"#7201a8\"],[0.3333333333333333,\"#9c179e\"],[0.4444444444444444,\"#bd3786\"],[0.5555555555555556,\"#d8576b\"],[0.6666666666666666,\"#ed7953\"],[0.7777777777777778,\"#fb9f3a\"],[0.8888888888888888,\"#fdca26\"],[1.0,\"#f0f921\"]],\"type\":\"histogram2d\"}],\"histogram2dcontour\":[{\"colorbar\":{\"outlinewidth\":0,\"ticks\":\"\"},\"colorscale\":[[0.0,\"#0d0887\"],[0.1111111111111111,\"#46039f\"],[0.2222222222222222,\"#7201a8\"],[0.3333333333333333,\"#9c179e\"],[0.4444444444444444,\"#bd3786\"],[0.5555555555555556,\"#d8576b\"],[0.6666666666666666,\"#ed7953\"],[0.7777777777777778,\"#fb9f3a\"],[0.8888888888888888,\"#fdca26\"],[1.0,\"#f0f921\"]],\"type\":\"histogram2dcontour\"}],\"mesh3d\":[{\"colorbar\":{\"outlinewidth\":0,\"ticks\":\"\"},\"type\":\"mesh3d\"}],\"parcoords\":[{\"line\":{\"colorbar\":{\"outlinewidth\":0,\"ticks\":\"\"}},\"type\":\"parcoords\"}],\"pie\":[{\"automargin\":true,\"type\":\"pie\"}],\"scatter\":[{\"marker\":{\"colorbar\":{\"outlinewidth\":0,\"ticks\":\"\"}},\"type\":\"scatter\"}],\"scatter3d\":[{\"line\":{\"colorbar\":{\"outlinewidth\":0,\"ticks\":\"\"}},\"marker\":{\"colorbar\":{\"outlinewidth\":0,\"ticks\":\"\"}},\"type\":\"scatter3d\"}],\"scattercarpet\":[{\"marker\":{\"colorbar\":{\"outlinewidth\":0,\"ticks\":\"\"}},\"type\":\"scattercarpet\"}],\"scattergeo\":[{\"marker\":{\"colorbar\":{\"outlinewidth\":0,\"ticks\":\"\"}},\"type\":\"scattergeo\"}],\"scattergl\":[{\"marker\":{\"colorbar\":{\"outlinewidth\":0,\"ticks\":\"\"}},\"type\":\"scattergl\"}],\"scattermapbox\":[{\"marker\":{\"colorbar\":{\"outlinewidth\":0,\"ticks\":\"\"}},\"type\":\"scattermapbox\"}],\"scatterpolar\":[{\"marker\":{\"colorbar\":{\"outlinewidth\":0,\"ticks\":\"\"}},\"type\":\"scatterpolar\"}],\"scatterpolargl\":[{\"marker\":{\"colorbar\":{\"outlinewidth\":0,\"ticks\":\"\"}},\"type\":\"scatterpolargl\"}],\"scatterternary\":[{\"marker\":{\"colorbar\":{\"outlinewidth\":0,\"ticks\":\"\"}},\"type\":\"scatterternary\"}],\"surface\":[{\"colorbar\":{\"outlinewidth\":0,\"ticks\":\"\"},\"colorscale\":[[0.0,\"#0d0887\"],[0.1111111111111111,\"#46039f\"],[0.2222222222222222,\"#7201a8\"],[0.3333333333333333,\"#9c179e\"],[0.4444444444444444,\"#bd3786\"],[0.5555555555555556,\"#d8576b\"],[0.6666666666666666,\"#ed7953\"],[0.7777777777777778,\"#fb9f3a\"],[0.8888888888888888,\"#fdca26\"],[1.0,\"#f0f921\"]],\"type\":\"surface\"}],\"table\":[{\"cells\":{\"fill\":{\"color\":\"#EBF0F8\"},\"line\":{\"color\":\"white\"}},\"header\":{\"fill\":{\"color\":\"#C8D4E3\"},\"line\":{\"color\":\"white\"}},\"type\":\"table\"}]},\"layout\":{\"annotationdefaults\":{\"arrowcolor\":\"#2a3f5f\",\"arrowhead\":0,\"arrowwidth\":1},\"autotypenumbers\":\"strict\",\"coloraxis\":{\"colorbar\":{\"outlinewidth\":0,\"ticks\":\"\"}},\"colorscale\":{\"diverging\":[[0,\"#8e0152\"],[0.1,\"#c51b7d\"],[0.2,\"#de77ae\"],[0.3,\"#f1b6da\"],[0.4,\"#fde0ef\"],[0.5,\"#f7f7f7\"],[0.6,\"#e6f5d0\"],[0.7,\"#b8e186\"],[0.8,\"#7fbc41\"],[0.9,\"#4d9221\"],[1,\"#276419\"]],\"sequential\":[[0.0,\"#0d0887\"],[0.1111111111111111,\"#46039f\"],[0.2222222222222222,\"#7201a8\"],[0.3333333333333333,\"#9c179e\"],[0.4444444444444444,\"#bd3786\"],[0.5555555555555556,\"#d8576b\"],[0.6666666666666666,\"#ed7953\"],[0.7777777777777778,\"#fb9f3a\"],[0.8888888888888888,\"#fdca26\"],[1.0,\"#f0f921\"]],\"sequentialminus\":[[0.0,\"#0d0887\"],[0.1111111111111111,\"#46039f\"],[0.2222222222222222,\"#7201a8\"],[0.3333333333333333,\"#9c179e\"],[0.4444444444444444,\"#bd3786\"],[0.5555555555555556,\"#d8576b\"],[0.6666666666666666,\"#ed7953\"],[0.7777777777777778,\"#fb9f3a\"],[0.8888888888888888,\"#fdca26\"],[1.0,\"#f0f921\"]]},\"colorway\":[\"#636efa\",\"#EF553B\",\"#00cc96\",\"#ab63fa\",\"#FFA15A\",\"#19d3f3\",\"#FF6692\",\"#B6E880\",\"#FF97FF\",\"#FECB52\"],\"font\":{\"color\":\"#2a3f5f\"},\"geo\":{\"bgcolor\":\"white\",\"lakecolor\":\"white\",\"landcolor\":\"#E5ECF6\",\"showlakes\":true,\"showland\":true,\"subunitcolor\":\"white\"},\"hoverlabel\":{\"align\":\"left\"},\"hovermode\":\"closest\",\"mapbox\":{\"style\":\"light\"},\"paper_bgcolor\":\"white\",\"plot_bgcolor\":\"#E5ECF6\",\"polar\":{\"angularaxis\":{\"gridcolor\":\"white\",\"linecolor\":\"white\",\"ticks\":\"\"},\"bgcolor\":\"#E5ECF6\",\"radialaxis\":{\"gridcolor\":\"white\",\"linecolor\":\"white\",\"ticks\":\"\"}},\"scene\":{\"xaxis\":{\"backgroundcolor\":\"#E5ECF6\",\"gridcolor\":\"white\",\"gridwidth\":2,\"linecolor\":\"white\",\"showbackground\":true,\"ticks\":\"\",\"zerolinecolor\":\"white\"},\"yaxis\":{\"backgroundcolor\":\"#E5ECF6\",\"gridcolor\":\"white\",\"gridwidth\":2,\"linecolor\":\"white\",\"showbackground\":true,\"ticks\":\"\",\"zerolinecolor\":\"white\"},\"zaxis\":{\"backgroundcolor\":\"#E5ECF6\",\"gridcolor\":\"white\",\"gridwidth\":2,\"linecolor\":\"white\",\"showbackground\":true,\"ticks\":\"\",\"zerolinecolor\":\"white\"}},\"shapedefaults\":{\"line\":{\"color\":\"#2a3f5f\"}},\"ternary\":{\"aaxis\":{\"gridcolor\":\"white\",\"linecolor\":\"white\",\"ticks\":\"\"},\"baxis\":{\"gridcolor\":\"white\",\"linecolor\":\"white\",\"ticks\":\"\"},\"bgcolor\":\"#E5ECF6\",\"caxis\":{\"gridcolor\":\"white\",\"linecolor\":\"white\",\"ticks\":\"\"}},\"title\":{\"x\":0.05},\"xaxis\":{\"automargin\":true,\"gridcolor\":\"white\",\"linecolor\":\"white\",\"ticks\":\"\",\"title\":{\"standoff\":15},\"zerolinecolor\":\"white\",\"zerolinewidth\":2},\"yaxis\":{\"automargin\":true,\"gridcolor\":\"white\",\"linecolor\":\"white\",\"ticks\":\"\",\"title\":{\"standoff\":15},\"zerolinecolor\":\"white\",\"zerolinewidth\":2}}},\"xaxis\":{\"anchor\":\"y\",\"domain\":[0.0,1.0],\"title\":{\"text\":\"income\"}},\"yaxis\":{\"anchor\":\"x\",\"domain\":[0.0,0.8316],\"title\":{\"text\":\"count\"}},\"xaxis2\":{\"anchor\":\"y2\",\"domain\":[0.0,1.0],\"matches\":\"x\",\"showticklabels\":false,\"showgrid\":true},\"yaxis2\":{\"anchor\":\"x2\",\"domain\":[0.8416,1.0],\"matches\":\"y2\",\"showticklabels\":false,\"showline\":false,\"ticks\":\"\",\"showgrid\":false},\"legend\":{\"tracegroupgap\":0},\"margin\":{\"t\":60},\"barmode\":\"relative\",\"height\":400,\"width\":400},                        {\"responsive\": true}                    ).then(function(){\n",
              "                            \n",
              "var gd = document.getElementById('151d503b-e5fb-4dda-8ee5-6f4200668e7a');\n",
              "var x = new MutationObserver(function (mutations, observer) {{\n",
              "        var display = window.getComputedStyle(gd).display;\n",
              "        if (!display || display === 'none') {{\n",
              "            console.log([gd, 'removed!']);\n",
              "            Plotly.purge(gd);\n",
              "            observer.disconnect();\n",
              "        }}\n",
              "}});\n",
              "\n",
              "// Listen for the removal of the full notebook cells\n",
              "var notebookContainer = gd.closest('#notebook-container');\n",
              "if (notebookContainer) {{\n",
              "    x.observe(notebookContainer, {childList: true});\n",
              "}}\n",
              "\n",
              "// Listen for the clearing of the current output cell\n",
              "var outputEl = gd.closest('.output');\n",
              "if (outputEl) {{\n",
              "    x.observe(outputEl, {childList: true});\n",
              "}}\n",
              "\n",
              "                        })                };                            </script>        </div>\n",
              "</body>\n",
              "</html>"
            ]
          },
          "metadata": {}
        }
      ]
    },
    {
      "cell_type": "markdown",
      "metadata": {
        "id": "EdzkFAaw2aTF"
      },
      "source": [
        "### Data splitting\n",
        "(#3.3--#4.1)<br>\n",
        "i)  Separate predictors and target.  \n",
        "ii) Create train/test data<br>\n",
        "iii)Develop all pre-processing models in train and apply on test"
      ]
    },
    {
      "cell_type": "code",
      "metadata": {
        "id": "IK22CYOL2aTG",
        "colab": {
          "base_uri": "https://localhost:8080/"
        },
        "outputId": "d469abe4-c2e1-4f30-e363-78d536e72470"
      },
      "source": [
        "# 3.5    Popout target\n",
        "#        to separate predictors and target\n",
        "\n",
        "y = df.pop('creditability')\n",
        "y[:3]      # Pandas Series\n",
        "\n",
        "# 3.4   Create an alias of predictors dataset \n",
        "X = df     # X is another name for df\n",
        "X.shape    # (13,7)"
      ],
      "execution_count": null,
      "outputs": [
        {
          "output_type": "execute_result",
          "data": {
            "text/plain": [
              "13     no\n",
              "5     yes\n",
              "6      no\n",
              "Name: creditability, dtype: object"
            ]
          },
          "metadata": {},
          "execution_count": 12
        },
        {
          "output_type": "execute_result",
          "data": {
            "text/plain": [
              "(14, 7)"
            ]
          },
          "metadata": {},
          "execution_count": 12
        }
      ]
    },
    {
      "cell_type": "code",
      "metadata": {
        "id": "Hi7ZJdaT2aTG",
        "colab": {
          "base_uri": "https://localhost:8080/",
          "height": 91
        },
        "outputId": "74be9fc8-a975-407e-a3ef-0f5ffcc711c2"
      },
      "source": [
        "# 4.0 Split dataset. We will preprocess X_train and apply that\n",
        "#     processing to X_test later\n",
        "X_train,X_test, y_train, y_test = train_test_split(\n",
        "                                                    X,                   # Data features\n",
        "                                                    y,                   # Target column\n",
        "                                                    test_size = 0.2      # split-ratio\n",
        "                                                    )\n",
        "\n",
        "\n",
        "# 4.1 Note the use of f-string for printing\n",
        "f\"X_train shape: {X_train.shape}\"    # (11,7)\n",
        "print()\n",
        "f\"X_test.shape : {X_test.shape}\"     # (3,7)\n",
        "print()\n",
        "f\"y_train shape: {y_train.shape}\"    # (11,)\n",
        "print()\n",
        "f\"y_test shape : {y_test.shape}\"     # (3,)"
      ],
      "execution_count": null,
      "outputs": [
        {
          "output_type": "execute_result",
          "data": {
            "text/plain": [
              "'X_train shape: (11, 7)'"
            ],
            "application/vnd.google.colaboratory.intrinsic+json": {
              "type": "string"
            }
          },
          "metadata": {},
          "execution_count": 13
        },
        {
          "output_type": "stream",
          "name": "stdout",
          "text": [
            "\n"
          ]
        },
        {
          "output_type": "execute_result",
          "data": {
            "text/plain": [
              "'X_test.shape : (3, 7)'"
            ],
            "application/vnd.google.colaboratory.intrinsic+json": {
              "type": "string"
            }
          },
          "metadata": {},
          "execution_count": 13
        },
        {
          "output_type": "stream",
          "name": "stdout",
          "text": [
            "\n"
          ]
        },
        {
          "output_type": "execute_result",
          "data": {
            "text/plain": [
              "'y_train shape: (11,)'"
            ],
            "application/vnd.google.colaboratory.intrinsic+json": {
              "type": "string"
            }
          },
          "metadata": {},
          "execution_count": 13
        },
        {
          "output_type": "stream",
          "name": "stdout",
          "text": [
            "\n"
          ]
        },
        {
          "output_type": "execute_result",
          "data": {
            "text/plain": [
              "'y_test shape : (3,)'"
            ],
            "application/vnd.google.colaboratory.intrinsic+json": {
              "type": "string"
            }
          },
          "metadata": {},
          "execution_count": 13
        }
      ]
    },
    {
      "cell_type": "markdown",
      "metadata": {
        "id": "nMG6vGL62aTI"
      },
      "source": [
        "### Separate out categorical and numerical features\n",
        "Any (integer) feature with less than 5 unique-values is categorical. Here is how we process:\n",
        "\n",
        "I. Get a list of `cat_cols` and `num_cols`.\n",
        "\n",
        "II. Categorical features processing:\n",
        "-  Imputation \n",
        "> - Impute with most-frequent value\n",
        "> - Impute with a constant value\n",
        "- Encoding\n",
        "> -  Target encoding of target only\n",
        "> -  OneHotEncoding of rest features\n",
        "\n",
        "III. Numeric features processing\n",
        "-  Imputation \n",
        "> - Impute with median\n",
        "> - Impute with mean\n",
        "- Scaling\n",
        "> -  Min-Max or StandardScaling"
      ]
    },
    {
      "cell_type": "code",
      "metadata": {
        "id": "QTPkGJ992aTJ",
        "colab": {
          "base_uri": "https://localhost:8080/"
        },
        "outputId": "57001820-a257-481c-c880-ea9730092322"
      },
      "source": [
        "### 4.3\n",
        "###    Which columns are categorical\n",
        "###    but disguised as integers\n",
        "\n",
        "# 4.3 How many unique values per column.\n",
        "#     Check every column\n",
        "#     We will assume that if number of unique values\n",
        "#      are 4 or less it is categorical column else numeric\n",
        "\n",
        "print(\"\\n--Unique values in each column\")\n",
        "X_train.nunique()        # Total no of unique values in each column\n",
        "\n",
        "# 4.4 If no. of unique values less than 5, it is categorical\n",
        "print(\"\\n\\n--All 'True' are Categorical----\")\n",
        "X_train.nunique() < 5    # All True are categorical\n"
      ],
      "execution_count": null,
      "outputs": [
        {
          "output_type": "stream",
          "name": "stdout",
          "text": [
            "\n",
            "--Unique values in each column\n"
          ]
        },
        {
          "output_type": "execute_result",
          "data": {
            "text/plain": [
              "acc_balance           2\n",
              "house_owned           2\n",
              "age                  10\n",
              "income                7\n",
              "credit_amount         7\n",
              "age_cat               3\n",
              "credit_amount_cat     3\n",
              "dtype: int64"
            ]
          },
          "metadata": {},
          "execution_count": 14
        },
        {
          "output_type": "stream",
          "name": "stdout",
          "text": [
            "\n",
            "\n",
            "--All 'True' are Categorical----\n"
          ]
        },
        {
          "output_type": "execute_result",
          "data": {
            "text/plain": [
              "acc_balance           True\n",
              "house_owned           True\n",
              "age                  False\n",
              "income               False\n",
              "credit_amount        False\n",
              "age_cat               True\n",
              "credit_amount_cat     True\n",
              "dtype: bool"
            ]
          },
          "metadata": {},
          "execution_count": 14
        }
      ]
    },
    {
      "cell_type": "code",
      "metadata": {
        "id": "eXVNP9iD2aTJ",
        "colab": {
          "base_uri": "https://localhost:8080/"
        },
        "outputId": "293c4159-aa26-4ea7-9d86-3e9a7be8ec08"
      },
      "source": [
        "# 4.5 Extract list of cat_cols and num_cols:\n",
        "\n",
        "# 4.6 First note which are cat and which are num\n",
        "dg = X_train.nunique() < 5  \n",
        "dg"
      ],
      "execution_count": null,
      "outputs": [
        {
          "output_type": "execute_result",
          "data": {
            "text/plain": [
              "acc_balance           True\n",
              "house_owned           True\n",
              "age                  False\n",
              "income               False\n",
              "credit_amount        False\n",
              "age_cat               True\n",
              "credit_amount_cat     True\n",
              "dtype: bool"
            ]
          },
          "metadata": {},
          "execution_count": 15
        }
      ]
    },
    {
      "cell_type": "code",
      "source": [
        "# 4.7 Then get column names from Series index\n",
        "#     Use 'dg' also as mask\n",
        "\n",
        "cat_cols = dg[dg==True].index.tolist()\n",
        "cat_cols\n",
        "num_cols = dg[dg==False].index.tolist()\n",
        "num_cols"
      ],
      "metadata": {
        "id": "2EHTyH5McQV4",
        "colab": {
          "base_uri": "https://localhost:8080/"
        },
        "outputId": "94156ec0-38d5-4abf-d85e-c88b3217fceb"
      },
      "execution_count": null,
      "outputs": [
        {
          "output_type": "execute_result",
          "data": {
            "text/plain": [
              "['acc_balance', 'house_owned', 'age_cat', 'credit_amount_cat']"
            ]
          },
          "metadata": {},
          "execution_count": 16
        },
        {
          "output_type": "execute_result",
          "data": {
            "text/plain": [
              "['age', 'income', 'credit_amount']"
            ]
          },
          "metadata": {},
          "execution_count": 16
        }
      ]
    },
    {
      "cell_type": "markdown",
      "metadata": {
        "id": "_gqBvmM7QnBy"
      },
      "source": [
        "#### Further sub-divide `num_cols`\n",
        "(To facilitate imputation)"
      ]
    },
    {
      "cell_type": "code",
      "metadata": {
        "id": "kG62VK5_2aTK"
      },
      "source": [
        "# 4.8 We will create two subsets of num_cols\n",
        "#      One set we will impute using 'mean' \n",
        "#       and the other using 'median'\n",
        "\n",
        "num_cols_mean   = ['age']\n",
        "num_cols_median = ['income', 'credit_amount']"
      ],
      "execution_count": null,
      "outputs": []
    },
    {
      "cell_type": "markdown",
      "metadata": {
        "id": "E8I1X0J7Qgas"
      },
      "source": [
        "#### Further sub-divide `cat_cols`\n",
        "To facilitate cat_cols\n",
        "\n"
      ]
    },
    {
      "cell_type": "code",
      "metadata": {
        "id": "kXHseoUP2aTL"
      },
      "source": [
        "# 4.9 Further sub-divide cat_cols\n",
        "#      We will create two sets of cat_cols\n",
        "#      One set we will fill with 'most_frequent'\n",
        "#       and the other using a constant value\n",
        "\n",
        "cat_cols_mf       = ['acc_balance', 'house_owned']       # 'most_frequent' fill\n",
        "cat_cols_const    = ['age_cat', 'credit_amount_cat']     # 'constant' fill"
      ],
      "execution_count": null,
      "outputs": []
    },
    {
      "cell_type": "markdown",
      "metadata": {
        "id": "_jlTQ1GhTTJP"
      },
      "source": [
        "#### Our four data subsets\n",
        "> Numeric with mean imputation: `num_cols_mean`<br>\n",
        "> Numeric with nedian imputation: `num_cols_median`<br>\n",
        "> Categorical with mode imputation: `cat_cols_mf`<br>\n",
        "> Categorical with constant imputation: `cat_cols_const`<br>"
      ]
    },
    {
      "cell_type": "code",
      "metadata": {
        "id": "1MDgY2hp2aTL",
        "colab": {
          "base_uri": "https://localhost:8080/",
          "height": 1000
        },
        "outputId": "6d247cee-1432-445c-dd0d-fa8062ec24bb"
      },
      "source": [
        "# 4.11 So we have four datasets for imputing.\n",
        "#      Have a look:\n",
        "print(\"--num_cols_mean-->\")\n",
        "X_train[num_cols_mean]              # Num dataset, impute by 'mean'   strategy\n",
        "print(print(\"\\n--num_cols_median-->\"))\n",
        "X_train[num_cols_median]            # Num dataset, impute by 'median' strategy\n",
        "print(\"\\n--cat_cols_mf-->\")\n",
        "X_train[cat_cols_mf]                # Cat dataset, impute by 'most_frequent' strategy\n",
        "print(\"\\n--cat_cols_const-->\")\n",
        "X_train[cat_cols_const]             # Cat dataset, impute by 'constant' strategy"
      ],
      "execution_count": null,
      "outputs": [
        {
          "output_type": "stream",
          "name": "stdout",
          "text": [
            "--num_cols_mean-->\n"
          ]
        },
        {
          "output_type": "execute_result",
          "data": {
            "text/plain": [
              "     age\n",
              "5   89.0\n",
              "7   65.0\n",
              "12  60.0\n",
              "13   NaN\n",
              "11  52.0\n",
              "8   70.0\n",
              "0   50.0\n",
              "1   45.0\n",
              "3   54.0\n",
              "10  90.0\n",
              "6   23.0"
            ],
            "text/html": [
              "\n",
              "  <div id=\"df-0f84fd6f-0ba2-421d-bdc9-3e19c69c6431\">\n",
              "    <div class=\"colab-df-container\">\n",
              "      <div>\n",
              "<style scoped>\n",
              "    .dataframe tbody tr th:only-of-type {\n",
              "        vertical-align: middle;\n",
              "    }\n",
              "\n",
              "    .dataframe tbody tr th {\n",
              "        vertical-align: top;\n",
              "    }\n",
              "\n",
              "    .dataframe thead th {\n",
              "        text-align: right;\n",
              "    }\n",
              "</style>\n",
              "<table border=\"1\" class=\"dataframe\">\n",
              "  <thead>\n",
              "    <tr style=\"text-align: right;\">\n",
              "      <th></th>\n",
              "      <th>age</th>\n",
              "    </tr>\n",
              "  </thead>\n",
              "  <tbody>\n",
              "    <tr>\n",
              "      <th>5</th>\n",
              "      <td>89.0</td>\n",
              "    </tr>\n",
              "    <tr>\n",
              "      <th>7</th>\n",
              "      <td>65.0</td>\n",
              "    </tr>\n",
              "    <tr>\n",
              "      <th>12</th>\n",
              "      <td>60.0</td>\n",
              "    </tr>\n",
              "    <tr>\n",
              "      <th>13</th>\n",
              "      <td>NaN</td>\n",
              "    </tr>\n",
              "    <tr>\n",
              "      <th>11</th>\n",
              "      <td>52.0</td>\n",
              "    </tr>\n",
              "    <tr>\n",
              "      <th>8</th>\n",
              "      <td>70.0</td>\n",
              "    </tr>\n",
              "    <tr>\n",
              "      <th>0</th>\n",
              "      <td>50.0</td>\n",
              "    </tr>\n",
              "    <tr>\n",
              "      <th>1</th>\n",
              "      <td>45.0</td>\n",
              "    </tr>\n",
              "    <tr>\n",
              "      <th>3</th>\n",
              "      <td>54.0</td>\n",
              "    </tr>\n",
              "    <tr>\n",
              "      <th>10</th>\n",
              "      <td>90.0</td>\n",
              "    </tr>\n",
              "    <tr>\n",
              "      <th>6</th>\n",
              "      <td>23.0</td>\n",
              "    </tr>\n",
              "  </tbody>\n",
              "</table>\n",
              "</div>\n",
              "      <button class=\"colab-df-convert\" onclick=\"convertToInteractive('df-0f84fd6f-0ba2-421d-bdc9-3e19c69c6431')\"\n",
              "              title=\"Convert this dataframe to an interactive table.\"\n",
              "              style=\"display:none;\">\n",
              "        \n",
              "  <svg xmlns=\"http://www.w3.org/2000/svg\" height=\"24px\"viewBox=\"0 0 24 24\"\n",
              "       width=\"24px\">\n",
              "    <path d=\"M0 0h24v24H0V0z\" fill=\"none\"/>\n",
              "    <path d=\"M18.56 5.44l.94 2.06.94-2.06 2.06-.94-2.06-.94-.94-2.06-.94 2.06-2.06.94zm-11 1L8.5 8.5l.94-2.06 2.06-.94-2.06-.94L8.5 2.5l-.94 2.06-2.06.94zm10 10l.94 2.06.94-2.06 2.06-.94-2.06-.94-.94-2.06-.94 2.06-2.06.94z\"/><path d=\"M17.41 7.96l-1.37-1.37c-.4-.4-.92-.59-1.43-.59-.52 0-1.04.2-1.43.59L10.3 9.45l-7.72 7.72c-.78.78-.78 2.05 0 2.83L4 21.41c.39.39.9.59 1.41.59.51 0 1.02-.2 1.41-.59l7.78-7.78 2.81-2.81c.8-.78.8-2.07 0-2.86zM5.41 20L4 18.59l7.72-7.72 1.47 1.35L5.41 20z\"/>\n",
              "  </svg>\n",
              "      </button>\n",
              "      \n",
              "  <style>\n",
              "    .colab-df-container {\n",
              "      display:flex;\n",
              "      flex-wrap:wrap;\n",
              "      gap: 12px;\n",
              "    }\n",
              "\n",
              "    .colab-df-convert {\n",
              "      background-color: #E8F0FE;\n",
              "      border: none;\n",
              "      border-radius: 50%;\n",
              "      cursor: pointer;\n",
              "      display: none;\n",
              "      fill: #1967D2;\n",
              "      height: 32px;\n",
              "      padding: 0 0 0 0;\n",
              "      width: 32px;\n",
              "    }\n",
              "\n",
              "    .colab-df-convert:hover {\n",
              "      background-color: #E2EBFA;\n",
              "      box-shadow: 0px 1px 2px rgba(60, 64, 67, 0.3), 0px 1px 3px 1px rgba(60, 64, 67, 0.15);\n",
              "      fill: #174EA6;\n",
              "    }\n",
              "\n",
              "    [theme=dark] .colab-df-convert {\n",
              "      background-color: #3B4455;\n",
              "      fill: #D2E3FC;\n",
              "    }\n",
              "\n",
              "    [theme=dark] .colab-df-convert:hover {\n",
              "      background-color: #434B5C;\n",
              "      box-shadow: 0px 1px 3px 1px rgba(0, 0, 0, 0.15);\n",
              "      filter: drop-shadow(0px 1px 2px rgba(0, 0, 0, 0.3));\n",
              "      fill: #FFFFFF;\n",
              "    }\n",
              "  </style>\n",
              "\n",
              "      <script>\n",
              "        const buttonEl =\n",
              "          document.querySelector('#df-0f84fd6f-0ba2-421d-bdc9-3e19c69c6431 button.colab-df-convert');\n",
              "        buttonEl.style.display =\n",
              "          google.colab.kernel.accessAllowed ? 'block' : 'none';\n",
              "\n",
              "        async function convertToInteractive(key) {\n",
              "          const element = document.querySelector('#df-0f84fd6f-0ba2-421d-bdc9-3e19c69c6431');\n",
              "          const dataTable =\n",
              "            await google.colab.kernel.invokeFunction('convertToInteractive',\n",
              "                                                     [key], {});\n",
              "          if (!dataTable) return;\n",
              "\n",
              "          const docLinkHtml = 'Like what you see? Visit the ' +\n",
              "            '<a target=\"_blank\" href=https://colab.research.google.com/notebooks/data_table.ipynb>data table notebook</a>'\n",
              "            + ' to learn more about interactive tables.';\n",
              "          element.innerHTML = '';\n",
              "          dataTable['output_type'] = 'display_data';\n",
              "          await google.colab.output.renderOutput(dataTable, element);\n",
              "          const docLink = document.createElement('div');\n",
              "          docLink.innerHTML = docLinkHtml;\n",
              "          element.appendChild(docLink);\n",
              "        }\n",
              "      </script>\n",
              "    </div>\n",
              "  </div>\n",
              "  "
            ]
          },
          "metadata": {},
          "execution_count": 19
        },
        {
          "output_type": "stream",
          "name": "stdout",
          "text": [
            "\n",
            "--num_cols_median-->\n",
            "None\n"
          ]
        },
        {
          "output_type": "execute_result",
          "data": {
            "text/plain": [
              "    income  credit_amount\n",
              "5      8.9         2323.0\n",
              "7      NaN         1500.0\n",
              "12     8.5         1232.0\n",
              "13     NaN            NaN\n",
              "11     8.0            NaN\n",
              "8      6.9         1300.0\n",
              "0      NaN         1011.0\n",
              "1      7.8            NaN\n",
              "3      5.5            NaN\n",
              "10     NaN         1212.0\n",
              "6      3.9         1010.0"
            ],
            "text/html": [
              "\n",
              "  <div id=\"df-2435d7f1-c2c3-48d6-ae73-4e9bd3a93ff6\">\n",
              "    <div class=\"colab-df-container\">\n",
              "      <div>\n",
              "<style scoped>\n",
              "    .dataframe tbody tr th:only-of-type {\n",
              "        vertical-align: middle;\n",
              "    }\n",
              "\n",
              "    .dataframe tbody tr th {\n",
              "        vertical-align: top;\n",
              "    }\n",
              "\n",
              "    .dataframe thead th {\n",
              "        text-align: right;\n",
              "    }\n",
              "</style>\n",
              "<table border=\"1\" class=\"dataframe\">\n",
              "  <thead>\n",
              "    <tr style=\"text-align: right;\">\n",
              "      <th></th>\n",
              "      <th>income</th>\n",
              "      <th>credit_amount</th>\n",
              "    </tr>\n",
              "  </thead>\n",
              "  <tbody>\n",
              "    <tr>\n",
              "      <th>5</th>\n",
              "      <td>8.9</td>\n",
              "      <td>2323.0</td>\n",
              "    </tr>\n",
              "    <tr>\n",
              "      <th>7</th>\n",
              "      <td>NaN</td>\n",
              "      <td>1500.0</td>\n",
              "    </tr>\n",
              "    <tr>\n",
              "      <th>12</th>\n",
              "      <td>8.5</td>\n",
              "      <td>1232.0</td>\n",
              "    </tr>\n",
              "    <tr>\n",
              "      <th>13</th>\n",
              "      <td>NaN</td>\n",
              "      <td>NaN</td>\n",
              "    </tr>\n",
              "    <tr>\n",
              "      <th>11</th>\n",
              "      <td>8.0</td>\n",
              "      <td>NaN</td>\n",
              "    </tr>\n",
              "    <tr>\n",
              "      <th>8</th>\n",
              "      <td>6.9</td>\n",
              "      <td>1300.0</td>\n",
              "    </tr>\n",
              "    <tr>\n",
              "      <th>0</th>\n",
              "      <td>NaN</td>\n",
              "      <td>1011.0</td>\n",
              "    </tr>\n",
              "    <tr>\n",
              "      <th>1</th>\n",
              "      <td>7.8</td>\n",
              "      <td>NaN</td>\n",
              "    </tr>\n",
              "    <tr>\n",
              "      <th>3</th>\n",
              "      <td>5.5</td>\n",
              "      <td>NaN</td>\n",
              "    </tr>\n",
              "    <tr>\n",
              "      <th>10</th>\n",
              "      <td>NaN</td>\n",
              "      <td>1212.0</td>\n",
              "    </tr>\n",
              "    <tr>\n",
              "      <th>6</th>\n",
              "      <td>3.9</td>\n",
              "      <td>1010.0</td>\n",
              "    </tr>\n",
              "  </tbody>\n",
              "</table>\n",
              "</div>\n",
              "      <button class=\"colab-df-convert\" onclick=\"convertToInteractive('df-2435d7f1-c2c3-48d6-ae73-4e9bd3a93ff6')\"\n",
              "              title=\"Convert this dataframe to an interactive table.\"\n",
              "              style=\"display:none;\">\n",
              "        \n",
              "  <svg xmlns=\"http://www.w3.org/2000/svg\" height=\"24px\"viewBox=\"0 0 24 24\"\n",
              "       width=\"24px\">\n",
              "    <path d=\"M0 0h24v24H0V0z\" fill=\"none\"/>\n",
              "    <path d=\"M18.56 5.44l.94 2.06.94-2.06 2.06-.94-2.06-.94-.94-2.06-.94 2.06-2.06.94zm-11 1L8.5 8.5l.94-2.06 2.06-.94-2.06-.94L8.5 2.5l-.94 2.06-2.06.94zm10 10l.94 2.06.94-2.06 2.06-.94-2.06-.94-.94-2.06-.94 2.06-2.06.94z\"/><path d=\"M17.41 7.96l-1.37-1.37c-.4-.4-.92-.59-1.43-.59-.52 0-1.04.2-1.43.59L10.3 9.45l-7.72 7.72c-.78.78-.78 2.05 0 2.83L4 21.41c.39.39.9.59 1.41.59.51 0 1.02-.2 1.41-.59l7.78-7.78 2.81-2.81c.8-.78.8-2.07 0-2.86zM5.41 20L4 18.59l7.72-7.72 1.47 1.35L5.41 20z\"/>\n",
              "  </svg>\n",
              "      </button>\n",
              "      \n",
              "  <style>\n",
              "    .colab-df-container {\n",
              "      display:flex;\n",
              "      flex-wrap:wrap;\n",
              "      gap: 12px;\n",
              "    }\n",
              "\n",
              "    .colab-df-convert {\n",
              "      background-color: #E8F0FE;\n",
              "      border: none;\n",
              "      border-radius: 50%;\n",
              "      cursor: pointer;\n",
              "      display: none;\n",
              "      fill: #1967D2;\n",
              "      height: 32px;\n",
              "      padding: 0 0 0 0;\n",
              "      width: 32px;\n",
              "    }\n",
              "\n",
              "    .colab-df-convert:hover {\n",
              "      background-color: #E2EBFA;\n",
              "      box-shadow: 0px 1px 2px rgba(60, 64, 67, 0.3), 0px 1px 3px 1px rgba(60, 64, 67, 0.15);\n",
              "      fill: #174EA6;\n",
              "    }\n",
              "\n",
              "    [theme=dark] .colab-df-convert {\n",
              "      background-color: #3B4455;\n",
              "      fill: #D2E3FC;\n",
              "    }\n",
              "\n",
              "    [theme=dark] .colab-df-convert:hover {\n",
              "      background-color: #434B5C;\n",
              "      box-shadow: 0px 1px 3px 1px rgba(0, 0, 0, 0.15);\n",
              "      filter: drop-shadow(0px 1px 2px rgba(0, 0, 0, 0.3));\n",
              "      fill: #FFFFFF;\n",
              "    }\n",
              "  </style>\n",
              "\n",
              "      <script>\n",
              "        const buttonEl =\n",
              "          document.querySelector('#df-2435d7f1-c2c3-48d6-ae73-4e9bd3a93ff6 button.colab-df-convert');\n",
              "        buttonEl.style.display =\n",
              "          google.colab.kernel.accessAllowed ? 'block' : 'none';\n",
              "\n",
              "        async function convertToInteractive(key) {\n",
              "          const element = document.querySelector('#df-2435d7f1-c2c3-48d6-ae73-4e9bd3a93ff6');\n",
              "          const dataTable =\n",
              "            await google.colab.kernel.invokeFunction('convertToInteractive',\n",
              "                                                     [key], {});\n",
              "          if (!dataTable) return;\n",
              "\n",
              "          const docLinkHtml = 'Like what you see? Visit the ' +\n",
              "            '<a target=\"_blank\" href=https://colab.research.google.com/notebooks/data_table.ipynb>data table notebook</a>'\n",
              "            + ' to learn more about interactive tables.';\n",
              "          element.innerHTML = '';\n",
              "          dataTable['output_type'] = 'display_data';\n",
              "          await google.colab.output.renderOutput(dataTable, element);\n",
              "          const docLink = document.createElement('div');\n",
              "          docLink.innerHTML = docLinkHtml;\n",
              "          element.appendChild(docLink);\n",
              "        }\n",
              "      </script>\n",
              "    </div>\n",
              "  </div>\n",
              "  "
            ]
          },
          "metadata": {},
          "execution_count": 19
        },
        {
          "output_type": "stream",
          "name": "stdout",
          "text": [
            "\n",
            "--cat_cols_mf-->\n"
          ]
        },
        {
          "output_type": "execute_result",
          "data": {
            "text/plain": [
              "    acc_balance house_owned\n",
              "5           2.0         NaN\n",
              "7           2.0         big\n",
              "12          NaN         NaN\n",
              "13          NaN       small\n",
              "11          NaN       small\n",
              "8           1.0       small\n",
              "0           1.0         big\n",
              "1           2.0       small\n",
              "3           NaN       small\n",
              "10          2.0         big\n",
              "6           1.0         NaN"
            ],
            "text/html": [
              "\n",
              "  <div id=\"df-a94aca5e-168b-49aa-a367-a35bc9b1c03d\">\n",
              "    <div class=\"colab-df-container\">\n",
              "      <div>\n",
              "<style scoped>\n",
              "    .dataframe tbody tr th:only-of-type {\n",
              "        vertical-align: middle;\n",
              "    }\n",
              "\n",
              "    .dataframe tbody tr th {\n",
              "        vertical-align: top;\n",
              "    }\n",
              "\n",
              "    .dataframe thead th {\n",
              "        text-align: right;\n",
              "    }\n",
              "</style>\n",
              "<table border=\"1\" class=\"dataframe\">\n",
              "  <thead>\n",
              "    <tr style=\"text-align: right;\">\n",
              "      <th></th>\n",
              "      <th>acc_balance</th>\n",
              "      <th>house_owned</th>\n",
              "    </tr>\n",
              "  </thead>\n",
              "  <tbody>\n",
              "    <tr>\n",
              "      <th>5</th>\n",
              "      <td>2.0</td>\n",
              "      <td>NaN</td>\n",
              "    </tr>\n",
              "    <tr>\n",
              "      <th>7</th>\n",
              "      <td>2.0</td>\n",
              "      <td>big</td>\n",
              "    </tr>\n",
              "    <tr>\n",
              "      <th>12</th>\n",
              "      <td>NaN</td>\n",
              "      <td>NaN</td>\n",
              "    </tr>\n",
              "    <tr>\n",
              "      <th>13</th>\n",
              "      <td>NaN</td>\n",
              "      <td>small</td>\n",
              "    </tr>\n",
              "    <tr>\n",
              "      <th>11</th>\n",
              "      <td>NaN</td>\n",
              "      <td>small</td>\n",
              "    </tr>\n",
              "    <tr>\n",
              "      <th>8</th>\n",
              "      <td>1.0</td>\n",
              "      <td>small</td>\n",
              "    </tr>\n",
              "    <tr>\n",
              "      <th>0</th>\n",
              "      <td>1.0</td>\n",
              "      <td>big</td>\n",
              "    </tr>\n",
              "    <tr>\n",
              "      <th>1</th>\n",
              "      <td>2.0</td>\n",
              "      <td>small</td>\n",
              "    </tr>\n",
              "    <tr>\n",
              "      <th>3</th>\n",
              "      <td>NaN</td>\n",
              "      <td>small</td>\n",
              "    </tr>\n",
              "    <tr>\n",
              "      <th>10</th>\n",
              "      <td>2.0</td>\n",
              "      <td>big</td>\n",
              "    </tr>\n",
              "    <tr>\n",
              "      <th>6</th>\n",
              "      <td>1.0</td>\n",
              "      <td>NaN</td>\n",
              "    </tr>\n",
              "  </tbody>\n",
              "</table>\n",
              "</div>\n",
              "      <button class=\"colab-df-convert\" onclick=\"convertToInteractive('df-a94aca5e-168b-49aa-a367-a35bc9b1c03d')\"\n",
              "              title=\"Convert this dataframe to an interactive table.\"\n",
              "              style=\"display:none;\">\n",
              "        \n",
              "  <svg xmlns=\"http://www.w3.org/2000/svg\" height=\"24px\"viewBox=\"0 0 24 24\"\n",
              "       width=\"24px\">\n",
              "    <path d=\"M0 0h24v24H0V0z\" fill=\"none\"/>\n",
              "    <path d=\"M18.56 5.44l.94 2.06.94-2.06 2.06-.94-2.06-.94-.94-2.06-.94 2.06-2.06.94zm-11 1L8.5 8.5l.94-2.06 2.06-.94-2.06-.94L8.5 2.5l-.94 2.06-2.06.94zm10 10l.94 2.06.94-2.06 2.06-.94-2.06-.94-.94-2.06-.94 2.06-2.06.94z\"/><path d=\"M17.41 7.96l-1.37-1.37c-.4-.4-.92-.59-1.43-.59-.52 0-1.04.2-1.43.59L10.3 9.45l-7.72 7.72c-.78.78-.78 2.05 0 2.83L4 21.41c.39.39.9.59 1.41.59.51 0 1.02-.2 1.41-.59l7.78-7.78 2.81-2.81c.8-.78.8-2.07 0-2.86zM5.41 20L4 18.59l7.72-7.72 1.47 1.35L5.41 20z\"/>\n",
              "  </svg>\n",
              "      </button>\n",
              "      \n",
              "  <style>\n",
              "    .colab-df-container {\n",
              "      display:flex;\n",
              "      flex-wrap:wrap;\n",
              "      gap: 12px;\n",
              "    }\n",
              "\n",
              "    .colab-df-convert {\n",
              "      background-color: #E8F0FE;\n",
              "      border: none;\n",
              "      border-radius: 50%;\n",
              "      cursor: pointer;\n",
              "      display: none;\n",
              "      fill: #1967D2;\n",
              "      height: 32px;\n",
              "      padding: 0 0 0 0;\n",
              "      width: 32px;\n",
              "    }\n",
              "\n",
              "    .colab-df-convert:hover {\n",
              "      background-color: #E2EBFA;\n",
              "      box-shadow: 0px 1px 2px rgba(60, 64, 67, 0.3), 0px 1px 3px 1px rgba(60, 64, 67, 0.15);\n",
              "      fill: #174EA6;\n",
              "    }\n",
              "\n",
              "    [theme=dark] .colab-df-convert {\n",
              "      background-color: #3B4455;\n",
              "      fill: #D2E3FC;\n",
              "    }\n",
              "\n",
              "    [theme=dark] .colab-df-convert:hover {\n",
              "      background-color: #434B5C;\n",
              "      box-shadow: 0px 1px 3px 1px rgba(0, 0, 0, 0.15);\n",
              "      filter: drop-shadow(0px 1px 2px rgba(0, 0, 0, 0.3));\n",
              "      fill: #FFFFFF;\n",
              "    }\n",
              "  </style>\n",
              "\n",
              "      <script>\n",
              "        const buttonEl =\n",
              "          document.querySelector('#df-a94aca5e-168b-49aa-a367-a35bc9b1c03d button.colab-df-convert');\n",
              "        buttonEl.style.display =\n",
              "          google.colab.kernel.accessAllowed ? 'block' : 'none';\n",
              "\n",
              "        async function convertToInteractive(key) {\n",
              "          const element = document.querySelector('#df-a94aca5e-168b-49aa-a367-a35bc9b1c03d');\n",
              "          const dataTable =\n",
              "            await google.colab.kernel.invokeFunction('convertToInteractive',\n",
              "                                                     [key], {});\n",
              "          if (!dataTable) return;\n",
              "\n",
              "          const docLinkHtml = 'Like what you see? Visit the ' +\n",
              "            '<a target=\"_blank\" href=https://colab.research.google.com/notebooks/data_table.ipynb>data table notebook</a>'\n",
              "            + ' to learn more about interactive tables.';\n",
              "          element.innerHTML = '';\n",
              "          dataTable['output_type'] = 'display_data';\n",
              "          await google.colab.output.renderOutput(dataTable, element);\n",
              "          const docLink = document.createElement('div');\n",
              "          docLink.innerHTML = docLinkHtml;\n",
              "          element.appendChild(docLink);\n",
              "        }\n",
              "      </script>\n",
              "    </div>\n",
              "  </div>\n",
              "  "
            ]
          },
          "metadata": {},
          "execution_count": 19
        },
        {
          "output_type": "stream",
          "name": "stdout",
          "text": [
            "\n",
            "--cat_cols_const-->\n"
          ]
        },
        {
          "output_type": "execute_result",
          "data": {
            "text/plain": [
              "   age_cat credit_amount_cat\n",
              "5        3              high\n",
              "7        2            medium\n",
              "12     NaN            medium\n",
              "13     NaN               NaN\n",
              "11       2               NaN\n",
              "8        3            medium\n",
              "0        2               low\n",
              "1        1               NaN\n",
              "3        2               NaN\n",
              "10     NaN               low\n",
              "6        1               low"
            ],
            "text/html": [
              "\n",
              "  <div id=\"df-4e4cf38e-d084-4f3d-be14-a5b80179be94\">\n",
              "    <div class=\"colab-df-container\">\n",
              "      <div>\n",
              "<style scoped>\n",
              "    .dataframe tbody tr th:only-of-type {\n",
              "        vertical-align: middle;\n",
              "    }\n",
              "\n",
              "    .dataframe tbody tr th {\n",
              "        vertical-align: top;\n",
              "    }\n",
              "\n",
              "    .dataframe thead th {\n",
              "        text-align: right;\n",
              "    }\n",
              "</style>\n",
              "<table border=\"1\" class=\"dataframe\">\n",
              "  <thead>\n",
              "    <tr style=\"text-align: right;\">\n",
              "      <th></th>\n",
              "      <th>age_cat</th>\n",
              "      <th>credit_amount_cat</th>\n",
              "    </tr>\n",
              "  </thead>\n",
              "  <tbody>\n",
              "    <tr>\n",
              "      <th>5</th>\n",
              "      <td>3</td>\n",
              "      <td>high</td>\n",
              "    </tr>\n",
              "    <tr>\n",
              "      <th>7</th>\n",
              "      <td>2</td>\n",
              "      <td>medium</td>\n",
              "    </tr>\n",
              "    <tr>\n",
              "      <th>12</th>\n",
              "      <td>NaN</td>\n",
              "      <td>medium</td>\n",
              "    </tr>\n",
              "    <tr>\n",
              "      <th>13</th>\n",
              "      <td>NaN</td>\n",
              "      <td>NaN</td>\n",
              "    </tr>\n",
              "    <tr>\n",
              "      <th>11</th>\n",
              "      <td>2</td>\n",
              "      <td>NaN</td>\n",
              "    </tr>\n",
              "    <tr>\n",
              "      <th>8</th>\n",
              "      <td>3</td>\n",
              "      <td>medium</td>\n",
              "    </tr>\n",
              "    <tr>\n",
              "      <th>0</th>\n",
              "      <td>2</td>\n",
              "      <td>low</td>\n",
              "    </tr>\n",
              "    <tr>\n",
              "      <th>1</th>\n",
              "      <td>1</td>\n",
              "      <td>NaN</td>\n",
              "    </tr>\n",
              "    <tr>\n",
              "      <th>3</th>\n",
              "      <td>2</td>\n",
              "      <td>NaN</td>\n",
              "    </tr>\n",
              "    <tr>\n",
              "      <th>10</th>\n",
              "      <td>NaN</td>\n",
              "      <td>low</td>\n",
              "    </tr>\n",
              "    <tr>\n",
              "      <th>6</th>\n",
              "      <td>1</td>\n",
              "      <td>low</td>\n",
              "    </tr>\n",
              "  </tbody>\n",
              "</table>\n",
              "</div>\n",
              "      <button class=\"colab-df-convert\" onclick=\"convertToInteractive('df-4e4cf38e-d084-4f3d-be14-a5b80179be94')\"\n",
              "              title=\"Convert this dataframe to an interactive table.\"\n",
              "              style=\"display:none;\">\n",
              "        \n",
              "  <svg xmlns=\"http://www.w3.org/2000/svg\" height=\"24px\"viewBox=\"0 0 24 24\"\n",
              "       width=\"24px\">\n",
              "    <path d=\"M0 0h24v24H0V0z\" fill=\"none\"/>\n",
              "    <path d=\"M18.56 5.44l.94 2.06.94-2.06 2.06-.94-2.06-.94-.94-2.06-.94 2.06-2.06.94zm-11 1L8.5 8.5l.94-2.06 2.06-.94-2.06-.94L8.5 2.5l-.94 2.06-2.06.94zm10 10l.94 2.06.94-2.06 2.06-.94-2.06-.94-.94-2.06-.94 2.06-2.06.94z\"/><path d=\"M17.41 7.96l-1.37-1.37c-.4-.4-.92-.59-1.43-.59-.52 0-1.04.2-1.43.59L10.3 9.45l-7.72 7.72c-.78.78-.78 2.05 0 2.83L4 21.41c.39.39.9.59 1.41.59.51 0 1.02-.2 1.41-.59l7.78-7.78 2.81-2.81c.8-.78.8-2.07 0-2.86zM5.41 20L4 18.59l7.72-7.72 1.47 1.35L5.41 20z\"/>\n",
              "  </svg>\n",
              "      </button>\n",
              "      \n",
              "  <style>\n",
              "    .colab-df-container {\n",
              "      display:flex;\n",
              "      flex-wrap:wrap;\n",
              "      gap: 12px;\n",
              "    }\n",
              "\n",
              "    .colab-df-convert {\n",
              "      background-color: #E8F0FE;\n",
              "      border: none;\n",
              "      border-radius: 50%;\n",
              "      cursor: pointer;\n",
              "      display: none;\n",
              "      fill: #1967D2;\n",
              "      height: 32px;\n",
              "      padding: 0 0 0 0;\n",
              "      width: 32px;\n",
              "    }\n",
              "\n",
              "    .colab-df-convert:hover {\n",
              "      background-color: #E2EBFA;\n",
              "      box-shadow: 0px 1px 2px rgba(60, 64, 67, 0.3), 0px 1px 3px 1px rgba(60, 64, 67, 0.15);\n",
              "      fill: #174EA6;\n",
              "    }\n",
              "\n",
              "    [theme=dark] .colab-df-convert {\n",
              "      background-color: #3B4455;\n",
              "      fill: #D2E3FC;\n",
              "    }\n",
              "\n",
              "    [theme=dark] .colab-df-convert:hover {\n",
              "      background-color: #434B5C;\n",
              "      box-shadow: 0px 1px 3px 1px rgba(0, 0, 0, 0.15);\n",
              "      filter: drop-shadow(0px 1px 2px rgba(0, 0, 0, 0.3));\n",
              "      fill: #FFFFFF;\n",
              "    }\n",
              "  </style>\n",
              "\n",
              "      <script>\n",
              "        const buttonEl =\n",
              "          document.querySelector('#df-4e4cf38e-d084-4f3d-be14-a5b80179be94 button.colab-df-convert');\n",
              "        buttonEl.style.display =\n",
              "          google.colab.kernel.accessAllowed ? 'block' : 'none';\n",
              "\n",
              "        async function convertToInteractive(key) {\n",
              "          const element = document.querySelector('#df-4e4cf38e-d084-4f3d-be14-a5b80179be94');\n",
              "          const dataTable =\n",
              "            await google.colab.kernel.invokeFunction('convertToInteractive',\n",
              "                                                     [key], {});\n",
              "          if (!dataTable) return;\n",
              "\n",
              "          const docLinkHtml = 'Like what you see? Visit the ' +\n",
              "            '<a target=\"_blank\" href=https://colab.research.google.com/notebooks/data_table.ipynb>data table notebook</a>'\n",
              "            + ' to learn more about interactive tables.';\n",
              "          element.innerHTML = '';\n",
              "          dataTable['output_type'] = 'display_data';\n",
              "          await google.colab.output.renderOutput(dataTable, element);\n",
              "          const docLink = document.createElement('div');\n",
              "          docLink.innerHTML = docLinkHtml;\n",
              "          element.appendChild(docLink);\n",
              "        }\n",
              "      </script>\n",
              "    </div>\n",
              "  </div>\n",
              "  "
            ]
          },
          "metadata": {},
          "execution_count": 19
        }
      ]
    },
    {
      "cell_type": "markdown",
      "metadata": {
        "id": "_IcTekSDRWs2"
      },
      "source": [
        "Also create a copy of train/test datasets"
      ]
    },
    {
      "cell_type": "code",
      "metadata": {
        "id": "E90hOJfTCz4C"
      },
      "source": [
        "# 4.12   Make a copy of X_train\n",
        "#       and X_test for two separate\n",
        "#       ways of data processing\n",
        "#       without using pipes and with pipes\n",
        "\n",
        "X_train_c = X_train.copy()\n",
        "X_test_c  = X_test.copy()"
      ],
      "execution_count": null,
      "outputs": []
    },
    {
      "cell_type": "markdown",
      "metadata": {
        "id": "roim7Ncy2aTL"
      },
      "source": [
        "## Part I\n",
        "Data preprocessing <u>without Pipelining</u>.  \n",
        "\n",
        "Pre-process each one of the four subsets of data transformer by transformer. And finally manually concatenate all results to create final dataset. We will henceforth use two terms:<br>\n",
        "<ul>\n",
        "    <li>\n",
        "    <b>transformers</b>: Which transform a dataset. Examples: <i>StandardScaler()</i>, <i>Normalizer()</i>, <i>SimpleImputer()</i>,  <i>OneHotEncoder()</i>, <i>PipeLine()</i>, <i>ColumnTransformer()</i>. Transformers have <i>fit()</i>, <i>transform()</i> and <i>fit_transform()</i> methods. Transformers do not make any predictions and hence there is no <i>predict()</i> method.\n",
        "    </li>\n",
        "    <li>\n",
        "<b>estimators</b>:   Which estimate the pattern in a data. Example: <i>DecisionTreeClassifier</i>, <i>KMeans</i>, <i>GMM</i>.      Estimators have <i>fit()</i> and <i>predict()</i> methods. There is no need for any transformation and hence there is no <i>transform()</i> method.\n",
        "</ul></li>\n"
      ]
    },
    {
      "cell_type": "markdown",
      "metadata": {
        "id": "A3Dt-OCs2gos"
      },
      "source": [
        "![image.png](data:image/png;base64,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)"
      ]
    },
    {
      "cell_type": "markdown",
      "metadata": {
        "id": "XBxAAgEd2aTL"
      },
      "source": [
        "### Impute missing values"
      ]
    },
    {
      "cell_type": "markdown",
      "metadata": {
        "id": "kmU1S9M52aTL"
      },
      "source": [
        "#### Impute in two subsets of numeric data\n",
        "Impute NaN first in two data subsets: `num_cols_median` and `num_cols_mean`. Our class-objects will be `si_median` and `si_mean`.\n"
      ]
    },
    {
      "cell_type": "code",
      "source": [
        "## 5.1 Instantiate \n",
        "\n",
        "# 5.1.1 Instantiate SimpleImputer class\n",
        "#        with two difft strategies to\n",
        "#         create two objects. \n",
        "\n",
        "si_median = SimpleImputer(strategy = 'median')\n",
        "si_mean   = SimpleImputer(strategy = 'mean')"
      ],
      "metadata": {
        "id": "q4AW189FwTEm"
      },
      "execution_count": null,
      "outputs": []
    },
    {
      "cell_type": "code",
      "metadata": {
        "id": "aoiM_oE52aTM"
      },
      "source": [
        "## Fit and transform\n",
        "\n",
        "# 5.1.2 Next, use these two objects to fit \n",
        "#       and transform respective datasets.\n",
        "#       We overwrite the original data subset:\n",
        "\n",
        "X_train_c[num_cols_median] = si_median.fit_transform(\n",
        "                                                     X_train_c[num_cols_median]\n",
        "                                                     )\n",
        "\n",
        "# 5.1.3\n",
        "X_train_c[num_cols_mean] = si_mean.fit_transform(\n",
        "                                                  X_train_c[num_cols_mean]\n",
        "                                                 )\n",
        "\n"
      ],
      "execution_count": null,
      "outputs": []
    },
    {
      "cell_type": "code",
      "metadata": {
        "id": "C-wq0e562aTM",
        "colab": {
          "base_uri": "https://localhost:8080/",
          "height": 789
        },
        "outputId": "5aea84c9-5bbc-4a08-d048-f7afeee2bba7"
      },
      "source": [
        "## Observe\n",
        "# 5.2 Observe results of two transformations.\n",
        "#     There should now be no NaNs\n",
        "\n",
        "X_train_c[num_cols_median]\n",
        "print()\n",
        "X_train_c[num_cols_mean]"
      ],
      "execution_count": null,
      "outputs": [
        {
          "output_type": "execute_result",
          "data": {
            "text/plain": [
              "    income  credit_amount\n",
              "5      8.9         2323.0\n",
              "7      7.8         1500.0\n",
              "12     8.5         1232.0\n",
              "13     7.8         1232.0\n",
              "11     8.0         1232.0\n",
              "8      6.9         1300.0\n",
              "0      7.8         1011.0\n",
              "1      7.8         1232.0\n",
              "3      5.5         1232.0\n",
              "10     7.8         1212.0\n",
              "6      3.9         1010.0"
            ],
            "text/html": [
              "\n",
              "  <div id=\"df-b2ae082e-cf7a-4b4d-947b-d11c7f0b05ea\">\n",
              "    <div class=\"colab-df-container\">\n",
              "      <div>\n",
              "<style scoped>\n",
              "    .dataframe tbody tr th:only-of-type {\n",
              "        vertical-align: middle;\n",
              "    }\n",
              "\n",
              "    .dataframe tbody tr th {\n",
              "        vertical-align: top;\n",
              "    }\n",
              "\n",
              "    .dataframe thead th {\n",
              "        text-align: right;\n",
              "    }\n",
              "</style>\n",
              "<table border=\"1\" class=\"dataframe\">\n",
              "  <thead>\n",
              "    <tr style=\"text-align: right;\">\n",
              "      <th></th>\n",
              "      <th>income</th>\n",
              "      <th>credit_amount</th>\n",
              "    </tr>\n",
              "  </thead>\n",
              "  <tbody>\n",
              "    <tr>\n",
              "      <th>5</th>\n",
              "      <td>8.9</td>\n",
              "      <td>2323.0</td>\n",
              "    </tr>\n",
              "    <tr>\n",
              "      <th>7</th>\n",
              "      <td>7.8</td>\n",
              "      <td>1500.0</td>\n",
              "    </tr>\n",
              "    <tr>\n",
              "      <th>12</th>\n",
              "      <td>8.5</td>\n",
              "      <td>1232.0</td>\n",
              "    </tr>\n",
              "    <tr>\n",
              "      <th>13</th>\n",
              "      <td>7.8</td>\n",
              "      <td>1232.0</td>\n",
              "    </tr>\n",
              "    <tr>\n",
              "      <th>11</th>\n",
              "      <td>8.0</td>\n",
              "      <td>1232.0</td>\n",
              "    </tr>\n",
              "    <tr>\n",
              "      <th>8</th>\n",
              "      <td>6.9</td>\n",
              "      <td>1300.0</td>\n",
              "    </tr>\n",
              "    <tr>\n",
              "      <th>0</th>\n",
              "      <td>7.8</td>\n",
              "      <td>1011.0</td>\n",
              "    </tr>\n",
              "    <tr>\n",
              "      <th>1</th>\n",
              "      <td>7.8</td>\n",
              "      <td>1232.0</td>\n",
              "    </tr>\n",
              "    <tr>\n",
              "      <th>3</th>\n",
              "      <td>5.5</td>\n",
              "      <td>1232.0</td>\n",
              "    </tr>\n",
              "    <tr>\n",
              "      <th>10</th>\n",
              "      <td>7.8</td>\n",
              "      <td>1212.0</td>\n",
              "    </tr>\n",
              "    <tr>\n",
              "      <th>6</th>\n",
              "      <td>3.9</td>\n",
              "      <td>1010.0</td>\n",
              "    </tr>\n",
              "  </tbody>\n",
              "</table>\n",
              "</div>\n",
              "      <button class=\"colab-df-convert\" onclick=\"convertToInteractive('df-b2ae082e-cf7a-4b4d-947b-d11c7f0b05ea')\"\n",
              "              title=\"Convert this dataframe to an interactive table.\"\n",
              "              style=\"display:none;\">\n",
              "        \n",
              "  <svg xmlns=\"http://www.w3.org/2000/svg\" height=\"24px\"viewBox=\"0 0 24 24\"\n",
              "       width=\"24px\">\n",
              "    <path d=\"M0 0h24v24H0V0z\" fill=\"none\"/>\n",
              "    <path d=\"M18.56 5.44l.94 2.06.94-2.06 2.06-.94-2.06-.94-.94-2.06-.94 2.06-2.06.94zm-11 1L8.5 8.5l.94-2.06 2.06-.94-2.06-.94L8.5 2.5l-.94 2.06-2.06.94zm10 10l.94 2.06.94-2.06 2.06-.94-2.06-.94-.94-2.06-.94 2.06-2.06.94z\"/><path d=\"M17.41 7.96l-1.37-1.37c-.4-.4-.92-.59-1.43-.59-.52 0-1.04.2-1.43.59L10.3 9.45l-7.72 7.72c-.78.78-.78 2.05 0 2.83L4 21.41c.39.39.9.59 1.41.59.51 0 1.02-.2 1.41-.59l7.78-7.78 2.81-2.81c.8-.78.8-2.07 0-2.86zM5.41 20L4 18.59l7.72-7.72 1.47 1.35L5.41 20z\"/>\n",
              "  </svg>\n",
              "      </button>\n",
              "      \n",
              "  <style>\n",
              "    .colab-df-container {\n",
              "      display:flex;\n",
              "      flex-wrap:wrap;\n",
              "      gap: 12px;\n",
              "    }\n",
              "\n",
              "    .colab-df-convert {\n",
              "      background-color: #E8F0FE;\n",
              "      border: none;\n",
              "      border-radius: 50%;\n",
              "      cursor: pointer;\n",
              "      display: none;\n",
              "      fill: #1967D2;\n",
              "      height: 32px;\n",
              "      padding: 0 0 0 0;\n",
              "      width: 32px;\n",
              "    }\n",
              "\n",
              "    .colab-df-convert:hover {\n",
              "      background-color: #E2EBFA;\n",
              "      box-shadow: 0px 1px 2px rgba(60, 64, 67, 0.3), 0px 1px 3px 1px rgba(60, 64, 67, 0.15);\n",
              "      fill: #174EA6;\n",
              "    }\n",
              "\n",
              "    [theme=dark] .colab-df-convert {\n",
              "      background-color: #3B4455;\n",
              "      fill: #D2E3FC;\n",
              "    }\n",
              "\n",
              "    [theme=dark] .colab-df-convert:hover {\n",
              "      background-color: #434B5C;\n",
              "      box-shadow: 0px 1px 3px 1px rgba(0, 0, 0, 0.15);\n",
              "      filter: drop-shadow(0px 1px 2px rgba(0, 0, 0, 0.3));\n",
              "      fill: #FFFFFF;\n",
              "    }\n",
              "  </style>\n",
              "\n",
              "      <script>\n",
              "        const buttonEl =\n",
              "          document.querySelector('#df-b2ae082e-cf7a-4b4d-947b-d11c7f0b05ea button.colab-df-convert');\n",
              "        buttonEl.style.display =\n",
              "          google.colab.kernel.accessAllowed ? 'block' : 'none';\n",
              "\n",
              "        async function convertToInteractive(key) {\n",
              "          const element = document.querySelector('#df-b2ae082e-cf7a-4b4d-947b-d11c7f0b05ea');\n",
              "          const dataTable =\n",
              "            await google.colab.kernel.invokeFunction('convertToInteractive',\n",
              "                                                     [key], {});\n",
              "          if (!dataTable) return;\n",
              "\n",
              "          const docLinkHtml = 'Like what you see? Visit the ' +\n",
              "            '<a target=\"_blank\" href=https://colab.research.google.com/notebooks/data_table.ipynb>data table notebook</a>'\n",
              "            + ' to learn more about interactive tables.';\n",
              "          element.innerHTML = '';\n",
              "          dataTable['output_type'] = 'display_data';\n",
              "          await google.colab.output.renderOutput(dataTable, element);\n",
              "          const docLink = document.createElement('div');\n",
              "          docLink.innerHTML = docLinkHtml;\n",
              "          element.appendChild(docLink);\n",
              "        }\n",
              "      </script>\n",
              "    </div>\n",
              "  </div>\n",
              "  "
            ]
          },
          "metadata": {},
          "execution_count": 25
        },
        {
          "output_type": "stream",
          "name": "stdout",
          "text": [
            "\n"
          ]
        },
        {
          "output_type": "execute_result",
          "data": {
            "text/plain": [
              "     age\n",
              "5   89.0\n",
              "7   65.0\n",
              "12  60.0\n",
              "13  59.8\n",
              "11  52.0\n",
              "8   70.0\n",
              "0   50.0\n",
              "1   45.0\n",
              "3   54.0\n",
              "10  90.0\n",
              "6   23.0"
            ],
            "text/html": [
              "\n",
              "  <div id=\"df-672fd47e-2db7-4842-bd3a-7c6585f09f9d\">\n",
              "    <div class=\"colab-df-container\">\n",
              "      <div>\n",
              "<style scoped>\n",
              "    .dataframe tbody tr th:only-of-type {\n",
              "        vertical-align: middle;\n",
              "    }\n",
              "\n",
              "    .dataframe tbody tr th {\n",
              "        vertical-align: top;\n",
              "    }\n",
              "\n",
              "    .dataframe thead th {\n",
              "        text-align: right;\n",
              "    }\n",
              "</style>\n",
              "<table border=\"1\" class=\"dataframe\">\n",
              "  <thead>\n",
              "    <tr style=\"text-align: right;\">\n",
              "      <th></th>\n",
              "      <th>age</th>\n",
              "    </tr>\n",
              "  </thead>\n",
              "  <tbody>\n",
              "    <tr>\n",
              "      <th>5</th>\n",
              "      <td>89.0</td>\n",
              "    </tr>\n",
              "    <tr>\n",
              "      <th>7</th>\n",
              "      <td>65.0</td>\n",
              "    </tr>\n",
              "    <tr>\n",
              "      <th>12</th>\n",
              "      <td>60.0</td>\n",
              "    </tr>\n",
              "    <tr>\n",
              "      <th>13</th>\n",
              "      <td>59.8</td>\n",
              "    </tr>\n",
              "    <tr>\n",
              "      <th>11</th>\n",
              "      <td>52.0</td>\n",
              "    </tr>\n",
              "    <tr>\n",
              "      <th>8</th>\n",
              "      <td>70.0</td>\n",
              "    </tr>\n",
              "    <tr>\n",
              "      <th>0</th>\n",
              "      <td>50.0</td>\n",
              "    </tr>\n",
              "    <tr>\n",
              "      <th>1</th>\n",
              "      <td>45.0</td>\n",
              "    </tr>\n",
              "    <tr>\n",
              "      <th>3</th>\n",
              "      <td>54.0</td>\n",
              "    </tr>\n",
              "    <tr>\n",
              "      <th>10</th>\n",
              "      <td>90.0</td>\n",
              "    </tr>\n",
              "    <tr>\n",
              "      <th>6</th>\n",
              "      <td>23.0</td>\n",
              "    </tr>\n",
              "  </tbody>\n",
              "</table>\n",
              "</div>\n",
              "      <button class=\"colab-df-convert\" onclick=\"convertToInteractive('df-672fd47e-2db7-4842-bd3a-7c6585f09f9d')\"\n",
              "              title=\"Convert this dataframe to an interactive table.\"\n",
              "              style=\"display:none;\">\n",
              "        \n",
              "  <svg xmlns=\"http://www.w3.org/2000/svg\" height=\"24px\"viewBox=\"0 0 24 24\"\n",
              "       width=\"24px\">\n",
              "    <path d=\"M0 0h24v24H0V0z\" fill=\"none\"/>\n",
              "    <path d=\"M18.56 5.44l.94 2.06.94-2.06 2.06-.94-2.06-.94-.94-2.06-.94 2.06-2.06.94zm-11 1L8.5 8.5l.94-2.06 2.06-.94-2.06-.94L8.5 2.5l-.94 2.06-2.06.94zm10 10l.94 2.06.94-2.06 2.06-.94-2.06-.94-.94-2.06-.94 2.06-2.06.94z\"/><path d=\"M17.41 7.96l-1.37-1.37c-.4-.4-.92-.59-1.43-.59-.52 0-1.04.2-1.43.59L10.3 9.45l-7.72 7.72c-.78.78-.78 2.05 0 2.83L4 21.41c.39.39.9.59 1.41.59.51 0 1.02-.2 1.41-.59l7.78-7.78 2.81-2.81c.8-.78.8-2.07 0-2.86zM5.41 20L4 18.59l7.72-7.72 1.47 1.35L5.41 20z\"/>\n",
              "  </svg>\n",
              "      </button>\n",
              "      \n",
              "  <style>\n",
              "    .colab-df-container {\n",
              "      display:flex;\n",
              "      flex-wrap:wrap;\n",
              "      gap: 12px;\n",
              "    }\n",
              "\n",
              "    .colab-df-convert {\n",
              "      background-color: #E8F0FE;\n",
              "      border: none;\n",
              "      border-radius: 50%;\n",
              "      cursor: pointer;\n",
              "      display: none;\n",
              "      fill: #1967D2;\n",
              "      height: 32px;\n",
              "      padding: 0 0 0 0;\n",
              "      width: 32px;\n",
              "    }\n",
              "\n",
              "    .colab-df-convert:hover {\n",
              "      background-color: #E2EBFA;\n",
              "      box-shadow: 0px 1px 2px rgba(60, 64, 67, 0.3), 0px 1px 3px 1px rgba(60, 64, 67, 0.15);\n",
              "      fill: #174EA6;\n",
              "    }\n",
              "\n",
              "    [theme=dark] .colab-df-convert {\n",
              "      background-color: #3B4455;\n",
              "      fill: #D2E3FC;\n",
              "    }\n",
              "\n",
              "    [theme=dark] .colab-df-convert:hover {\n",
              "      background-color: #434B5C;\n",
              "      box-shadow: 0px 1px 3px 1px rgba(0, 0, 0, 0.15);\n",
              "      filter: drop-shadow(0px 1px 2px rgba(0, 0, 0, 0.3));\n",
              "      fill: #FFFFFF;\n",
              "    }\n",
              "  </style>\n",
              "\n",
              "      <script>\n",
              "        const buttonEl =\n",
              "          document.querySelector('#df-672fd47e-2db7-4842-bd3a-7c6585f09f9d button.colab-df-convert');\n",
              "        buttonEl.style.display =\n",
              "          google.colab.kernel.accessAllowed ? 'block' : 'none';\n",
              "\n",
              "        async function convertToInteractive(key) {\n",
              "          const element = document.querySelector('#df-672fd47e-2db7-4842-bd3a-7c6585f09f9d');\n",
              "          const dataTable =\n",
              "            await google.colab.kernel.invokeFunction('convertToInteractive',\n",
              "                                                     [key], {});\n",
              "          if (!dataTable) return;\n",
              "\n",
              "          const docLinkHtml = 'Like what you see? Visit the ' +\n",
              "            '<a target=\"_blank\" href=https://colab.research.google.com/notebooks/data_table.ipynb>data table notebook</a>'\n",
              "            + ' to learn more about interactive tables.';\n",
              "          element.innerHTML = '';\n",
              "          dataTable['output_type'] = 'display_data';\n",
              "          await google.colab.output.renderOutput(dataTable, element);\n",
              "          const docLink = document.createElement('div');\n",
              "          docLink.innerHTML = docLinkHtml;\n",
              "          element.appendChild(docLink);\n",
              "        }\n",
              "      </script>\n",
              "    </div>\n",
              "  </div>\n",
              "  "
            ]
          },
          "metadata": {},
          "execution_count": 25
        }
      ]
    },
    {
      "cell_type": "markdown",
      "metadata": {
        "id": "6sSMaLRY2aTM"
      },
      "source": [
        "#### Impute in two subsets of categorical data next"
      ]
    },
    {
      "cell_type": "code",
      "source": [
        "## Instaniate SimpleImputer\n",
        "\n",
        "# 5.3 Similarly create two objects\n",
        "#     to impute data in categorical \n",
        "#     data-subsets.\n",
        "\n",
        "si_mf = SimpleImputer(\n",
        "                       strategy = 'most_frequent'\n",
        "                     )\n",
        "\n",
        "si_const = SimpleImputer(\n",
        "                          strategy = 'constant',\n",
        "                          fill_value = 'missing'  # fill with const value 'missing'\n",
        "                        )\n"
      ],
      "metadata": {
        "id": "WWVwICyqwv2V"
      },
      "execution_count": null,
      "outputs": []
    },
    {
      "cell_type": "code",
      "metadata": {
        "id": "ONaqHlgm2aTM"
      },
      "source": [
        "## Fit and Transform\n",
        "\n",
        "# 5.3.1 Use the two objects to transform\n",
        "#       the respective two data-subsets:\n",
        "\n",
        "X_train_c[cat_cols_mf] = si_mf.fit_transform(\n",
        "                                             X_train_c[cat_cols_mf]\n",
        "                                             )\n",
        "\n",
        "# 5.3.2\n",
        "X_train_c[cat_cols_const] = si_const.fit_transform(\n",
        "                                                    X_train_c[cat_cols_const]\n",
        "                                                   )"
      ],
      "execution_count": null,
      "outputs": []
    },
    {
      "cell_type": "code",
      "metadata": {
        "id": "Ln__pM9b2aTM",
        "colab": {
          "base_uri": "https://localhost:8080/",
          "height": 789
        },
        "outputId": "b4f53135-1a66-41a4-83af-e9d33cd1fabc"
      },
      "source": [
        "# 5.4 Observer the results of transformation\n",
        "#     in two cat data-subsets\n",
        "\n",
        "X_train_c[cat_cols_const]\n",
        "print()\n",
        "X_train_c[cat_cols_mf]"
      ],
      "execution_count": null,
      "outputs": [
        {
          "output_type": "execute_result",
          "data": {
            "text/plain": [
              "    age_cat credit_amount_cat\n",
              "5         3              high\n",
              "7         2            medium\n",
              "12  missing            medium\n",
              "13  missing           missing\n",
              "11        2           missing\n",
              "8         3            medium\n",
              "0         2               low\n",
              "1         1           missing\n",
              "3         2           missing\n",
              "10  missing               low\n",
              "6         1               low"
            ],
            "text/html": [
              "\n",
              "  <div id=\"df-4751348e-0182-49b6-a452-2d8c696f7d6c\">\n",
              "    <div class=\"colab-df-container\">\n",
              "      <div>\n",
              "<style scoped>\n",
              "    .dataframe tbody tr th:only-of-type {\n",
              "        vertical-align: middle;\n",
              "    }\n",
              "\n",
              "    .dataframe tbody tr th {\n",
              "        vertical-align: top;\n",
              "    }\n",
              "\n",
              "    .dataframe thead th {\n",
              "        text-align: right;\n",
              "    }\n",
              "</style>\n",
              "<table border=\"1\" class=\"dataframe\">\n",
              "  <thead>\n",
              "    <tr style=\"text-align: right;\">\n",
              "      <th></th>\n",
              "      <th>age_cat</th>\n",
              "      <th>credit_amount_cat</th>\n",
              "    </tr>\n",
              "  </thead>\n",
              "  <tbody>\n",
              "    <tr>\n",
              "      <th>5</th>\n",
              "      <td>3</td>\n",
              "      <td>high</td>\n",
              "    </tr>\n",
              "    <tr>\n",
              "      <th>7</th>\n",
              "      <td>2</td>\n",
              "      <td>medium</td>\n",
              "    </tr>\n",
              "    <tr>\n",
              "      <th>12</th>\n",
              "      <td>missing</td>\n",
              "      <td>medium</td>\n",
              "    </tr>\n",
              "    <tr>\n",
              "      <th>13</th>\n",
              "      <td>missing</td>\n",
              "      <td>missing</td>\n",
              "    </tr>\n",
              "    <tr>\n",
              "      <th>11</th>\n",
              "      <td>2</td>\n",
              "      <td>missing</td>\n",
              "    </tr>\n",
              "    <tr>\n",
              "      <th>8</th>\n",
              "      <td>3</td>\n",
              "      <td>medium</td>\n",
              "    </tr>\n",
              "    <tr>\n",
              "      <th>0</th>\n",
              "      <td>2</td>\n",
              "      <td>low</td>\n",
              "    </tr>\n",
              "    <tr>\n",
              "      <th>1</th>\n",
              "      <td>1</td>\n",
              "      <td>missing</td>\n",
              "    </tr>\n",
              "    <tr>\n",
              "      <th>3</th>\n",
              "      <td>2</td>\n",
              "      <td>missing</td>\n",
              "    </tr>\n",
              "    <tr>\n",
              "      <th>10</th>\n",
              "      <td>missing</td>\n",
              "      <td>low</td>\n",
              "    </tr>\n",
              "    <tr>\n",
              "      <th>6</th>\n",
              "      <td>1</td>\n",
              "      <td>low</td>\n",
              "    </tr>\n",
              "  </tbody>\n",
              "</table>\n",
              "</div>\n",
              "      <button class=\"colab-df-convert\" onclick=\"convertToInteractive('df-4751348e-0182-49b6-a452-2d8c696f7d6c')\"\n",
              "              title=\"Convert this dataframe to an interactive table.\"\n",
              "              style=\"display:none;\">\n",
              "        \n",
              "  <svg xmlns=\"http://www.w3.org/2000/svg\" height=\"24px\"viewBox=\"0 0 24 24\"\n",
              "       width=\"24px\">\n",
              "    <path d=\"M0 0h24v24H0V0z\" fill=\"none\"/>\n",
              "    <path d=\"M18.56 5.44l.94 2.06.94-2.06 2.06-.94-2.06-.94-.94-2.06-.94 2.06-2.06.94zm-11 1L8.5 8.5l.94-2.06 2.06-.94-2.06-.94L8.5 2.5l-.94 2.06-2.06.94zm10 10l.94 2.06.94-2.06 2.06-.94-2.06-.94-.94-2.06-.94 2.06-2.06.94z\"/><path d=\"M17.41 7.96l-1.37-1.37c-.4-.4-.92-.59-1.43-.59-.52 0-1.04.2-1.43.59L10.3 9.45l-7.72 7.72c-.78.78-.78 2.05 0 2.83L4 21.41c.39.39.9.59 1.41.59.51 0 1.02-.2 1.41-.59l7.78-7.78 2.81-2.81c.8-.78.8-2.07 0-2.86zM5.41 20L4 18.59l7.72-7.72 1.47 1.35L5.41 20z\"/>\n",
              "  </svg>\n",
              "      </button>\n",
              "      \n",
              "  <style>\n",
              "    .colab-df-container {\n",
              "      display:flex;\n",
              "      flex-wrap:wrap;\n",
              "      gap: 12px;\n",
              "    }\n",
              "\n",
              "    .colab-df-convert {\n",
              "      background-color: #E8F0FE;\n",
              "      border: none;\n",
              "      border-radius: 50%;\n",
              "      cursor: pointer;\n",
              "      display: none;\n",
              "      fill: #1967D2;\n",
              "      height: 32px;\n",
              "      padding: 0 0 0 0;\n",
              "      width: 32px;\n",
              "    }\n",
              "\n",
              "    .colab-df-convert:hover {\n",
              "      background-color: #E2EBFA;\n",
              "      box-shadow: 0px 1px 2px rgba(60, 64, 67, 0.3), 0px 1px 3px 1px rgba(60, 64, 67, 0.15);\n",
              "      fill: #174EA6;\n",
              "    }\n",
              "\n",
              "    [theme=dark] .colab-df-convert {\n",
              "      background-color: #3B4455;\n",
              "      fill: #D2E3FC;\n",
              "    }\n",
              "\n",
              "    [theme=dark] .colab-df-convert:hover {\n",
              "      background-color: #434B5C;\n",
              "      box-shadow: 0px 1px 3px 1px rgba(0, 0, 0, 0.15);\n",
              "      filter: drop-shadow(0px 1px 2px rgba(0, 0, 0, 0.3));\n",
              "      fill: #FFFFFF;\n",
              "    }\n",
              "  </style>\n",
              "\n",
              "      <script>\n",
              "        const buttonEl =\n",
              "          document.querySelector('#df-4751348e-0182-49b6-a452-2d8c696f7d6c button.colab-df-convert');\n",
              "        buttonEl.style.display =\n",
              "          google.colab.kernel.accessAllowed ? 'block' : 'none';\n",
              "\n",
              "        async function convertToInteractive(key) {\n",
              "          const element = document.querySelector('#df-4751348e-0182-49b6-a452-2d8c696f7d6c');\n",
              "          const dataTable =\n",
              "            await google.colab.kernel.invokeFunction('convertToInteractive',\n",
              "                                                     [key], {});\n",
              "          if (!dataTable) return;\n",
              "\n",
              "          const docLinkHtml = 'Like what you see? Visit the ' +\n",
              "            '<a target=\"_blank\" href=https://colab.research.google.com/notebooks/data_table.ipynb>data table notebook</a>'\n",
              "            + ' to learn more about interactive tables.';\n",
              "          element.innerHTML = '';\n",
              "          dataTable['output_type'] = 'display_data';\n",
              "          await google.colab.output.renderOutput(dataTable, element);\n",
              "          const docLink = document.createElement('div');\n",
              "          docLink.innerHTML = docLinkHtml;\n",
              "          element.appendChild(docLink);\n",
              "        }\n",
              "      </script>\n",
              "    </div>\n",
              "  </div>\n",
              "  "
            ]
          },
          "metadata": {},
          "execution_count": 28
        },
        {
          "output_type": "stream",
          "name": "stdout",
          "text": [
            "\n"
          ]
        },
        {
          "output_type": "execute_result",
          "data": {
            "text/plain": [
              "   acc_balance house_owned\n",
              "5          2.0       small\n",
              "7          2.0         big\n",
              "12         2.0       small\n",
              "13         2.0       small\n",
              "11         2.0       small\n",
              "8          1.0       small\n",
              "0          1.0         big\n",
              "1          2.0       small\n",
              "3          2.0       small\n",
              "10         2.0         big\n",
              "6          1.0       small"
            ],
            "text/html": [
              "\n",
              "  <div id=\"df-3e734c03-b720-41f6-9ea9-1c6381230019\">\n",
              "    <div class=\"colab-df-container\">\n",
              "      <div>\n",
              "<style scoped>\n",
              "    .dataframe tbody tr th:only-of-type {\n",
              "        vertical-align: middle;\n",
              "    }\n",
              "\n",
              "    .dataframe tbody tr th {\n",
              "        vertical-align: top;\n",
              "    }\n",
              "\n",
              "    .dataframe thead th {\n",
              "        text-align: right;\n",
              "    }\n",
              "</style>\n",
              "<table border=\"1\" class=\"dataframe\">\n",
              "  <thead>\n",
              "    <tr style=\"text-align: right;\">\n",
              "      <th></th>\n",
              "      <th>acc_balance</th>\n",
              "      <th>house_owned</th>\n",
              "    </tr>\n",
              "  </thead>\n",
              "  <tbody>\n",
              "    <tr>\n",
              "      <th>5</th>\n",
              "      <td>2.0</td>\n",
              "      <td>small</td>\n",
              "    </tr>\n",
              "    <tr>\n",
              "      <th>7</th>\n",
              "      <td>2.0</td>\n",
              "      <td>big</td>\n",
              "    </tr>\n",
              "    <tr>\n",
              "      <th>12</th>\n",
              "      <td>2.0</td>\n",
              "      <td>small</td>\n",
              "    </tr>\n",
              "    <tr>\n",
              "      <th>13</th>\n",
              "      <td>2.0</td>\n",
              "      <td>small</td>\n",
              "    </tr>\n",
              "    <tr>\n",
              "      <th>11</th>\n",
              "      <td>2.0</td>\n",
              "      <td>small</td>\n",
              "    </tr>\n",
              "    <tr>\n",
              "      <th>8</th>\n",
              "      <td>1.0</td>\n",
              "      <td>small</td>\n",
              "    </tr>\n",
              "    <tr>\n",
              "      <th>0</th>\n",
              "      <td>1.0</td>\n",
              "      <td>big</td>\n",
              "    </tr>\n",
              "    <tr>\n",
              "      <th>1</th>\n",
              "      <td>2.0</td>\n",
              "      <td>small</td>\n",
              "    </tr>\n",
              "    <tr>\n",
              "      <th>3</th>\n",
              "      <td>2.0</td>\n",
              "      <td>small</td>\n",
              "    </tr>\n",
              "    <tr>\n",
              "      <th>10</th>\n",
              "      <td>2.0</td>\n",
              "      <td>big</td>\n",
              "    </tr>\n",
              "    <tr>\n",
              "      <th>6</th>\n",
              "      <td>1.0</td>\n",
              "      <td>small</td>\n",
              "    </tr>\n",
              "  </tbody>\n",
              "</table>\n",
              "</div>\n",
              "      <button class=\"colab-df-convert\" onclick=\"convertToInteractive('df-3e734c03-b720-41f6-9ea9-1c6381230019')\"\n",
              "              title=\"Convert this dataframe to an interactive table.\"\n",
              "              style=\"display:none;\">\n",
              "        \n",
              "  <svg xmlns=\"http://www.w3.org/2000/svg\" height=\"24px\"viewBox=\"0 0 24 24\"\n",
              "       width=\"24px\">\n",
              "    <path d=\"M0 0h24v24H0V0z\" fill=\"none\"/>\n",
              "    <path d=\"M18.56 5.44l.94 2.06.94-2.06 2.06-.94-2.06-.94-.94-2.06-.94 2.06-2.06.94zm-11 1L8.5 8.5l.94-2.06 2.06-.94-2.06-.94L8.5 2.5l-.94 2.06-2.06.94zm10 10l.94 2.06.94-2.06 2.06-.94-2.06-.94-.94-2.06-.94 2.06-2.06.94z\"/><path d=\"M17.41 7.96l-1.37-1.37c-.4-.4-.92-.59-1.43-.59-.52 0-1.04.2-1.43.59L10.3 9.45l-7.72 7.72c-.78.78-.78 2.05 0 2.83L4 21.41c.39.39.9.59 1.41.59.51 0 1.02-.2 1.41-.59l7.78-7.78 2.81-2.81c.8-.78.8-2.07 0-2.86zM5.41 20L4 18.59l7.72-7.72 1.47 1.35L5.41 20z\"/>\n",
              "  </svg>\n",
              "      </button>\n",
              "      \n",
              "  <style>\n",
              "    .colab-df-container {\n",
              "      display:flex;\n",
              "      flex-wrap:wrap;\n",
              "      gap: 12px;\n",
              "    }\n",
              "\n",
              "    .colab-df-convert {\n",
              "      background-color: #E8F0FE;\n",
              "      border: none;\n",
              "      border-radius: 50%;\n",
              "      cursor: pointer;\n",
              "      display: none;\n",
              "      fill: #1967D2;\n",
              "      height: 32px;\n",
              "      padding: 0 0 0 0;\n",
              "      width: 32px;\n",
              "    }\n",
              "\n",
              "    .colab-df-convert:hover {\n",
              "      background-color: #E2EBFA;\n",
              "      box-shadow: 0px 1px 2px rgba(60, 64, 67, 0.3), 0px 1px 3px 1px rgba(60, 64, 67, 0.15);\n",
              "      fill: #174EA6;\n",
              "    }\n",
              "\n",
              "    [theme=dark] .colab-df-convert {\n",
              "      background-color: #3B4455;\n",
              "      fill: #D2E3FC;\n",
              "    }\n",
              "\n",
              "    [theme=dark] .colab-df-convert:hover {\n",
              "      background-color: #434B5C;\n",
              "      box-shadow: 0px 1px 3px 1px rgba(0, 0, 0, 0.15);\n",
              "      filter: drop-shadow(0px 1px 2px rgba(0, 0, 0, 0.3));\n",
              "      fill: #FFFFFF;\n",
              "    }\n",
              "  </style>\n",
              "\n",
              "      <script>\n",
              "        const buttonEl =\n",
              "          document.querySelector('#df-3e734c03-b720-41f6-9ea9-1c6381230019 button.colab-df-convert');\n",
              "        buttonEl.style.display =\n",
              "          google.colab.kernel.accessAllowed ? 'block' : 'none';\n",
              "\n",
              "        async function convertToInteractive(key) {\n",
              "          const element = document.querySelector('#df-3e734c03-b720-41f6-9ea9-1c6381230019');\n",
              "          const dataTable =\n",
              "            await google.colab.kernel.invokeFunction('convertToInteractive',\n",
              "                                                     [key], {});\n",
              "          if (!dataTable) return;\n",
              "\n",
              "          const docLinkHtml = 'Like what you see? Visit the ' +\n",
              "            '<a target=\"_blank\" href=https://colab.research.google.com/notebooks/data_table.ipynb>data table notebook</a>'\n",
              "            + ' to learn more about interactive tables.';\n",
              "          element.innerHTML = '';\n",
              "          dataTable['output_type'] = 'display_data';\n",
              "          await google.colab.output.renderOutput(dataTable, element);\n",
              "          const docLink = document.createElement('div');\n",
              "          docLink.innerHTML = docLinkHtml;\n",
              "          element.appendChild(docLink);\n",
              "        }\n",
              "      </script>\n",
              "    </div>\n",
              "  </div>\n",
              "  "
            ]
          },
          "metadata": {},
          "execution_count": 28
        }
      ]
    },
    {
      "cell_type": "code",
      "metadata": {
        "id": "FAjtX9xx2aTN",
        "colab": {
          "base_uri": "https://localhost:8080/"
        },
        "outputId": "087bff79-8919-4208-99f2-2d2468310d7b"
      },
      "source": [
        "## A Summary\n",
        "# 5.5 So our fitted transformers are:\n",
        "\n",
        "si_median         # To transform num_cols_median\n",
        "si_mean           # To transform num_cols_mean\n",
        "si_mf             # To transform cat_cols_mf\n",
        "si_const          # To transform cat_cols_constant\n",
        "\n",
        "# 5.6 Our column-colections are:\n",
        "\n",
        "cat_cols          # cat_cols_mf + cat_cols_constant; Total:4\n",
        "num_cols          # num_cols_mean + num_cols_median; Total:3\n",
        "\n",
        "# 5.6.1\n",
        "cat_cols_mf\n",
        "cat_cols_const\n",
        "num_cols_mean\n",
        "num_cols_median\n",
        "\n",
        "# 5.7 Our datasets are:\n",
        "\n",
        "X_train_c[:2],X_test_c[:2],y_train[:2],y_test[:2]"
      ],
      "execution_count": null,
      "outputs": [
        {
          "output_type": "execute_result",
          "data": {
            "text/plain": [
              "SimpleImputer(strategy='median')"
            ]
          },
          "metadata": {},
          "execution_count": 29
        },
        {
          "output_type": "execute_result",
          "data": {
            "text/plain": [
              "SimpleImputer()"
            ]
          },
          "metadata": {},
          "execution_count": 29
        },
        {
          "output_type": "execute_result",
          "data": {
            "text/plain": [
              "SimpleImputer(strategy='most_frequent')"
            ]
          },
          "metadata": {},
          "execution_count": 29
        },
        {
          "output_type": "execute_result",
          "data": {
            "text/plain": [
              "SimpleImputer(fill_value='missing', strategy='constant')"
            ]
          },
          "metadata": {},
          "execution_count": 29
        },
        {
          "output_type": "execute_result",
          "data": {
            "text/plain": [
              "['acc_balance', 'house_owned', 'age_cat', 'credit_amount_cat']"
            ]
          },
          "metadata": {},
          "execution_count": 29
        },
        {
          "output_type": "execute_result",
          "data": {
            "text/plain": [
              "['age', 'income', 'credit_amount']"
            ]
          },
          "metadata": {},
          "execution_count": 29
        },
        {
          "output_type": "execute_result",
          "data": {
            "text/plain": [
              "['acc_balance', 'house_owned']"
            ]
          },
          "metadata": {},
          "execution_count": 29
        },
        {
          "output_type": "execute_result",
          "data": {
            "text/plain": [
              "['age_cat', 'credit_amount_cat']"
            ]
          },
          "metadata": {},
          "execution_count": 29
        },
        {
          "output_type": "execute_result",
          "data": {
            "text/plain": [
              "['age']"
            ]
          },
          "metadata": {},
          "execution_count": 29
        },
        {
          "output_type": "execute_result",
          "data": {
            "text/plain": [
              "['income', 'credit_amount']"
            ]
          },
          "metadata": {},
          "execution_count": 29
        },
        {
          "output_type": "execute_result",
          "data": {
            "text/plain": [
              "(  acc_balance house_owned   age  income  credit_amount age_cat  \\\n",
              " 5         2.0       small  89.0     8.9         2323.0       3   \n",
              " 7         2.0         big  65.0     7.8         1500.0       2   \n",
              " \n",
              "   credit_amount_cat  \n",
              " 5              high  \n",
              " 7            medium  ,\n",
              "    acc_balance house_owned   age  income  credit_amount age_cat  \\\n",
              " 2          1.0         NaN  45.0     3.4         3211.0       1   \n",
              " 9          2.0         big  70.0     9.0         1782.0     NaN   \n",
              " \n",
              "   credit_amount_cat  \n",
              " 2              high  \n",
              " 9              high  ,\n",
              " 5    yes\n",
              " 7     no\n",
              " Name: creditability, dtype: object,\n",
              " 2    yes\n",
              " 9     no\n",
              " Name: creditability, dtype: object)"
            ]
          },
          "metadata": {},
          "execution_count": 29
        }
      ]
    },
    {
      "cell_type": "markdown",
      "metadata": {
        "id": "WSYGhgu1DcQu"
      },
      "source": [
        "### OneHotEncoding"
      ]
    },
    {
      "cell_type": "markdown",
      "metadata": {
        "id": "9jIZLMGcU6aw"
      },
      "source": [
        "![image.png](data:image/png;base64,iVBORw0KGgoAAAANSUhEUgAABBoAAAEmCAYAAADMXPMuAAAgAElEQVR4nOydd1gU1x6GD2AXERsgxQKxoMTee++KBmzYwN577703pC1VxZIYa+wtahQFafbEaExMbiyJvTfY7/4xsLKyGJ0Fdla+93m+5+bCuJw9O3tmfu+cOSNACCGEEEIIIYQQkk4IQzeAEEIIIYQQQgghXw4UDYQQQgghhBBCCEk3KBoIIYQQQgghhBCSblA0EEIIIYQQQgghJN2gaCCEEEIIIYQQQki6QdFACCGEEEIIIYSQdIOigRBCCCGEEEIIIekGRQMhhBBCCCGEEELSDYoGQgghhBBCCCGEpBsUDYQQQgghhBBCCEk3KBoIIYQQQgghhBCSblA0EEIIIYQQQgghJN2gaCCEEEIIIYQQQki6QdFACCGEEEIIIYSQdIOigRBCCCGEEEIIIekGRQMhhBBCCCGEEELSDYoGQgghhBBCCCGEpBsUDYQQQgghhBBCCEk3KBoIIYQQQgghhBCSblA0EEIIIYQQQgghJN2gaCCEEEIIIYQQQki6QdFACCGEEEIIIYSQdIOigRBCCCGEEEIIIekGRQMhhBBCCCGEEELSDYoGQgghhBBCCCGEpBsUDYQQQgghhBBCCEk3KBoIIYQQQgghhBCSblA0EEIIIYQQQgghJN2gaCCEEEIIIYQQQki6QdFACCGEEEIIIYSQdIOigRBCCCGEEEIIIekGRQMhhBBCCCGEEELSDYoGQgghhBBCCCGEpBuKEQ1CCJjkyAuRPTcjJ8IsqQ/zGL4tRhiTHHkhhMCjR48M/VUghBCD8fTpUx6PUx0f8kAIIR1nFdAexniSfG7B7xPz2eF5PSMzyeOOElBGKwAIYYqd/wIbrzOfm02/AeODfkJTj9H4/n+Gb48xZuc/QMHi5fHo0UNDfxUIIcRgPH36FPntSvN4nCJb/wYauA3G5PVnsek3w7eHMZ5svyNdSNtx1/BtYYwnm34DxgefRJNuo3hez3x2dv4r1dVKQEGiwQQbfgUCY5nPTVAcMHz1XjRwG4ywS4ZvjzFmw6+ApV0ZigZCSJbm6dOnyGfjiA3XDD8uKyVrLwN12nthtP8Rg7eFMa6s/0USDeFXDd8WxogSBwz33ocG3wzieT3z2dnwq1RXKwGKhi8gFA36h6KBEEIoGnSFooGRG4oGRlYoGhg9QtGgA4oG+aFo0D8UDYQQQtGgKxQNjNxQNDCyQtHA6BGKBh1QNMgPRYP+oWgghBCKBl2haGDkhqKBkRWKBkaPUDTogKJBfiga9A9FAyGEUDToCkUDIzcUDYysUDQweoSiQQcUDfJD0aB/KBoIIYSiQVcoGhi5oWhgZIWigdEjFA06oGiQH4oG/UPRQAghFA26QtHAyA1FAyMrFA2MHqFo0AFFg/xQNOgfigZCCKFo0BWKBkZuKBoYWaFoYPQIRYMOKBrkh6JB/1A0EEIIRYOuUDQwckPRwMgKRQOjRygadEDRID8UDfqHooEQQigadIWigZEbigZGVigaGD1C0aADigb5oWjQPxQNhBBC0aArFA2M3FA0MLJC0cDoEYoGHVA0yA9Fg/6haCCEEIoGXaFoYOSGooGRFYoGRo9QNOiAokF+KBr0D0UDIYRQNOgKRQMjNxQNjKxQNDB6hKJBBxQN8kPRoH8oGgghhKJBVygaGLmhaGBkhaKB0SMUDTpQimjwPf0KLXtPQvdJflDFqP9z+3k7f0PNNr0wd/uvCIozTJuVKhqCzwHuo5ajchM3VGnqjuY9x2Pljw8M3i5doWgghBDDiIagOGD21p9Rs00vTN0Q95/H3tALQK/pwWjlORl+kW8yvH1fkmgIuwR0He+NKs06o1qLrqjToS/m77qB4HjDty0j4hPxAs17jkffeRsRcj7z/76xigZVdCLaD5qLyk3cULmJG9r0m5Ep37U02xOTiI7DFqJt/5kIiE5Mc7uVxx6gea/xqNLUHZWbuMFt1DIEnzN8f352jEQ0rLsCNO81HtVadEXVZl3QdsDHPx8mc0LRoAOliIY1p57DuVYLNOk2CqpP+LJMXhcFU7NsmBASgSADHaiVLBp6zwhFw87DUNTJBYXtHLF4//8M3i5doWgghBADiYZ4YNLaSBSxd8IovyP/KRrWXgHqdewPu68qwCfiRYa370sSDaEXAa854WjafTSqt/RAtuw5MSU8xiBFeGZk9YnHsC5eBs17jjPI+ZHRioaYRHSf5IcG7kNgWcQOxcpWgc/plwZrT0B0IspUa4LKTdwQEJ3w0c/bbeRS1P9mEMyy58DX9doi9ILh+/OzYySiYe1l4JuRS9Csx1g4lKmCYmWrIOBs2p8PkzmhaNCBoUWDKkaNNaeew/vkM6w6/ghrTr1I82QnIDoBa049Q2AsMGX9WWTPmRsTQ09/caJBFaOG909PsebU849ut+LoffhHvdP578MuSgNRhyHzUMi2BJbs/zvN1/GPeosVR+/rfB3/qHfwiXip+UxWHX+EpQdvw/fM63T7UlI0EEKyOpktGgKiE+F98hm8Tz7FymMP4Rf5Ns1jr3/UO6yJeIF1V4AGboOk4ici44sfRYmGOOmq7arjjz66nU/ES53HblWMGqEXpQJ4xY/3YWqWDVM3xKYpGvzOvMaq4490fiYBZ6VzoeTfeZ98hmWH//nsglQVo4b3yWea47kqOhFLDtzG6hOPdRaVyW1K+/WkglMVo8bqE49h6+SCFr0nZinRoIpOxOoTT+Bz+iVUMWn30/Ij/6ZZGIZdkvb9mq17ophz1Y9+rn6Ruj8TVYwafpFv4Hv6lWY/WXnsAZYdugu/qLef/H4CohNRpnoTuA6ZD1V0Ivyj3mHlsYep/lZgnHSVPewSYFOiLCo2dE0lGj7cb6XXT8CaU891XmD0PfMaq088ztx9J5NEg7QP3INfZNrn0snfI98zr1PtS6oYNdZelvZzj8kBsCtV8aMiyPvkU3iffKbzd75nXmHNqRea11157CFWHXsI/7Op64tPiU/EC80sHP+ot/CJeF/XJdd8AUmv7XvmFZYevI3VPz3R+VqrTzz+z1rI+6enWnVKyn13zannmpkevqdfwfunpxm6/1A06MCgoiFOGkjquvZHrba9UaN1D/SeGabzwDp3xzW07jsVNVr3RL8FmzElPBrZc+X5okSDKjoRM7dcQsehC1C9lQdqtu6JzmNWphrU5/9wA+5jVqBKU3c0cBuMgUu2YsWP91PdQqKKTkSbftNRyLZkKtEQFAesOHoPAxZtQYNvBqFK087oMnY15u/6DaqYRM2AMDHsDNr0m47F+/4H9zErUL1FN7jUaY2u473T5T1TNBBCSOaLhsX7b6FKU3fUatsHVZt1wfTNF3Qee8cHn0IDt0Go32kgpm86h4buQ7KUaFDFAEsO3ILHZH9Ubd4V1Vp0RYteEzB983mtqeErjt7HgEVbULN1T9Ro5YFe04OxaO+fqV4vKA5YuOdPmGXLnko0qGLU8D3zGuODTqKpx2hUaeoO16ELMHldlOazCT4HzNxyCbXa9saivX9h0JKtqNa8K76u1xbuY1Z81q0YAdEJaNZzHHpODcLM7y6iec/xcKnbBrXbeWLezt8QfE6a9bLkwC14zl6POh36onrL7ui3YHMqCbLyxwfoMVWF6i26oct4byze/zfsvvo6y4iGgLMJmLohFm0HzEK1Ft1Qq21veEwJgM/pV1rbzdpyGa5DF6JS405o0m0khq3aKxVZH5y/BUQnolrzrijmXC2VaAiKA5YcuA3POe8/kx5TVFi8/2+tgm7wsh1wH70CSw/eRruBs1G1WWeUr9MaA5dsRcgnzjZIFg0dBs/FkgO30NprGqo26wKvOeGpi8M4wP/sO1gVK51KNASfk957rba9sSbiBQLjgOB4YN6u31C7XR9JliT1wcpjD9F33kbU6zgANVr3QJ9Za7Eis27/zWDR4B/1FjO+vYA2faejUuNOqNdpALqO98bKYw+1zuFnbbkMt1HLULVZFzR0H4ohK3ZJ/fbB6wXFAV3GroJ96dSiQRWjxoqj99Bv/ibUbu+pqSkW73s/wznkPNB37gY06jIcy4/eQ8dhC6XbXxp/gynh0Z91+4v/2XcYF3gC9TsNRAO3IVi45ybGBh5H857jERCdiKA4wOf0K9Rq1wcTw85gSngM6nbsD5e6bVGlqbumllPFqLFo31/oMUWF6i27o65rPwxbtUeSTin6aPWJx+gzex1qte2Nmm16ot/8TZr9KCgeWLzvf6jXaSCWHryDKeExqP/NIFRt1gWDlm6H/2fIts8JRYMODD2jwT/qHQYu3gqvuRvgWKEOqrf00LrPKCgOmBoeA5uS5WDr5AKvOeFo238Gitg7waKQ9RcjGkIuAGNUx2DrVB5FS5ZH90l+KFW5PoQQ6DbBRzOAzN/1G0q41ERJl5oYsGgLWntNRf4idqjfaWCqk8SPiYbgc0CdDn1haWWPNv2mY8Ci71G6aiPYOn2N+bt+03zZBy7ZijwWBeFStw3sy1RG675T0brvVPSdtwGhF9PnS0nRQAjJ6mS2aFh14gn6ztuILuNWI2cecwxZ8YPWMWTtZaDz2FWwtLJH6aqNMGDR96jfaSBy5jFHSZdaWUY0LN7/P5Sq0hBFHcuj+yRfVGnqDiEEKjboIF21i5Nui7D76msUsi2BDkPmw23UMhSyLYEi9k6pTtQ/KhqiE9F37kbkL2KHBm5DMGjpdlRo0AFFHL7CaP+jCLkgHbvnbr8KIQQadh4Km5LOaNh5KFp7TYHnnPDPOh/yP/sOxZyrwaZEWXxVqR6qNuuMNn2nof2g2Vi490+NaChbvSkcylZBrxmh8JobjtJVG8GuVAVNobny2EPUde2HvPkL45uRS+E+ejmcKtaFiYkpWved+sWLhtALwOBlO1DYzhElytdEtwk+KOpYHkIIDFj4HYKSiupJayNh6+SCstWbYMjyXWjSfRTyFbRGhyHzdV6NTVM0xAPlarVAIduS6DhsITxnr0dx52ooUb4mVp94X/y7Dl0AK4dScK7ZHA5lq6DdgJlo2WcSRvke+uRbdgKiE+FSt400S6GBK/rMWoe6rv2RLUcudJ3go12wfUQ0hF4ARvkeghACq44/RlCcVORODDsDIQSWHLiN4HjpNuq6HfqhdNVG6DU9GAOXbEOFBh1QtnpTzNt5PZWQSfdkoGgIPgcMW7UHefMXhEu9tugzay2sipWGEAIdhy3UfCYrjz2EZRE7OFWsm1TzzIRlETvUatsH665ov+bHRMPqE09Qv9NA2Dq5oPtkf3hMUaGwnRPK1W6FZYfuIiheqj16TAmAECao3a4PnCrWRWuvqWjZZxJmbrn0yeOJKkaNEd77kceiICo16oRRfkfQwH0I7EtXhFWxUvA/+w7B8YBf5FsIIVClWWeUdKmFas27ou2AmWjeazyC4qT3s2D3HyhfpzXK1WqBvvM3ocdUFUpXbYS6rv20LrxWadYZtk4u8Jy9Dn3nbUSpyg1QonwNLNl/C6EXgRnfXkCefJYoVaUROgyei34LNqNiA1eYZc+BxR+Z5a1PKBp0YGjRoIpRayx+k24jUb1l91QLmvScHozsOXNjSngMVDHqpEWGxiF3PssvRjSs+xlo6D4UBW2KS9OkohOx4uh9tBswC1/Xbw+/pKmNw1fvg0UhG0zbGIfAWMmODl21B0XsHLFo759afZGWaAiKBxbs/h0FrB0wyvewND0qTlr3wtyyMMYE/KjZdnzwSQghUNCmOOZsuwr/qLfwj3qbbveCUTQQQkjmi4bkwmbRvr9QtKQzhq7UFg3B54Ay1ZqgqJOL5vizYPcfKOlSE8XLVc8yomF88EnkzV8QE0IjEBgL+EW+QZ+Za1G1eRdMCDmF0IvAkv1/QwiBYav2ICheOsaO9jsCIQQW/PC71nH5Y6LBP+odKjbogMqNv0HwOekzCjibgII2xVGlWWes/0X69yuPP4IQAnnzF8KgJdukAk/GcTkgOgF12ntJ0sJ9KFafeKw5xqti1Ag5L52sZ8+ZC5PXRWn2i6Erf0C27DkxfPU+BMVJMyyEEOg+yU9TbI5RHYMQAm36TfviRUP4VaBC/Q4oWrIcguKkz23JgVto3G0kqjR11wgb9zErYOtUHgv3/CHd2nDmNbqOX4NSVRpgxdF7H3w2ukVD8Dlg5ncXkT1nbsz49iJU0YkIjpcKWLNsObDgh9812/WaHgwhBGxKOGP5kXvwP/tO2k8+MsU+9T6SiAoNOkAIgeVH7kEVnQjfM69Qu70n7EtX0r614SOiIeTC++9EStEwaW0kTExMsOTgbYScB6ZuiEXe/AUxVnVcUwuMC/oJQggMXLI14/edDBQNAWffoXXfqXCp2wbLD/8DVXQilh3+F817jkOzHmOw9OBthF6QboXIk68AVh2X+jbkPNCyz0Rkz5Er1QW+j4mGeTuvI1uOXOgzax2C4qXPcuGemzA1y4YRaw4g5Lz02v0XfAshBBy/ro0lB24hIDpBGgM+Y3FJVYwaLXpPhGOFOtKxIU4az4QQsCtVQVNnhF8FTM3MkC1HLrTsM1mzXbKwkmTMXphlz4nJ685KY2B0IoYs3wUhBEauOaARUkII9J4ZipALSQsbf38FQgh4TPbH+l+k74lFIWtYFSujGZcnhEYgt3l+jPI9lCH7D0WDDgwtGpLjF/kGTbqPSiUaAqIT4T56BWxKlMXCPTc1O/SQFT8gR+68X4xoCIwDijlXRe12ngiKh9Y0yeTB2j/qHVyHzMdXleph+ZF/NX0xd/uvkjlftCXV1RFdoiH0AuA5JxxCCCzc86fm7y87fBclyteA26jlmhOWiaGnIYSA+5gVGbKiLUUDIYQY7qkTi/f/D0VLlsPQD2Y0+Ee9Q0mXmqjZuqfmKqIqBqjesrt033gWEA0B0QnoPHY1ipWtgqUH7yAwqYgMTroSGBQn3ZPeeewqCBMTrIl4obkq53vmDbJlz4keU1RaxcHHRINPxAsIIeA6ZD7WXn7/t+q69oV96UrSlOCkAk0IgSL2Tlj/iz7vLxEdBs9DbnNLTAiN0MiNlP3fbuBsCCEw/dsLmL75PGZ8dwnDVu2FuWVhdB3vjaD491elh63aq3mNZYf/yRqiIWmfyFegCJr3HIfQi+/7MOS8dL4lXSB7ibqu/VCjVQ+sSb5XPk66eCSECSatjdSaOp+WaFh7GegweB6EEPCLlIqzoHhgwQ+/o4CVPfov+A6BSftIn1lrIYTA4GXbNRf15OwjLnXbwqJQUQScfSetAXYJaNt/BoQQWHborlZf6CMaQi9IC5nnyG2OYav3Yvrm85i++QJGrDmAwnaOSbN7M/jJChkoGpYf+Rclv66FNv1naH0WyQV/YKy0zoVTpfooaFNMs++GnAdG+hyEiYkp5mz7VWuWVFqiQRWjxpiAH5EnXwFMWR+N4Pj3a7LkNrdEA7fBWHtZ+veL9v0PQgjU69gf63+BrP1EFZOIEi41UbGhK9b9/P4zr9S4E6yLl9USDdlz5oa5ZWEsO/yPVr0jvY60yGUBaweM9D2k2QcGLPoeQgh4zl6HkPPAmIBjMMuWHQOXbMPMLZcxffN5zN1xHUII2JeqgM2/S6Ihdz5LdB2/BiHnk78nN1DItiTcRi3LkP2HokEHShcNvmdeo2n30ShfpxVWHnug9QXK8YWs0ZA8w6BQ0eJwG7Uszcd1+kS8QLnaLVG9pYfWIi3zf7gBIQQ6j1mhNbCnJRrCLgIdBs+FEAJLD97WfMn9o96hUqNOqNjQVXMFa/6u32BpZQ/P2esypJ8pGgghRFmiISgOWHboLmxKlNU6IQs5D9Ru74liZbOGaPCPeovKTb7B1/Xa6Vx4OTAWWP8zULu9F0xMTLWEQsh56YS6YeehWJtiunOaoiFOugKZfJUu7OL784POY1eikG1JLD14G0Hx0sm6EALl67RG+K/yCoPAWKmIbD9wNuxKVcCSA7dSnXus/wWo2boHhBAo6lhOE7uvXGBfuhJ6zwxDYBwwePlO5Mxjjolh78/Hlh26myVEQ/IMg5y5zTVFkK7tlh68DYcyldB2wCxNQRgU9/52guHe+7TOsdISDet/AWq08oAQAgHRiZqFGP0i38C+VEXU7zRAc/V2YtgZ5MidF5PWRsp+fwHRiShXuxVKVWmguQAVdgloO2Cm5hxSs/3nioYLwLjAExBCEg1BcUCHIfMhhIBVsVKa/c3WyQX2pSvCffTydFuIPM1koGhYtPdPmFsWgfvoFWmufRB+FTDLlh3FnKtiwzXpux0UDyza+xeEEBjhvV+rX9MWDYnoNHyRdJF29x+a77ZPxAs4lKmMGq17QhWbPB7dhBACXnM3aMadz40qOhFCCFRNmnkVGCtJtvJ1WsOmxHvRsPYyUNe1H8wti+iUpL6nX6GpxxiYmJrCuniZFGPO17AvXUlaX+Q80Gn4Ymk/cSgFW8fy0nYly8GpYh3U6eCFjdeSRIN5fnjOXqeZVTR/1w0Usi0B99HLM2T/oWjQgdJFQ0B0AtxGLYOtY3nNwkoB0YnoNT0EOfPk+yJEQ2CsdP9eSZeaqNioo+b9BMUDc7b9gklhZxAQnYiAswlwH7MCxZ2rYcmBWxqTPm1TPMyy5cBovyNag1daoiHkPDBkhTQNafb3VzTvZdHev2D71dfoPSNU8xnM23kdFoWs0W/+plRXO9LrS0nRQAjJ6ihJNATGAn5Rb1GifA3UbuepmdHgE/ECFRp0kIqfLCAaVNGJ8JwTjqIly2Hhnpuak3Xvk88wyvcQVp94jLBLwMDFW6XbJHb/geBz0vF88f6/YWqWHYOWbEtVGKQ1o8H3zGvkyJ0XrTwnY+3lpHODc0DlJm74qnJ9zQJ+yUV0K68pqe7Z/pwkiwZbJxcs2vdXKtEQdhHoO3cjhBDwP/sOG69Jx+z1v0hJvnqffIvlsFV7NOcgc3dcyxKiIXmWSf7CRVGnQ1/New0+B0zbGIcp4TGSCDjzGo06D0PFhq5atxsMXLwV5paFMfO7i1rrD6QlGsIuAd0n+UMIoblfPXmhxXwFrDDa76j0s3hgQsgpZMuRS3Orrdx9RJrRYKO5wBVyHmjZeyJMzbJpZtcm98WniIbF+28hOF56XG77QXOkNRqSZjT0X/AtcuW1wNKDt7HhV2l/C78KrL+KzNmPMlA0rD7xGBUadECjLsM1T2VQxaixaO9fmLYxHv5Rb7H2MlC1WRdYFLLRiMvQi9LsFFMzMyw9eFtrwdePzWgYH/QTcuTKi/HBJzXfS++fniCXeX50HLoQYZfeiwazbDkwY/N52Y/bVcWoUa52K5Sv3UrzGiEXgPyFbWHr5KIlGmq26Yl8Bayw8XrqmiIoHug5LQjWxctg1fFH2JBizFl3ReqLoHhpf8+WPQdmbL6Ab3+XttlwDZon+wTHvxcNfWatpWgwJMoWDdIO2G/+ZphlzwGvuRugik7EvB3X4FSxLswLFPkiRIMqRo11PwPtBs5CbvP8GLJ8J1RJg1K15l1Qp0Nfzf1LYwOPI3vO3PCauwEB0YlYdvgfzSrgH65am+YaDUm3SdiUdEbjbiPhffIpAs4moNeMEGmaVXi0Zlst0cAZDYQQkiEoTTSEXgAqNeoESyt7TN90DoGx0n3gFoVsUKJ8zSwhGgJjgWmb4pHHoiDcRi2THsMXo0an4YtRzLkaFu6RFkz0Of0KQgjN6urePz1FK6+pEEJIj41LcVxOSzRI6zG8Q13XfrB1csG8nb9JayetP4vc5vnRYfA8rLsibZdcRLfoNSFDRUNQPLDs8D/Im78QmnYfjTWnnmP1T0/gNmoZytduhfm7biAwFpiz7SqEMEEDt8FYc+oFVhy9j2Y9xmUJ0ZD8edTrNAB58xfCmIAfERQPLD/yD0pVboDmPccjOF6SAT2nBSGPRUGM8j0EVYwaC/fcROXG36By406aR7en/GzSWqNh4e4/kMeiINoPmgu/yDfwi3yLDkPmI7e5pXSLT2z6ioaKDV0hhMBY1TEExkpPiijmXBU1WnnAJ+WTEP7jqROzt/4sTX+ftQ6hF4Dlh/+FQ5nKGtEQfE66BcS6eBm07DMJPhEv4HP6JbpP8oNL3TaYvvl8xu87GfzUCbdRy1DQpjjG+P8IVUwiVv74AM41m0vyIeotgs8Bo/wOw9QsG4Ys3yWtyZK0jVWx0lqzowJjP75Gw5IDt1DItiSaeYzBmlPP4R/1Dl3GrUZu8/zS7RTnUoqG1OLzc78HHYctQh6Lghi4eCuWH/kHbfpNR7YcuWD31dc6REMRbLye+jWC45PWxbEoiB5TVPCLfIvVJx6jZe+JqN6yO+Zsv6pZByVPvgKo/81A+J55Dd/Tr+A2ahkqNuyA8cEnsfYyRQNFQxzgfzYB5Wu3QmE7RxS2K4nc5vmRM7c5Cts5oqBNMTTpPgphl6QvS8WGrsiTrwCKl6uO4uWqo+PQhV/UYpBB8cDSg3dQo5UHcpnnh3Wx0rB1coGJqRlG+hx8/7zsn56iWY9xyFfQCsXLVUMBawdYFy8DrznhCDkvfYnb9JuOQkVLoLCdI/LkKwBTs2woaFMche0cUdKlJsJ/lQ5CvaaHwKpYaRQqWgLONZrD3LIIWntN1XpmLUUDIYRkPJklGoLipFXNC1g7oIi9EwraFIdZtuywKGSDwnaOsClRFr2mB2P9L9LU6yIOpZLkQg3UatsbzjWbZ6nFIH0iXqDjsIWwLGIHhzKVUcTeCTnzmKNW2z6aK44h56UCIo9FAdiUKAvrYqVRsGgJuA5dgOBz7++Xz1+4aFKfF4MQApZWdihoUwyVGnWE98lnUMWoMev7KyhdtSHyWhRE8XLVYW5ZBNVadMOSA7c15zqZJRoCYyXh1H2SHyyt7FHYtiTsS1WEEAK12/XRPJPeJ+Il2g2YhdzmlnAoUxmWVvbwmOyP/EXs0Mpz8hctGgJjpfOpBbv/wNf12iFXXgsUdSwHq2KlYWJqhpnfXZK2i5Pu0a/ZphcsClqjhEtNWFrZw750JYxIWuAu9CLQuMwia7sAACAASURBVOsIFLB2QGE7R+TMnRfZsudEYduSKGxXElWauiP8qvT3Og1fjIJFi8PKoRS+qtwA5pZF0GWct2Yhz/QUDeVqtUCNVh6o69oPDmWrIF8BKxQqWgJjVcc1C5ZWb9ld026zbNmRI1ceFLF3QgEre3QcJl09D7sEmFsWQW7z/LAuXgZ1OvSF26hlGtGQfL9+33kbkb+ILQoVLYHiztVgamqGSo06So8uzOh9JwNFQ1AcMHf7r6jY0BUWhYqiRPkaKGDtgLwWBTFw8feaIt8n4qVUjBe0huPXdWBVrBQK2ZbEhJBTCDkvfSYN3Ydozuvz5i8Es+w5UNjOEQWsHVCrXR8ExUlPePCcvR6F7RxhX6oiCts5IY9FAXQd762ZnZKeomHx/r9Ru10f5DbPD/vSlTAm4Bg6jViMIvZffZJoSI7vmdfoNHwx8hexRfFyNVDQphhMzbKhfqeB8D3z/nGx/Rd+B6tipWFT0hnWxUrDLFsOlKrSCH5n3iDkAkUDRUPSjjl89V70nbcxVbzmhmN88ClNcRsUD4z2P4q2/WdAFa3Gih/vo//Cb7WnbWVy0nUxyNj3U4hWn3iCTsMWodf0YO0VfZO2CYqTtmnZZyLGB5+CKlp7pfDJ686i77wNOvt18NLt2us4xKgxdOVuuI1apnlGbcqrWt4/PcWgJduwYPcfGfJYIYoGQgjJ3BkNvmdew2tuuM5jRP8F32LW91c0U21VMdJz1ruMW42wS8CU9Wcx3Hs/As7qXrMgPaME0ZB8PPSLfIOu473RZexqzbPaU/5eFaOGz+mX6Dt3I/ov/A6+p19qrXkxZ9svmsewfXiuM8L7APwi32q91oTQCLiPXqEprj5cPK7vvI2YtjHus55zr+u9zfj2Ioat3qt1gUGTFO1RxagxbNVetOk3HVM3xGndK598H/nC3TfRrMdYrDr+CP5RbzFs1V5M2xSfIRcp/iuZKRpS9tHSg7fRYdBc9F/4nfbV/tj352/Lj95Dk24jMXVDrNbvg5Ku5qb13fzwsZT+Ue8wYNEWeExRaT6/lPvJssP/oP+Cb7Hyxwd6va/R/kelJ1wk7S/dJvho7S+q6ESM8j2ss91ec8Kl/TT+/esN996PXjNCEBCdiOVH76Hf/E2pHuEZGAuM8D6A9oPnYmLoGfiefiX7PXxWMkw0vP8uSWsu/Imm3UdhlN8RSdilnI0co4YqRrrI6j5mJcaHnEJAdILW+DA++Cd4zU19nu81Jxyj/X/U2hf8It+g20Rf9Jm1FgHRqW9/XnPqOfot2IwVPz5Ic424T9lPkv979tZfsOr4I4SclxaytXUsr3Ur2ISQ0xi0VPuWMl2vFXA2AR6TA+A6ZD5mfndJa2265AScTcDgZTvQcdhCTA2PgX/U+/VPVh57hIGLv8e8Xb+luO3tKYYs34VZW3/OkP2HokEHhhINKZ+qkLzi6odJXiU1OcHnkHQF4f2Kvh/u4JmZ9BYNKd9L6IW0359mm4vQGryT/zco/iN9ek5728BYtdaTLbRXf33/GQXFZUw/UzQQQkjmiYaUK+KnlaAPjr0h56X7bZOPL/oUt58TJYgGrT67AM06CWkdl1OuIK91XI77+HE51XE3XvdxOfn/p/ycUv7OP+ot2g6YhSpN3VGtRTedqdCgA+buuIbAWGh9nh87xqc8BwuKT7198ntMuZhc8lVEQ5yjZbZo0PRH3Kedv4Vd1P6eafr4s87fdO9vKdui63chF6SnGNRq2zvNfaRai25o3HUkFu//G6EXoLV2mK7vwMfO5VPuA8n7UUphouv7otnfLqQ+z83QZPCtEx9+V9L67qXcl1KKupTjw2ftJ2nskyn3I13tWLjnJr6u3/6j+0nFhq4IjJXESKcRizEu6CTWnHoO75NPkT1nHjR0H6p5mkXyPv5fa76lbFfK/S+tGuXDbVL+++T6JbNqGoqGD1DKGg3GmIwQDVktFA2EEGKYNRqUHqWIBmNKQHQiZm65jElhZzBpbaTOTAiJgPfJZwZva0bGEKLBWBIUJ92qO3n92TT3kUlrIzFtU3ym3CKlqGSCaDCmrDn1HBNCTn10P5kYGoHAWGmfKl6uOoQwQZ32XihTvSmKO1fDrC2XM01OGzoUDTqgaJAfigb9Q9FACCEUDbpC0SAvH7u6nNYV8C8tFA1p579m2Hw40+ZL3k9ShaJBaz8JjP3v/STk/PttF+39C90m+qJFrwnoMVWFeTuuaf3+Sw9Fgw4oGuSHokH/UDQQQghFg65QNDByQ9HAyApFg6ykXI8m+XaFD2/DM3QbMyMUDTqgaJAfigb9Q9FACCEUDbpC0cDIDUUDIysUDXolqwiFtELRoAOKBvmhaNA/FA2EEELRoCsUDYzcUDQwskLRwOgRigYdUDTID0WD/qFoIIQQigZdoWhg5IaigZEVigZGj1A06ICiQX4oGvQPRQMhhFA06ApFAyM3FA2MrFA0MHqEokEHFA3yQ9GgfygaCCGEokFXKBoYuaFoYGSFooHRIxQNOqBokB+KBv1D0UAIIRQNukLRwMgNRQMjKxQNjB6haNABRYP8UDToH4oGQgihaNAVigZGbigaGFmhaGD0CEWDDiga5IeiQf9QNBBCCEWDrlA0MHJD0cDICkUDo0coGnRA0SA/FA36h6KBEEIoGnSFooGRG4oGRlYoGhg9QtGgA4oG+aFo0D8UDYQQQtGgKxQNjNxQNDCyQtHA6BGKBh1QNMgPRYP+oWgghBCKBl2haGDkhqKBkRWKBkaPUDTogKJBfiga9A9FAyGEUDToCkUDIzcUDYysUDQweoSiQQdCmCD0IuAT8YL5zPiefoXBS7ejXscBCIxlH8pJ6EXAwrYUHj16ZOivAiGEGIynT5/C3KoEj8cpEhgL1GrTC8NX74Xv6ZcGbw9jPAk5L4mGkPP8PjGfHt/TrzB42Q7Ude3H83rmsxN6kaIhFUIIOJcqidJOxZnPTBmnErCzsUJ+i3wo+xX7UE6cS5WEEIKigRCSpXn27FnS8djR4OOyUlL2q5KwyGcOe1trlFFAexjjSfK5Bc9vmc9JGafisCtqhfwW5jyvZz47yeOOElBGKwCYmpoauglGzYkTJzB69GhDN8OoKV++PB4+5K0ThJCsy9OnT1G6dGlDN0NxDBo0CFFRUYZuBjFClHLCT4yLkydPYuTIkYZuBjFSlFJXK2b0MzFRxhQPY2Xv3r0YPHiwoZth1JQpU4aigRCSpXn69CkcHR0N3QzF4eXlhSNHjhi6GcQIoWggcti3bx8GDRpk6GYQI0UpdbViRj+ldIixQtGgPxQNhJCsDkWDbigaiFwoGogcKBqIPiilrlbM6KeUDjFWKBr0h6KBEJLVoWjQDUUDkQtFA5EDRQPRB6XU1YoZ/ZTSIcYKRYP+UDQQQrI6FA26oWggcqFoIHKgaCD6oJS6WjGjn1I6xFihaNAfigZCSFaHokE3FA1ELhQNRA4UDUQflFJXK2b0U0qHGCsUDfpD0UAIyepQNOiGooHIhaKByIGigeiDUupqxYx+SukQY4WiQX8oGgghWR2KBt1QNBC5UDQQOVA0EH1QSl2tmNFPKR1irFA06A9FAyEkq0PRoBuKBiIXigYiB4oGog9KqasVM/oppUOMFYoG/aFoIIRkdSgadEPRQORC0UDkQNFA9EEpdbViRj+ldIixQtGgPxQNhJCsDkWDbigaiFwoGogcKBqIPiilrlbM6KeUDjFWKBr0h6KBEJLVoWjQDUUDkQtFA5EDRQPRB6XU1YoZ/ZTSIcYKRYP+UDQQQrI6FA26oWggcqFoIHKgaCD6oJS6WjGjn1I6xFihaNAfigZCSFaHokE3FA1ELhQNRA4UDUQflFJXK2b0U0qHGCsUDfpD0UAIyepQNOiGooHIhaKByIGigeiDUupqxYx+SukQXajVaiQkJCAxMdHQTUmTL0k03LlzByqVCtevX4darc60v0vRQAjJ6ihJNCQfezPzOJAWFA1po1arkZiYiMTEREV8VkqDokE3arUab9++RUJCgqGbokgoGtJGrVbj9evXHG8+glLqasWMfkrpEF3cuHEDGzduxPHjxw3dlDT5kkRDREQETExM8O2331I0EEJIJqIU0ZCQkIC4uDiEhobir7/+MnRzKBrSQK1W4/Hjx9iyZQuOHz+ON2/eGLpJioOiQRu1Wo1Hjx4hMjISS5cuRXh4OKKiovDq1StDN01RUDSk5t27d7h58yb27duH2bNnY8+ePbhx44aiLwQbCqXU1YoZ/ZTSIcm8ffsWV69exc6dO1GnTh0IIdCqVStDNytNviTREBkZiXz58mHr1q0UDYQQkokYWjQ8f/4csbGxCAwMhKOjI4QQ2LFjh8HakwxFQ2quXbuGgwcPYsSIERBCoG3btnjw4IGhm6U4KBq0efbsGTw9PeHg4ICWLVuiRYsWsLKygkqlMnTTFAVFQ2r27t2LevXqwdbWFh4eHqhUqRLq16+P69evG7ppikMpdbViRj+ldEgyZ8+eRYMGDVCqVCmsWrUK1atXR/v27Q3drDTJbNHw999/o0ePHjhx4gT+/PNPTJs2DS1btsTIkSNx9+5dzXaJiYmIiIjA4MGDMWTIEJw7d06nPNizZw/atm2LI0eOICoqiqKBEEIMgKFFQ0hICJydnVGzZk0sWLAAlpaW2LVrl8HakwxFgzYJCQlo1qwZXFxcMGzYMNSvXx+urq48huqAokGbrVu3Im/evAgPD8eTJ0/w7NkzDB8+HHZ2dvj3338N3TzFQNGgzaNHj9CwYUN07NgRcXFxePv2LWJjY+Hs7IyFCxfi3bt3hm6iolBKXa2Y0U8pHZLMgwcPcO3aNdy6dQsJCQlo1KgR2rVrZ+hmpUlmi4Z79+6hSZMmGDFiBEqXLo0KFSqgffv2GDVqlJZocHZ2RrFixTBx4kSMGzcODg4OaNSokeb3iYmJcHd3R86cOeHl5YUxY8bAysoKQghs27aNooEQQjIRQ4uGP/74A7///jvu3buHK1euoHDhwti5c6fB2pMMRYM2CQkJuHjxIm7duoX79+/D09MTbdu25TFUBxQN2ri6uqJixYp4+/at5mf//PMPhBAICwszYMuUBUWDNmfOnIGFhQW2bdum9fPx48ejYsWKnE31AUqpqxUz+imlQwCkKm7VajUaNmxI0ZCCBw8ewM3NDUIIVK1aVef9Uc+fP4cQAps3b9b8bP369RBC4MKFCwCAo0ePwtzcHOvWrdNs4+/vDyEEtm/fTtFACPlkkhelI/IxpGj4cLy/cuUKChUqRNGgMD78nJ4/f07R8BEoGrRp2bIl6tati6dPn2Lz5s04dOgQ1Go1hBDw9/c3dPMUA0WDNidPnkSuXLkQHx+PiIgIhIeH4/r161iwYAFKly6N+/fvG7qJikIpdbViRj+ldIguKBpS8/r1awwZMgRCCM0Mhg9PPsLDw2FmZoazZ8/i6tWruHr1KiIjI2FqaoqBAwcCAHx9fSGEwK1btzT/fs+ePZzRQAj5bKKjozFv3jzcuPE7VzKXiaFnNKSEosE4oGj4OBQN2ggh0KJFC5w6dQrZsmVD3bp1NaJh6tSphm6eYqBo0CY4OBhCCFy/fh0eHh4QQmDFihVYuXIlcufOjTt37hi6iYpCKXW1YkY/pXSILigaUqNWqzF69GjUrVsXDx8+1CkEhg4dCiEEnJyc4OzsjLJly6JcuXKoU6cOVq1aBQCYNWsWhBD4+++/Na9x9uxZ5M+fn2s0EEI+i9jYGBSysUfx0hUQHByEv/++ZegmGR0UDbqhaEgbioaPQ9GgjaOjI+rVq4erV69iwIABWLRoERISEiCEQGBgoKGbpxgoGrT54YcfIIRAVFQUAgMD0atXLxw9ehSLFi2Cs7MzZzR8gFLqasWMfkrpEF1QNKQmMTERI0aMQK9evfD8+XOd22zevBmmpqY4ffo0bt26hb/++kuT5JORVatWQQiB33//XfPvdu/ezRkNhJDPJjoqEnVbd8Fo/6Oo49of7Tp0wnffbeFj0z4DigbdUDSkDUXDx6Fo0KZv374oU6YMHj9+rPnZn3/+CRMTE0Us/KoUKBq0iY+Ph42NTSoZNWLECDRp0kRrfyLKqasVM/oppUN0QdGQmsTERAwfPhyenp548eKFzm2S12jYsGGD5mc7d+7EsGHDcOuWdKXxwIEDyJ07N0JDQwFIz8idM2cO12gghHw2Z6MiUa9NVwSfA3wiXmDw8h/gXLUeunv0wO3btw3dPKOAokE3FA1pQ9HwcSgatNm5cydy5cqF3bt3a37Wu3dvFC1alE8OSAFFgzZPnjxB48aN0bp1azx58gQA8PPPP8POzg5+fn6ZWi8YA0qpqxUz+imlQ5K5ePEiRowYgT59+sDT0xMFChSAg4MDBgwYgC5duuDmzZuGbqIWShQNANCuXTuYmprim2++Qfv27ZE9e3Y4Oztrfv/27VvUr18fQgh4eXmhW7duaNSoEaysrHjrBCHkszgbFYl6rbsiMBYIjAVUMWqsOfUcbfvPQI6cuRC2dt1/v0gWx9CiYfv27fDy8oKnpyc6dOgAMzMzNGnSBF5eXvDy8sLLly8N0i6KBm3evXuH0aNHw9PTEx4eHrC3t4eVlRW6du2Knj17IjY21tBNVAwUDdo8fPgQTk5OEEKgW7duaNKkCczMzLBp0yZDN01RUDSkZuXKlciTJw9y5syJ8ePHo0SJEqhdu7biajIloJS6WjGjn1I6JJnLly9j7Nix6N+/P/r3749BgwZh0KBB6N+/Pzw8PPDnn38auolaGGKNhu+++w7r16/Hmzdv0twGAP766y90794dNWrUwKpVqzQmMqVECA8Ph4WFBSIjI/Hu3TssXLgQsbGxFA2EkE9Gl2gIjAXWXgamboiDpZUDmjZvjZs3/+BikWlgaNGwa9cuDBw4EP3798eAAQMwePBgDBgwAP3798fAgQMNdhsMRYM27969w4QJE1KdIw0YMACenp6Ij483dBMVA0VDau7fv4+pU6fCxsYGgwYN0jyJjFel30PRoE3yvnHw4EF069YNBQsWREBAgGZtBu472iilrlbM6KeUDgE+fWdV0k6dmaIhPd538muo1WrF9CNFAyHGzYeiIaVwCD4HhF0E2g2eDyt7JyxfvhJ//vWXYsYfpaCkx1vqu116QtHwHiV/TkqEokGbj+0X3GfeQ9GgzcfqBSXVEkpBKXW1YkY/pXSIsZLZMxq+RCgaCDFu0hINKWc3hF0Cpm0+j8oteqBdx84ICgrGy5dp3/6V1TD0jAalQtFA5ELRQORA0UD0QSl1tWJGP6V0iLFC0aA/FA2EGDcfEw0pZUPIecDvzGuM8DmEcjWbwdW1A86ciTR08xUBRYNuKBqIXCgaiBwoGog+KKWuVszop5QOMVYoGvSHooEQ4+a/RMOHwiEoHlhx9D76zd+MEk5lMH78eM0aMlkVigbdUDQQuVA0EDlQNBB9UEpdrZjRTykdYqxQNOgPRQMhxs2nigZd0mHxvv/BqVIDfP11Rfz6669Z9n5PigbdUDQQuVA0EDlQNBB9UEpdrZjRTykdYqxQNOgPRQMhxo0c0ZAsG4LipadT9J65FiKnBaZNn4k7d+9muadTUDTohqKByIWigciBooHog1LqasWMfkrpEGOFokF/KBoIMW7kioaUMxvW/QwsPXgHlZt3R9W6zRC+fj3u3r1r6LeWaVA06IaigciFooHIgaKB6INS6mrFjH5K6RBjhaJBfygaCDFu9BENWo/CjJeeTjHS9zAqNXaDayc3HDh4MEvMbqBo0A1FA5ELRQORA0UD0Qel1NWKGf2U0iHGCkWD/lA0EGLcpIdoSDm7ITgeWHX8MfrM2YBKtRrCzb0LHjx4YOi3maFQNOiGooHIhaKByIGigeiDUupqxYx+SukQY4WiQX8oGggxbtJLNKSUDcn/vSbiBWq17Y0CBSyx5futhn6rGQZFg24oGohcKBqIHCgaiD4opa5WzOinlA4xViga9IeigRDjJj1Fw4fSQRWjRugFYPrm87C0LoYOrh3x559/IjEx8Yt6QgVFg24oGohcKBqIHCgaiD4opa5WzOinlA4xViga9IeigRDjJqNEg9b6DecA/6i3qN95BEqVr4r168Nx69ZtQ7/1dIOiQTcUDUQuFA1EDhQNRB+UUlcrZvRTSocYKxQN+kPRQIhxk9GiIVk2BMUB664Ak9adxVc128D1m87Ytm07Xr16aegu0BuKBt1QNBC5UDQQOVA0EH1QSl2tmNFPKR1irFA06A9FAyHGTWaIhpTrN4ReAHwiXqDfwi2o0cwN3bt2QUxMjKG7QS8oGnRD0UDkQtFA5EDRQPRBKXW1YkY/pXSIsULRoD8UDYQYN5klGj4UDkHxwLLD/8Bt9Ao4lHDCsuXL8ebNG0N3hywoGnRD0UDkQtFA5EDRQPRBKXW1YkY/pXSIsULRoD8ZLRrUajWuXLmC9evXY9OmTQzDpGO2bNmC8WPHoEqjDpkmGgJjgcAk2aCKUSMoHpiz7ReUdKmJEo5f4datvzNsPMkoKBp0Q9FA5ELRQORA0UD0QSl1tWJGPyEEHjx4gN9//535zNy8eROhoaHo0aMH7ty5Y/D2GGMePHiAEiVK4NGjRxm2j6vVaixctBgWdmVRv8tI1P1mCMMw6ZQ63wxB3W8Gw2OyKnNFw4frN8QD638B2g6cjWy5LbBw8VI8fPgQCQkJGTa2pCdPnz6Fvb09Hj58aPBxWSm5e/cu3N3dsWHDBvzxxx8Gbw9jPLl37x6EELh//77B28IYT27evImwsDB4eHjwvJ757Dx48EAxglMZrYAkGpo2bYoGDRown5mGDRvCxcUFRYsWRePGjQ3eHmNM06ZNIYTIcNGwytsHncZ4Y/MNaTE5hmHSMT8DYZfe39JgKNmgilFj3c/A8iP/okIjN9Ss1wRbtmzB48dPFP8ozGfPnvF4/EEaN24Ma2trVKhQAQ0bNjR4exjjSZMmTSCEQJMmTQzeFsZ4wvN6Rp8k1zRKQBmtAGBqamroJhg1x44dw8iRIw3dDKOmXLlyGX7rxCpvH7QftgRhlwxTBDEMkzlJnt0QFAf0X7wN1Vt0gUfP3jh+4kSGjTHpwdOnT1GqVClDN0NxDBw4EGfOnDF0M4gRopQTfmJcnDhxAiNGjDB0M4iRopS6WjGjn1LuJTFWuEaD/mTGGg0UDQyTdZI8syL4HLDix/voMsEf5StUxZChwzN09pQ+cI0G3XCNBiIXigYiB67RQPRBKXW1YkY/pXSIsULRoD8UDQzDpHdS3sYREJ2AFT8+QKPOQ2FX1Abbt+/IsPFGLhQNuqFoIHKhaCByoGgg+qCUuloxo59SOsRYoWjQH4oGhvn0+J5+Bd8zrxBwNkHr56oYNfyj3sLn9EsERCcYpG1KTcrHYQ73PoBc+Qph8NDhuH//PhITEzNs7PkcKBp0Q9FA5ELRQORA0UD0QSl1tWJGP6V0iLFC0aA/FA2Zk4CzCVj54wPM23kdi/f9D2tOPTfY4n0B0QlYcfQeVh57AL/INwiMBfwi3yT97CH8z7777NdctO8vLD14W3ab1px8hhVH72HF0fsf5B5Wn3hi8M8vMFZacLF4uepwrtEMI7z3I+TC+9/5Rb5B1/FrYFWsNCaEnEJQnOHbq8SEXQS8f3qKWu37oohdSezatQv37t3LsPHnU6Fo0A1FA5ELRQORA0UD0Qel1NWKGf2U0iHGCkWD/lA0ZHx8T79Er+nBqNm6J6yLlUapyvXRvOc4TNsYl/lXv+OA5UfuoVKjjqj/zSBM33QOoReBaRvjUbV5FzTuMhyL9v0PQfGf9npBccCaiBcoX6c1GrgNRsj5z29T6EWg1/RgVG3WGdVbdtdK1Wad4Tp0gcE/w8BY6QkPQghky54TvWeGIezi+9/5R72F19xwONdqgakbYika0kjyYpHhV4EhK3ejVI2W6N6zD/bvP4AXL15k2Dj0X1A06IaigciFooHIgaKB6INS6mrFjH5K6RBjhaJBfygaMjahF4GuE3wghIAQAvmL2CG3uSWEECjqWB5LD96BKkYNn4gXWHroLnwiXiAoHliy/2/M3XFNZ8GvigFWn3iC+T/8Dt/Trz5rZkRQHLBg9x8QQiBXXgsMW70X664AQ1f+ACEE8hW0wszvLiL43Pt/ExCdgIW7/8CS/X9rZkAkF42+Z15hyIpdyJXXAl9Vro9Vxx9j2eF/sPqnp5/crnU/A3U6eGn6qLhzNTiUqQyHMpVh6+SCBm6DERgrzRpYeuguVp94AlWMGn6RbzB3+69Qxeh+3YCzCVi096+k7dP4+3HAnG1XseTALfieeZ3q9/5n32Hhnj+x5tRzjWjImScfPGevR9hFQBWtxvIj/2L5kX+x7PA/WHrwjtbrSJ/tSyw9dFczi8Un4gXm77qBgOjEVEW4z2lp2+R+Xnb4H6z48b6sWSZKTfKjMEMvAr5nXqHH9FBUrtcKAwcOxI0bvxvkUZgUDbqhaCByoWggcqBoIPqglLpaMaOfUjrEWKFo0B+KhgxMHLD8yL8oU60xhBCo2qwzFu39C2NVx2FT0hlCCHjN3QBVjBo9pgYit3l+9J4ZhlpteqFQ0eIoaFMcTbqNkorOOOke93k7r6HjsIWwtLJHQZvisCxiB8/Z6z65TZJouAkhBMwti2CE936suwIMW7UHQggUsHbArC2XEXJemqnQf+F3KO5cDQWsHVDA2gFlazTF/F2/ITAW8Il4gdZ9pyFXXgsIExNkz5ELhe2dUMDaAc16joPqg0I6ray7AtTvNFAjGlafeIylB29j6cHbWHLgFlb++ACqGDWmbz6PnHnyoUWv8XAbtQxFHcujgLUDnCrWxaR1UQhJkiMBZxMwdOVuOFaogwLWDihoUwx1O/aH75lXmr/pH/UWg5ZuQ+mqjVDAyh4FbYqhdNVGmLohVrON98lnaOg+BPkKWqFE+ZpYsPsPlK3RDNly/X6mnQAAIABJREFU5ILn7PVYexlYc+oFrIuXQWE7RxS2c4R5gSIY439UM6MhKB4YvGwncuY2R/dJfmjlNQWF7RxhaWWHio06YsHu3zXbSvtKE1gUskHdDn2x8thDFLB2gGOF2pi7/aqW/PkSklJELdr3P3QctgAOJZwQoArMsPEoLSgadEPRQORC0UDkQNFA9EEpdbViRj+ldIixQtGgPxQNGZegeGBi6GlYWtlBCIFJayMRFCcV6PU69ocQAmVrNENgLPDNiCWaQjuPRUFYFLJJmnWQH33nbcTay1Lhmy17TpiYmqKkSy006jIcufNZJr121CcVop8qGjZeB6q16AYTU1OYmmWDQ5kqyFfQGkIIFLQpjqA46Wp07xmhKFS0BIQQyJu/EKq39ECVpu7oPsnv02c0fCAa1l7Rvd38Xb9BCIHc5vlhapYNRR1dNP+mdntPBMVLawB0HLZI6rs8+WBVrDTMsmWHEALNe45D2CVg7WWgdd9pECYmkgBq3hU58+SDEAIOZSph+eF/EBgLDFi4RZrBkNsc+QvbwtQsm/aMhkvS4pA1WvdAlabuKGBdDEIIDF25W5qJEiM94rH/gs1SfxcoAiEEbFO022NKgOZzKeZc7f3fK2KnabdlEbtUs0y+xASfk27hKWxbAtVr1sHdu3czbFz6EIoG3VA0ELlQNBA5UDQQfVBKXa2Y0U8pHWKsUDToD0VDBhZO8cC4wBPIV9AKQggs3v83AmMBVSzQynNykmhoisDY96KhsJ0j5u74FeG/AuVqtYQQAnVd+2HzDaDdgFkwMTFBbvP8mLYxHuG/Ak09xkCYmKCI/VdY/8t/tymlaNCVAtYOmP39FQTFAVbFSkEIgYmhEdh0A5gSHqORCmNVxxF8DtjwK9C85zgIIVCpUUeEX5UWTUxeq+FTZMOHoqF8ndZwrtkczjWbw7FCbcz49gICY9+LBiGEdMvHz8CktVEQQqBMtcZYeuguwq8CeS0LwyxbdriNWoZNvwFuo5ejsG1J5C9cFN4nn8En4gUqNuwAIQRG+R7Gup+B5Yf/hVOFOhBCYFzQCQTGAiVdakIIgbb9Z2DDNWDmd5e0RENo0hoNYZekfm3ZZ5K2aIjVFg1CCCzccxNrLwN9Zq2DEAIN3AbDJ+IF/CLfQgiBHLnyYMDCLdh4HfiqUv0UouHSFy8aktdvWHcFcB22CLny5MOSpcvw5MmTDH86BUWDbigaiFwoGogcKBqIPiilrlbM6KeUDjFWKBr0h6Ih4yIVmd9q3RIQGCsV4a5D5+sUDQ07D4XfmdcIPgd0m+gLIQSqteiG9VeB4klXvLPnzI0m3UahqcdoONdsrrnSHnrxv9uUUjSYmJqisG1Jza0RyaJh7o5rmBAagXwFJEHie+Y1guOBVccfw7FCbQgh0G/+JoScl2YHNOk2EkIIVKjfXtZikB+KBlsnFxR1LIeijuVQwNoBU8JjEBj7XjSYWxbBrO8vIzAOWHroDoQQKFS0BKZtjMOKo/dgYmKKPBYFMG/nNQSfA0IvABuuARuvSfJn6sY4FLF3ghACq45Ln8mak89Qu50nhBDoPHYVAmOlE2VTs2zwnL1O07e6RENgLOB35jWa9Rj7UdFQ2NYRPqdfIjAWGON/VFqPolw1rDh6DzOSJIatkwvm7biGtZeBsYHHs5RoCIxNFlNqhF0CxgWfgjDJjt6eXnj69GmGjVEARUNaUDQQuVA0EDlQNBB9UEpdrZjRTykdYqxQNOgPRUPGJSgemLT2jKaInxIeg6A4aVHDRl2GS8V5g/YIjH0vGlp5ToEqRo3gc0Cv6SEQQqB6y+5Y/wtQvk5rzVXvZj3GoaH7EDTuOhLNe45Di94T4RPxEoH/8bSDlKIht7klek4PxrLDd9EtacHKAtYOmLfzOoav3oc8FgUghIB/1DsExQM+p1+iVOUGEEJgxJoDCD6XMaJh2aE7WPDDDSz44Qbm7bwO39PS2grJosG6eBnM23ENgbHAmlPPNcX4lPAYTN0QC1NTM+SxKIgFP9xIVZwHxQMTw04jfxFbCCGw8thDzesk387Se0YoAmOhkTr9FmxGyAVJWOgjGpwq1pU+o1hg8tpIjVhYfuRfTFkfo3lvM7dcwtrLwPDV+7KcaAiMlRY7HeG9H7Vae6Br9544dOgw3rx5k2FjFEDRkBYUDUQuFA1EDhQNRB+UUlcrZvRTSocYKxQN+kPRkHEJigMW7f0TjklT8ht1HoageGD+rhsoXq46hBDoOsEHqhi1RjS07DMJquhEBJ8Dek4L0oiGkAvAwMXfw8TUFPkKWmuKTu+Tz7Dk4G0sOXj7PyVDcps0azQUKIKRPgex/hepsEsWDXO2/YIVP95HYTtHCCEwdWMcQi8Cc3dcg62TS9JMgEcIjE1a78BrqmbthmQp8Dn5UDSs/0USAslJ3i5ZNFgVK4W5O35FYKw0E0EIAUsrO2kNjHjA1CybdAvCoi1Y/wvQe+ZalKvVAs41m2PJfmlxSecazSCEwPRN5xAUByw9eAdlqjeBEEKaLRELlK3RFEIIuA5dgLBL0uemj2go+XVt+ES8QGCsJKCEELD76mssPXQH/lFvNetzDFyyFeFXgSbdR2cp0RB8TvqMa7T0QPV6TfH9lm/x4MEDrbEko6Bo0A1FA5ELRQORA0UD0Qel1NWKGf2U0iHGCkWD/lA0ZGxCLwBNu4+BEAJm2bLD1skFhWxLaorquduvfZJoCIyVZkKYmmWDqVk2NOo8HP3mb4Z18TLImScf6n8zCGsv//eaCJ+zGGTpqo2kBRLLVsGgpds0hXipyg2SpIYaIeeB0X5HNAtFFitbFVM3xGJs4HH4fKJ0+FA0NOw8DPU7DdSkVtveWHH0Phb8cOOjomFi2Bms+xlo6D4EQgjYl66I1v2mw6JwUc3sgbBL0oKRyX+vkG0JDF66HV/XawchBJxrttDMcug0fFHSzI/8aOk5GVWbd9USDet/kd77oCXb0G/BZk1/tfKcjMHLdmDQ0u1QxajRf+G3HxcNB+8gKA4aiZMjVx6UdKmFHLnyZBnRoIpRo++8TcidvwimTpuOhw8fasSCWq3O8EdeUjTohqKByIWigciBooHog1LqasWMfkrpEGMlI0VD8sntf53kqtVqJCYmamKIZ8DrA0VDxhZPgXFAQHQiytVuiWzZc8DU1AwmJib4qnJ9zPzuElQxaqhi1HAbtQxCCLTuO1UjGnrPCIUQ/2/vzuOirhb/j39Qy12TAjNRUSFJMRXFXElxA3HBpWua+QVv1i/Sm5Y3y1upbe7GFUslSTTbvIJl5ZIrKigIIqK4G4iAG7GDLDPv3x/IyMBg+vnM+Dmf5v18PM7jXscJDkc4M+fFLBKeG/4yVsfoEHISmPLB10bvWmBTqxbsWz995y0S//qFF4PjgM9+KQ8NTZ94Cv8K2oH1p4Hp//0NkmSDJ1q2w7zNpxFysvw3+O2f7Wt4DQhJkuDUtR8+/DHx7se88/W17dwLtes8Yriui/sgLNmZcV+Psgg9fTcO1K7zCGxq1TYakiTh023J+HTbH5AkCS3adqz01Ik8QzCYs/4IvooHFu9IQ9cBY8rXx8bG8O4NS3ZdQ/Cdtwn97JcUdPMch0fq1rtzvVpo/Ux3vL32AFbHlGFtLLBibyZc7zxdRZIk+M3fAPdhE2FTqzZGB3yKH68ADs7PQpJsINnYoFbtOnfmX6v8z7VqY+XhAry66H/la9et/92nToQeNUScJbsyDJ/PfdhESJKEgRNmGB5B8Zh9S8z78e8ZGtbE6LB4Rxq6PD8azk5OOHEiwbBvPMy9lKHBNIYGkouhgeRgaCAlRDlXC7P7ibIgplQcoEVmydBQVFSEAwcOID09/Z53ePPz87FlyxZs27YNYWFhyM7Otsh8LIWhwcIHqTuPMPg6Efjwh5PwW7AB8zafRmgSDAfHNcf0WPjrFcz6cg8+3XbZ8N8s3pmOWav3YsGWM4YgEZJQfjD/4PsETFv4IxbtSENokvHn+quxKqoIb63Zh3e+jsKKvZkIPg4s33MLb689gHdDj2LloXysjS0/kG84A6w8XAC/+RuwePtVbEgqf0HFis9V8b8bzpQf3gOW/4zZwRGY/7/ThgP7X43g4+VPy3h77QHMDo6oNt5asw+rooqwKrIIM7/cg/c2xBgeGbA6ugyzvtyDOeuPIvBATvnHiytfo5WH8jFt4Y/44LsT2Hi2/PKKdQyOK5/zqqjb8Ju/AZ9u+wOhScbvlhEcV/6IlLfXHsCy3TfwdSIw78dTeGvNPizYcgYhJ4G538SanPPs4AjM/uogVsfosGz3DcxavQf/+TbesCaBETmY+eUezN0Yiy+OFGNtLLBiXyYW77iKJbuuYf0p4J2vo+68boMLAg9k34lJf5+xeEca/vnJt3By7oB/zZiOkhLLvg7DvYgUGkS67WVoqNn9/CLCmjE0kBwMDfdWVlam9hSEJsq5WpjdT5QFqaysrAynTp3Cxo0bsXLlSoSFheHy5cvC3PGpzJKhITU1FW3btsX3339/zzsS6enp6N+/P3r16gVJkhATE2OR+VgKQ4PlR8VhfN2J8uBQOTBUPmyHJJQf4g0H3YrLTFx/3Qkg5OTd6z/oXEISyj9GxeE7OA5Yl1D9bSkr/u7rROO5Vf2YFS9gGXKy/OOYmvO95vRV/J3Pb2KEJNy9boiJORoui6uypnHlT5Oo6QUqjb42E/M1/LsllP/7VJ7nV/Hlf153ouZ5r0u4O49q865y2dpY4IVZy9HSqTM8xr2GGSt3oPvgf0CSJHiMfx0bztx/SBJ9BEbkYHrgr+jcewjGjPLBsdhYo/1CDSKEhqKiIhw5cgTBwcFYvXo1du7ciVu3bqk6J4YG03Jzc3Hw4EEEBgYiLCwMqampDA5VMDTUbO/evQgKClJ7GkJiaDAtKysL27dvx8qVK7F9+3Zcu3ZN7SkJSZRztTC7nygLUtl3332Hrl27wtPTExMnTkT37t0xYMAAXL58We2pVWPJ0JCWloZnn30WW7Zs+cunTgBAYmIiHn/8ccTFxVlkPpbC0MDBIcZ4b0MMbJ9sXf46DfUbokETW/Qe8X9YEHbWEDbUnqOSseaYHnM3xcHd6yWMGvMCNm7Y8FBfh+FeRAgN7733HlxcXODj44OxY8fC2dkZU6ZMUXVODA3VnTp1CmPHjsUzzzwDDw8PdOnSBe7u7qpHIdEwNBjT6XRITk7GihUrYG9vz/WpAUNDddu2bYOvry/atGmD0aNHw9XVFRMnTkRKSoraUxOOKOdqYX66RVmQCvn5+ejXrx98fX2RkZGBvLw87N69G0888QRCQ0OFe1TDwwgNYWFh0Ol0CA0NxQ8//ICCggKT1z937hzs7OxMhobFixdj48aNRpetXbsWwcHB1a57+fJlzJkzB7t3734oD5FiaODgUH9UPCrks1+SMfurQ3jzi91YsOUsPt+fpfnAsDYWWB2jh+/0hWjZxgmLFy/BjRvXjfYItakdGq5evYq6devi3XffRX5+PgoLC7F4cfkLxF68eFG1eTE0VOft7Y3HHnsMe/fuRVZWFs6fP49WrVph2rRpak9NKDxIG3v99dfRokUL9O/fH5MmTeL61IChwVhhYSF8fHzg6uqKI0eOIDs7GwcPHoSLiwtWrVrFp1JUIcq5WpifblEWpEJxcTG2bdtmdMcmJSUFXbt2xbx581BSUqLi7KqzdGjo3r07/vOf/6Bt27bw9Cx/xf1nn30Wp0+frnb9s2fP1hgann76abzwwgtGlw0ePBhDhgwx+nzjx4+HjY0NPD090bx5c7Rq1QoRERHm/+IqYWjg4BBrVESHqpepPS85Y90J4D+bjuOJFo7o1dcDaWlXLbbXKKF2aMjJycGGDRuM3s5z7969eOSRR7Bz507V5sXQYKy4uBh2dnaYMWOG0eX+/v48OFbB9TC2b98+HDlyBKWlpQgKCuL61IChwdjhw4fRsGFDhIeHG6K8TqdDQEAAvLy8kJOTo/IMxSLKuVqYn25RFgSo/lulioeyhoSEwMbGBseOHVNpZjWzdGjo27cvHn30UZw5cwYAsHv3bkiShKCgoGrrda/Q4OzsjHHjxhld5unpicGDBxv+/O2336Jhw4aGzwUAM2fOROfOnXHlyhVzfmlGGBo4ODjMPdbE6LB87y34vvEpGjZqhHXrQoz2BNGoGRpqWo8RI0bAzs7uIc/GGEODsaSkJDRo0ACbN29GYWEhDh48iJycHMOjT7T2YtCWxIP0XVV/xhkaasbQYOzAgQN49NFHcfToUVy8eBFHjx7Fn3/+iU8++QROTk64efOm2lMUiijnamF+ukVZEFN0Oh0iIiLQrl07zJgxA0VFRWpPqRpLhwY3NzfMnTvXcFleXh7Gjh2LKVOmID8/3+j6SkJDaWkp5s2bh86dO2P//v04ceIEEhISsHr1akiSZNHfaDE0cHBwmHMEHsjG/1sSjmefG4AX/zEet25lGvYCESMDoP4jGiorKipCYGAgGjdujK1btwJQL84wNBiLjY1FvXr1sGPHDuzbtw+SJCEwMBArVqyAJEnIyMhQe4rC4EG6ZgwNNWNoMLZhwwbDU+j+8Y/yF4hesmSJ4bU+rl+//tcfxIqIcq4W5qdblAUxZf369ejQoQMmTpxoeCFI0e4kWjo0dOnSBevWrTO8NkVhYSEmT54Mf3//aq/VoCQ0ZGVlwdfXF0888QSGDx+OUaNGYdSoURg2bBgcHBywfft2i3yNwMMJDcs/D0SfsQH4KPw8PvzhJAcHhxnHB9+fwCc/X1I9MKyNA6YH/oZ+o/8JX98xCNvyP4vtK+YmSmgoKCjAe++9B2dnZ8ybNw/FxcWq3u4yNBiLi4tD/fr18e233yI5ORl+fn6IiYnBkiVLIEmS0VNfrB0P0jVjaKgZQ4Ox8PBwSJKEqKgofPvtt5g5cyYiIyOxcOFCtGnTBjdu3FB7ikIR5VwtzE+3KAtS1YoVK9CoUSPMnTvXcKAW8bdRlg4N3bp1w+LFiw0vtpKTk4MxY8Zg6tSpDxQaOnToAHd3d6PLPDw8DKGhqKgIb7zxBgYOHIjIyEicOHHC8KiGhIQEiz4c82GEhu++/x4Dho7EBP8Z+IffGxwcHGYaL06dgYHe4+Ax9jXVAkPwcWDRb6kYNHEmnDt1w4b1Xxvd+RHtdsMUUULDq6++iieffBKbNm0yXMbQII7MzEzY2tri9ddfBwDDLyGmT5/Og2MVXI+aMTTUjKHB2OHDh9G4cWOsX78eZWVlhj1n1qxZ8PDw4NO1qhDlXC3MT7coC1JZeHg46tWrh59++gmlpaUAxL2jaOnQ0KNHD7z88suGF8E8f/48Wrdujblz56K4uNjo+vcKDb6+vkY3KteuXYOrq6vRi0GuXbsWbdq0MbxdjV6vR2JiIiIiIiz6tJWHERqKiorw559/cnBwmHnk5eVh966d6DPsBVUiw+oYHV5bGo7Hn2qLf82chdTUVGHesvJBiBAaFixYgMaNGyM+Pt5wmdrrx9BQXevWrVG/fn2jy3r06IFBgwYBUP/fTBQ8SNeMoaFmDA3GMjMz0bdvX/j7+xvOZMnJyejYsSM+/vhjw2VUTpRztTA/3aIsSIVLly7B1dUVDRo0QGhoKNavX4/169cjJCQEv/zyi1W968Tp06fh6uoKSZIwZswY7NmzBz179jR6zYS8vDwEBwdj48aNeP/991G/fn3MmjULoaGh2LRpk+HdO7Zt24Y6derglVdewaFDh+Dt7Q0bGxs4ODgYPl90dDRatWoFOzs77Nq1C7NmzYIkSRg/fjzy8vIs8jUClg8NRGRZ0UePoJ/3hIcaGNYc0yPocCH6+U6D7WNN8Ouvv6m9DIqoHRr27t0LGxsbODs7Y/PmzUa3vZZ+56F7YWi4qyIghIWFoVatWujQoQN+++03TJ48ma/PYAIP0sZ+//13hISE4LvvvsO4ceMgSRJCQ0Px9ddfY/fu3QxUdzA0VPfOO+9AkiS0b98esbGxGDx4MBwcHJCQkKD21IQjyrlamN1PlAWpEBERgX79+qFjx45o27atYbRs2RJjxoyp9nQBtVkyNMTFxaFHjx44fPgw9u/fj44dO8LDwwNJSUmG61y5cgV2dnZwdHRE+/bt0alTJzg5OcHR0RGdO3c2vJBXWVkZVq5cCQcHB3h4eODWrVsIDAyEo6MjgLt3YAoLC/HRRx+hdevWaN++PV566SVDrLDUjRBDA5G2PczQsOaYHoEHsuG3YCMcHFrDz89fk49gqErt0LBixQp07twZzzzzDBwdHQ23vQ4ODpg5c6Zq82JoMFbx/R0eHg5HR0c8+eST8PDwwP79+6HT6TT7/W8JDA3G/P390bJlSzg6OuLpp5+Gq6sr2rZti9atW8Pf39/wkHhrx9BwV+X9ZM6cOXBxcUGLFi0wfvx4o0e+0V2inKuF2f1EWRBAmw/3s1Ro+Ku1eJA71Pf7se51PUv+2zA0EGnbwwoNQYcLMWPlTjw/2g9DBg/CoUOHDHPQ4u1HZSK+veWDXscSGBqqq/xvofXve0tiaLjLXPcXrQFDg7Gq54OK14yr/Pd0lyjnamF2P1EWRKss+YiGysxxx+J+P8bDvhPD0ECkbQ8jNHzy00U8P+51eHgOw7qvglFcXP40Oi0/iqEytR/RICqGBtOqfs//HX4GzI2hgeRgaDCNgfP+iHKuFmb3E2VBtOphhYa/M4YGIm2zaGiIA0a+tgBPte2ATz9diLSrV9X+ci2CocE0hgaSi6GB5GBoICVEOVcLs/uJsiBaxdCgHEMDkbZZIjR8FQ/M33wa7Tr3gpOzC5KTk//Wv1FhaDCNoYHkYmggORgaSAlRztXC7H6iLIhWMTQox9BApG3mDA1rjunx+YFsjJ+5HI89ZovlKz43fJ6/W1yojKHBNIYGkouhgeRgaCAlRDlXC7P7ibIgWsXQoBxDA5G2mSU0xAGf78/CrC/3oucgXwz1fB5nks6o/aU9NAwNpjE0kFwMDSQHQwMpIcq5WpjdT5QF0SqGBuUYGoi0TWloWHNMj3dDo9F75FQMGTIEoaGhho/9d3mxx7/C0GAaQwPJxdBAcjA0kBKinKuF2f1EWRCtYmhQjqGBSNuUhIZlu29i6JQ5cO8/BEEr/4urlV7s0RoCQwWGBtMYGkguhgaSg6GBlBDlXC3M7ifKgmgVQ4NyDA1E2iY3NMz5Ogot27tiwouTcO7cOeh0OgDW8yiGyhgaTGNoILkYGkgOhgZSQpRztTC7nygLolUMDcoxNBBp24OGhtUxOvT0moQG9esiLHyr4eNYW1yojKHBNIYGkouhgeRgaCAlRDlXC7P7ibIgWsXQoBxDA5G23U9oWHNMj/8ezMX/WxqO9i6uGDbMy6ofwVAVQ4NpDA0kF0MDycHQQEqIcq4WZvcTZUG0iqFBOYYGIm37q9DwZXQpZn91CH1HTMHzHh7YuXOX4b+19sBQgaHBNIYGkouhgeRgaCAlRDlXC7P7ibIgWsXQoBxDA5G21RQago8DH4Wfx+BJs9B/8Aj8d8Uy/qzXgKHBNIYGkouhgeRgaCAlRDlXC7P7ibIgWsXQoBxDA5G2mQoNq2N0ePmDdXiilTPee28uLl26ZLg+nypRHUODaQwNJBdDA8nB0EBKiHKuFmb3E2VBtIqhQTmGBiJtqxoaPt2WjPbdnkd39144deo0SktLDddlYDCNocE0hgaSi6GB5GBoICVEOVcLs/uJsiBaxdCgHEMDkbZFHz2Cvt7/wMpDeXh10WbYPm6Pf8+ejZKSEgCMC/eDocE0hgaSi6GB5GBoICVEOVcLs/uJsiBaxdCgHEMDkbYdi4mGq7sHOvX0RN9ePRB/IsHwd4wM94ehwTSGBpKLoYHkYGggJUQ5Vwuz+0mShKCgICxZsoTjAcfSpUvh7++PXr164fPPP1d9PlocQUFBaNSoEbKystT+USAimeLi4jB69CgsXbrUcBlfh+HB5ObmokGDBrw9rjQCAwPRo0cPTJs2TfW5cGhrrFy5EpIkYeXKlarPhUM7Y+nSpZg6dSrv13PIGkFBQcIETjFmgfLQEB4ejm+++YbjAcemTZvw9ttvY9CgQfjxxx9Vn48WR3h4OGxtbRkaiDQsKysLaenphj8zMDy43NxcNG3alLfHlcaPP/4IDw8PzJkzR/W5cGhrbNmyBZIkISwsTPW5cGhnbNq0CbNnz4anpyfv13M88AgPD2doqEqUh3ho1fbt2xEQEKD2NDTNxcWFT50g0qjKUYGBQb7c3Fy0b99e7WkIZ+rUqdi3b5/a0yANEuUOP2nLjh07+JRokk2Uc7Uwu58oC6JVfI0G5fgaDURk7fgaDabxNRpILoYGkoOv0UBKiHKuFmb3E2VBtIqhQTmGBiKydgwNpjE0kFwMDSQHQwMpIcq5WpjdT5QF0SqGBuUYGojI2jE0mMbQQHIxNJAcDA2khCjnamF2P1EWRKsYGpRjaCAia8fQYBpDA8nF0EByMDSQEqKcq4XZ/URZEK1iaFCOoYGIrB1Dg2kMDSQXQwPJwdBASohyrhZm9xNlQbSKoUE5hgYisnYMDaYxNJBcDA0kB0MDKSHKuVqY3U+UBdEqhgblGBqIyNoxNJjG0EByMTSQHAwNpIQo52phdj9RFkSrGBqUY2ggImvH0GAaQwPJxdBAcjA0kBKinKuF2f1EWRCtYmhQjqGBiKwdQ4NpDA0kF0MDycHQQEqIcq4WZvcTZUG0iqFBOYYGIrJ2DA2mMTSQXAwNJAdDAykhyrlamN1PlAXRKoYG5RgaiMjaMTSYxtBAcjE0kBwMDaSEKOdqYXY/URZEqxgalGNoICJrx9BgGkMDycXQQHIwNJASopyrhdn9RFkQrWJoUI6hgYisHUODaQwNJBdDA8nB0EBKiHKuFmb3E2VBtIqhQTmGBiKydgwNpjE0kFwMDSQHQwMpIcq5WpjdT5QFqaqoqAiHDx/G999/j4SEBOTn56s9JZNYYnMAAAAeiUlEQVQYGpRjaCAiaydKaMjKysLOnTvx008/4eLFiygpKVF1PgwNpun1eqSlpeG3335DQkKC6v9OImJoMC03Nxfbtm3D8ePHkZeXp/Z0hMPQUDO9Xo/Y2FhcuHBB7akIS5RztTC7nygLUllUVBSGDh0KR0dHuLm5oW3btvi///s/pKenqz21ahgalGNoICJrJ0Jo2LRpE7p16wYnJyd07NgRzs7OmD9/vqpzYmiorri4GH5+fnBzc8PTTz8NJycn+Pj4oKCgQO2pCYWhwVhxcTECAwPRp08fODk5wcXFBb1790ZsbKzaUxMKQ0PN5syZA0dHR7z88stqT0VYopyrhdn9RFmQCjqdDsOGDUO/fv2QkpKCnJwcfPfdd5AkCbt27VJ7etVYIjTk5eXh/PnzAIDMzExcvnwZOp0OAFBSUoLU1FTDHYr8/HxERUUhOTkZZWVl1T5Wamoq0tLS/vLzHT9+vNrlOp0O6enpyMzMBACkpaUhJSVF0ddmCkMDEVk7tUNDQUEBGjVqBH9/f2RnZ6OgoABTp06FJEkoKipSbV4MDdW9//77qFWrFgICApCfn489e/bA1tYW69atU3tqQmFoMJaSkgJJkjB69GicP38e6enpcHFxgYeHh9pTEwpDg7GrV6/i1Vdfhb29PVq0aAFnZ2f0799f7WkJS5RztTC7nygLUuH8+fN44403kJCQYLgsIyMDvXv3xltvvYXi4mIVZ1edOUNDSUkJFi1aBEmS8PjjjyM8PByTJ09GmzZtDHf0Ll++DEdHR6xbtw4ffvghJEmCJElwc3PDH3/8YfhY8fHxmDhxouHvJ0+eXO0RIadPn4afnx8kSUKdOnUwaNAgxMfHG4JFfn4+XF1dMW3aNPzwww947LHHIEkS+vbti2vXrpnlawYYGoiI1A4Nu3fvhr+/vyEsA0BMTAzq1q2LH374QbV5MTRUZ2dnh+HDhwMofygzAIwZMwb16tVTc1rCYWgwFhAQAFdXV6On2URHR+ORRx7Bvn37VJyZWBgajB04cADjxo3DkiVLAADe3t7o27evyrMSlyjnamF2P1EWBLh7g1nh1q1bSElJwfLlyyFJEvbv36/OxO7BnKHh3//+N2rVqoXPPvsMALB06VLY2NigX79+uH37NgDgzz//xNixY+Hk5AQHBwf88ssvOHToEI4fP270WydJkuDj44PMzEzcuHED3t7ekCTJcKAvLS1F586d0bt3byQnJ6OoqAhvvvkmJEnCoUOHAJT/hqtnz55o3Lgxli9fjrKyMnz77beQJMmsvzlhaCAia6dmaKh623vt2jVcvXoVnp6eaNy4saoPyWdoMJaRkYEmTZogJCQEZWVlOHfuHEpKSrB06VJIkmR49CMxNFQ1cOBA9OjRA0VFRfjjjz+QlpYGvV4PSZKwatUqtacnDIaGu6reNgCAl5cXQ8M9iHKuFmb3E2VBTJk0aRI6d+4MW1tbLFq0SNWHb9bEnKGhV69eRg9HKi0thY+PD5577jlDaMjNzcWUKVMgSRJiYmJMfpzff/8dNjY2iIyMRElJCUpKShAbGwsbGxssXLgQAHDo0CE0atQI0dHRKCwsREFBAZKSktC+fXt8/PHHKC0tRUFBAdzc3PDCCy8YbTbNmjXDmDFjzPI1AwwNRERqP6KhQnZ2NoYMGQIHBwe0bdsWO3bsAGD6DufDwNBgrOJRJrt27UJsbCyaNWuGzZs3Y9myZZAk6S+fKmlNGBqMNW/eHIMGDUJiYiJ69OgBf39/Q2io+G01MTT8FYaGexPlXC3M7ifKgpjy2Wef4f3338fw4cPx6quvIjU1VbU7OzUxV2goLi5Gly5d8M477xhdPnnyZPTs2dMQGnQ6HWbOnAlHR0fcvHnT5Hq89dZbkCQJw4cPx+jRozF69Gh4eXlBkiQEBAQAgOFOiZeXl9F1GjZsiDfffBMlJSUoKChAt27dqn19Q4YMwbBhwxR/zRUYGojI2okSGvLz8/HBBx9g5syZ6N+/PxYvXmy4/VEDQ4OxuLg41KtXDzt37kR8fDzatGmDrVu3Gm7TMzIy1J6iMBgajDVs2BADBw5EQkICBgwYgICAAIYGExga7o2h4d5EOVcLs/uJsiCm6HQ6lJaW4uTJk3juuecwfPhw4V5V2VyhobS0FG5ubnjllVeMLh8/fny10DBjxgxMmjSpxrf8XLRoEerUqYOTJ08iMTERJ0+exMmTJ5GUlGS4ExIaGgpJkrBnzx7D31dcPyMjA3q93hAa3njjDQB3f6M1cOBAeHl5Kf6aKzA0EJG1EyU06PV66HQ6lJWV4aeffoKtrS1mz56t2nwYGoylpKTgsccew7Rp0wCUv+AzACxcuJAH6yq4HsY8PT3RtWtXZGdn4/r168jMzER+fj4kScLq1avVnp4wGBrujaHh3kQ5Vwuz+4myIBXCw8NhY2ODAwcOGC7T6XSYPHkyBg4c+LcNDQDg4eGBoUOHGv5869YtPP/880ZPndDpdJg+fTr8/PxqXIv4+Hij11oAgLKyMqMwcfLkSdjZ2SEyMtJwWUlJCYqKigxBoSI0VDwKogJDAxGReakdGqZPnw5JkoxeDPL27duwtbXFzJkzVZsXQ0N1LVu2RJcuXYwu69WrFxwdHQGo9zQX0TA0GJs/fz4cHBwM72oGlN+HbdSokdFl1o6h4d4YGu5NlHO1MLufKAtS2ahRo9CuXTvEx8cjNTUVW7ZswZNPPonVq1ebfAtHNZkzNCxfvhwNGzbElClTcOLECfzrX/9C7dq10adPnwcKDUD5Q+Q8PT0RHx+P48ePo2fPnpAkCUlJSQDKn6oxdOhQPPPMMzhy5AguXryIF198EZIkYevWrUaPaGBoICKyLLVDg06nQ5MmTTBo0CAkJyfjypUr+OSTT1CrVi2jd4F62Bga7qoICG+//TYkScKCBQtw48YNhISEoEGDBka/XCCGhqouX74MSZIwYsQInDp1CpcvX0bDhg0xcuRIAAxUFRgajN2+fRvp6elITU1FRkYGBgwYgB49eiA3NxcpKSmqPrVORKKcq4XZ/URZEODuJvf7779j5MiRcHJyQpMmTdCpUyf4+voiJSVF5RlWZ67QUPG17927F/3798fAgQNx+fJlBAQEwN3d3fCDrNfrsWjRInz44YcmXxyz4uNERUVh4sSJcHZ2RuvWrdG9e3eEhIQYXefcuXN45ZVX4OLiAkdHR3Tq1AkrVqwwvIVoYWEhXnzxRcMLSFaYNm2a4ekU5sDQQETWToR3nfjiiy/Qr18/tGzZEnZ2dnBzc4O/v7/RdR42hgbTJk2aBGdnZ9ja2qJDhw7497//jbKyMh4WK2FouKvi+2LXrl3o1KkTmjVrhvbt28Pb29twn4/fO+UYGozFxMTA3d0dDg4OaNWqFTp16gRXV1c4ODigadOmiI6OVnuKQhHlXC3M7ifKglSovNGlp6fj4MGDyM3NNfn3IjDnIxqysrJw9uxZo693xIgR8PPzM7zvsV6vx82bN3Hjxo0a38aq8hpdvHgRcXFxhihR8XeVr5OZmYmIiAjk5OQYfQydTofU1FTcvHnT6OOnpaWZ9QWnGBqIyNqp/YiGyrcJZ8+exfHjx1FaWlrt7x42hgZjlf8tkpOTER0dzdvPGjA0mJaXl4fDhw8jPT3dcJlo963VxNBgrKioCMnJybh06VK1ceHCBSHfEVBNopyrhdn9RFmQymra8ETcCM0ZGq5fv47nnnsOvXv3xt69exEUFIRHHnkEv/32G/R6/QN9/fdz3QdZZ1OBwlz/HgwNRGTt1A4NgJi3sQwN1WnpPpKaGBqM8fvm/jA03HW/3xv8HrpLlHO1MLufKAuiVeYMDUD5Q1dtbW1Rv359dOzYEUFBQUaPNPg7YmggImsnQmgQEUMDycXQQHIwNJASopyrhdn9RFkQrTJnaKhcBKvGhb9zLWRoICJrx9BgGkMDycXQQHIwNJASopyrhdn9RFkQrTL3Ixqq+jsHhgoMDURk7RgaTGNoILkYGkgOhgZSQpRztTC7nygLolWWDg3WgKGBiKwdQ4NpDA0kF0MDycHQQEqIcq4WZvcTZUG0iqFBOYYGIrJ2DA2mMTSQXAwNJAdDAykhyrlamN1PlAXRKoYG5RgaiMjaMTSYxtBAcjE0kBwMDaSEKOdqYXY/URZEqxgalGNoICJrx9BgGkMDycXQQHIwNJASopyrhdn9RFkQrWJoUI6hgYisHUODaQwNJBdDA8nB0EBKiHKuFmb3E2VBtIqhQTmGBiKydgwNpjE0kFwMDSQHQwMpIcq5WpjdT5QF0SqGBuUYGojI2jE0mMbQQHIxNJAcDA2khCjnamF2P1EWRKsYGpRjaCAia8fQYBpDA8nF0EByMDSQEqKcq4XZ/URZEK1iaFCOoYGIrB1Dg2kMDSQXQwPJwdBASohyrhZm9xNlQbSKoUE5hgYisnYMDaYxNJBcDA0kB0MDKSHKuVqY3U+UBdEqhgblGBqIyNoxNJjG0EByMTSQHAwNpIQo52phdj9RFkSrGBqUY2ggImvH0GAaQwPJxdBAcjA0kBKinKuF2f0kScKMGTPw6quvcjzgeO211+Dl5YWOHTsiICBA9floccyYMQN16tRBVlaW2j8KRESqycvLQ+3atXl7XGm88cYb6NChA3x8fPDaa6+pPh8O7Yzp06fz/i3HA4/XXnsN3t7eeOaZZ3i/nuOBx4wZM4QJnGLMAuWh4fTp0zhy5AjHA47o6GgsX74cY8eORXx8vOrz0eI4ffo0nnrqKYYGIrJqubm5aN68OW+PK40TJ05gxIgRCAoKwtGjR1WfD4d2RmJiIiRJwqlTp1SfC4d2RnR0NFasWIExY8bwfj3HA4/Tp08zNFQlykM8tOrXX3/F66+/rvY0NI1PnSAia8enTpjm7++PPXv2qD0N0iBR7vCTtvCpE6SEKOdqYXY/URZEq/gaDcoxNBCRtWNoMI2v0UByMTSQHAwNpIQo52phdj9RFkSrGBqUY2ggImvH0GAaQwPJxdBAcjA0kBKinKuF2f1EWRCtYmhQjqGBiKwdQ4NpDA0kF0MDycHQQEqIcq4WZvcTZUG0iqFBOYYGIrJ2DA2mMTSQXAwNJAdDAykhyrlamN1PlAXRKoYG5RgaiMjaMTSYxtBAcjE0kBwMDaSEKOdqYXY/URZEqxgalGNoICJrx9BgGkMDycXQQHIwNJASopyrhdn9RFkQrWJoUI6hgYisHUODaQwNJBdDA8nB0EBKiHKuFmb3E2VBtIqhQTmGBiKydgwNpjE0kFwMDSQHQwMpIcq5WpjdT5QF0SqGBuUYGojI2jE0mMbQQHIxNJAcDA2khCjnamF2P1EWRKsYGpRjaCAia8fQYBpDA8nF0EByMDSQEqKcq4XZ/URZEK1iaFCOoYGIrB1Dg2kMDSQXQwPJwdBASohyrhZm9xNlQbSKoUE5hgYisnYMDaYxNJBcDA0kB0MDKSHKuVqY3U+UBdEqhgblGBqIyNoxNJjG0EByMTSQHAwNpIQo52phdj9RFkSrLBkaSkpKcOnSJeTk5ECv19d4veLiYiQmJiIpKQmJiYkoKiqyyHwshaGBiKwdQ4NpDA0kF0MDycHQQEqIcq4WZvcTZUFqotPpcOvWLWRnZ0On06k9nWosGRpu3LiBCRMmYO/evfcMDampqWjXrh26desGJycnnDlzxiLzsRSGBiKydqKFhtu3b+PGjRsoKChQdR4MDTUrLi5GUlIScnJy1J6KkBgaalZQUIBr166pPQ0hMTTU7Pbt24iLi9PcLzQfJlHO1cLsfqIsiCl6vR6JiYlo3rw5pk2bhqysLLWnVI0lQ8PVq1fh6uqKLVu23DM0lJSU4OLFi/j999/RuHFjxMbGWmQ+lsLQQETWTrTQEBQUhGbNmiE4OFjVeTA0mBYaGopOnTrB3t4e9vb2ePPNN3H79m21pyUUhgbTTp48if79+6NJkyZqT0VIDA3VFRQUYO3atWjXrh3s7e3h7OyM5cuXc88xQZRztTC7nygLYoper0eXLl0gSRLGjRuHzMxMtadUjSVDQ1paGp599llDaNDr9SgtLa3x+mfPnoWdnR3i4uKq/V3Ff3+/l1UelsbQQETWTqTQcPz4cdjb20OSJCxfvlzVuTA0VLd69WpIkoQuXbrg2LFj+PjjjyFJEiIiItSemlAYGoydOXMGc+fORatWrdC0aVOuTw0YGqqbNWuW4Sx2+vRpfPDBB2jUqBH279+v9tSEI8q5WpifblEWxJR3330X9vb2GDp0KEaOHGmVoaFLly74+uuvERUVBWdnZzg5OWH79u0mK+K9QkPz5s3h7e1tdNlzzz2HXr16Gf5cUlKC+Ph4vP3226hfvz7c3Nywe/duiz+ShKGBiKydKKEhKysLo0ePRp8+fWBvb49ly5apOh+GhupsbW3Rv39/o8sGDhwIW1tblWYkJh6kjU2YMAEtW7ZESEgIVq1axfWpAUODsUuXLqFDhw5YunSp4bLc3FwMGzYM//znP1FYWKji7MQjyrlamJ9uURakqq1bt6Jhw4Y4duwYAgIC4O3tbZWhoU+fPujQoQN8fX2xZ88eeHl5QZIkfPPNN9Wuf6/Q4OzsjHHjxhld5unpicGDBxv+vGfPHjRu3Bi+vr6IjY1FcHAwWrRoAV9fX+Tn55v/C7yDoYGIrJ0ooWHhwoVwc3NDbGwsnJ2dje5cqoGhwdj169fRtGlTrFq1Cnq9HpcuXYJOp8P8+fMhSZKQr2WlFh6kjVX+3ggKCuL61IChwdiBAwdQt25d7Nu3D7du3UJKSgqKi4vx0UcfoV27drh586baUxSKKOdqYX66RVmQyk6ePInmzZtj06ZNAMrvaAwfPtwqQ4O7u7tRIPjzzz/h7u6OgICAai/GojQ0LF68GO7u7sjNzTVctm3bNtStWxdRUVHm+rKqYWggImsnQmjYtm0bmjVrhtjYWKSnp6Nt27YMDYKJiYlB3bp1ERERgcTERHTt2hXbt2/HsmXLIEkS0tPT1Z6iMHiQvqvq02AZGmrG0GAsLCwMkiQhKSkJS5cuxZAhQ/Dzzz9jyZIlsLOzw/Xr19WeolBEOVcL89MtyoJUyMrKgqenJz766CPo9XoUFBRg6tSpVhsaunTpguDgYEOJLigowMSJE+Hv71/t1cCVhIbs7GyMGzcOzZo1Q69evdCnTx/07dsXnTt3hiRJ2LJli0W+RoChgYhI7dBw8eJFNG/eHP/73/8AlD9clqFBPHFxcahXrx5+/vlnREREQJIkfPnll1i+fDkkSUJGRobaUxQGD9I1Y2ioGUODsW+++QaSJOHs2bOYMmUKJElCYGAgli1bhtatW+PGjRtqT1EoopyrhfnpFmVBKgQFBeHRRx/FqlWrsHnzZmzYsAHu7u5wcXHBqlWrUFxcrPYUjTyM0LBhwwZDaCgsLMTkyZMtEhp8fX3RtWtX/Pe//0VwcDDWrl2L4OBgfPHFF7h06ZJFvkaAoYGISO3QMGzYMDz++OPYunUrwsLCsGTJEtja2mLkyJEWDc1/haHB2NmzZ9GkSRO89dZbAGD4Bcxnn33Gg2MVXI+aMTTUjKHBWEREBOrVq4dffvkF+fn5yMrKgl6vx7x589ChQwfcunVL7SkKRZRztTA/3aIsCFD+/LEPPvgAderUQb169VC3bl3UrVsXtWvXRq1atSBJknCParB0aHBzc8Ps2bMN7zZx8+ZNDB48GNOmTXug0NC5c2c0bdrU8Ofi4mL07NnTEBr0ej2WLFmC7t27G723cmlpqcXjDkMDEVk7NUNDSUkJunXrhkaNGhludx999FHY2NigTp06aNCggSrzAhgaqiotLcVTTz2FAQMGGF3u4+NjODg+jHeL0gIepGvG0FAzhgZjZ86cQbt27fDpp5+irKwMAFBUVISXX34ZL730kkVfw02LRDlXC/PTLcqC3OuG8fXXX8fo0aMf4mzunyVDQ3JyMnr06IH27dvj4MGDSE1NNbytVcWLQZaUlODs2bO4dOkSdu7ciWbNmiEsLAwXLlzAxYsXkZOTAwD4/PPPIUkS4uPjkZycjM2bN6NFixZG7zqxa9cuNGvWDGvWrMGVK1dw9OhRTJw4ERMmTLDoO08wNBCRtVMrNNR025uZmQknJyd88cUXAKDaiwwyNNxV8W81ffp0SJKE77//Hn/88Qf27t0LOzs7/PrrryrPUCw8SBtLS0vDuXPnkJqaivfffx+SJOHChQs4f/480tLSGKjuYGgwptfrMXnyZLi4uGDnzp1ITk7Gxo0b0aRJE+zcuVPt6QlHlHO1MLufKAtSk8LCQrz33nuYNm0asrOz1Z5ONZYMDQkJCejTpw/effdd+Pn5wc/PDy1atMCcOXMMz8O8du0aBg8ejFGjRmHQoEFwcXHB888/j5EjR2LChAmG97hNTk7GmDFj0KpVK4wbNw6rVq3CSy+9BCcnJ8Pny87ORmBgIPr16wcfHx+0bt0aPXv2xObNmy3y9VVgaCAia6f2UyequnLlCgYNGoSQkBBV58HQUF1ubi4mTpwIe3t7dOnSBQMGDIC/vz9KSkp4WKyEocHYggUL4O3tjdGjR6N3795wcnLCyJEj4ePjg/nz5/MdS+5gaLirYj85evQofHx80KhRI/Ts2RP9+/fHwoULkZeXp/IMxSPKuVqY3U+UBalJWVkZLl++jHPnzhmePiASS4aG3NxcHDt2DPn5+dDr9Thw4AAiIyONrlNUVISDBw8iMjISUVFRiI6ORlRUFCIjI3H06FGjF2n5888/sWfPHsM7SGRkZODIkSMAjH+rlZubi7CwMOzatQtXrlwx3PhY6g4MQwMRWTvRQkNRURFOnDih+rsYMDQYq7gdvn37Ng4ePIjw8HCcOXOm2t8TQ0NVSUlJOHz4MCIjI3HkyBFER0cjMjISkZGRSEpK4vfOHQwNxiq+L65fv45Dhw5h06ZNuHDhguFpFPy+MSbKuVqY3U+UBblfon1DWyo0/NXXqdfr73stTF238p8r/v+9Pp4l152hgYisnUih4V63Fw8bQ0N1ot0PEhVDw10Pcn/R2jE0GLvXeeNBziLWQpRztTC7nygLolWWfESDtWBoICJrJ1JoEAlDA8nF0EByMDSQEqKcq4XZ/URZEK1iaFCOoYGIrB1Dg2kMDSQXQwPJwdBASohyrhZm9xNlQbSKoUE5hgYisnYMDaYxNJBcDA0kB0MDKSHKuVqY3U+UBdEqhgblGBqIyNoxNJjG0EByMTSQHAwNpIQo52phdj9RFkSrGBqUY2ggImvH0GAaQwPJxdBAcjA0kBKinKuF2f1EWRCtYmhQjqGBiKwdQ4NpDA0kF0MDycHQQEqIcq4WZvcTZUG0iqFBOYYGIrJ2DA2mMTSQXAwNJAdDAykhyrlamN1PlAXRKoYG5RgaiMjaMTSYxtBAcjE0kBwMDaSEKOdqYXY/URZEqxgalGNoICJrx9BgGkMDycXQQHIwNJASopyrhdn9RFkQrWJoUI6hgYisHUODaQwNJBdDA8nB0EBKiHKuFmb3E2VBtIqhQTmGBiKydgwNpjE0kFwMDSQHQwMpIcq5WpjdT5QF0SqGBuUYGojI2jE0mMbQQHIxNJAcDA2khCjnamF2P1EWRKsYGpRjaCAia8fQYBpDA8nF0EByMDSQEqKcq4XZ/URZEK1iaFCOoYGIrB1Dg2kMDSQXQwPJwdBASohyrhZm9xNlQbSKoUE5hgYisnYMDaYxNJBcDA0kB0MDKSHKuVqY3U+SJHh7e2Pw4MEcDziGDBmCrl27wsHBAcOGDVN9Ploc3t7ekCQJWVlZav8oEBGpJi8vj7fHVcawYcPw1FNPwc3NTfW5cGhreHl5QZIkeHl5qT4XDm2Nrl27omXLlrxfz/HAo+JMIwIxZgHg2rVrSE9P55A5MjIykJGRofo8tD50Op3aPwpERKrR6XSq78MiDt7GcsgdvH/LIWdwz+FQMq5du6b23QkAAoUGIiIiIiIiItI+hgYiIiIiIiIiMhuGBiIiIiIiIiIyG4YGIiIiIiIiIjIbhgYiIiIiIiIiMhuGBiIiIiIiIiIyG4YGIiIiIiIiIjIbhgYiIiIiIiIiMhuGBiIiIiIiIiIyG4YGIiIiIiIiIjIbhgYiIiIiIiIiMhuGBiIiIiIiIiIyG4YGIiIiIiIiIjIbhgYiIiIiIiIiMhuGBiIiIiIiIiIyG4YGIiIiIiIiIjIbhgYiIiIiIiIiMhuGBiIiIiIiIiIyG4YGIiIiIiIiIjIbhgYiIiIiIiIiMhuGBiIiIiIiIiIyG4YGIiIiIiIiIjIbhgYiIiIiIiIiMhuGBiIiIiIiIiIyG4YGIiIiIiIiIjIbhgYiIiIiIiIiMhuGBiIiIiIiIiIyG4YGIiIiIiIiIjIbhgYiIiIiIiIiMhuGBiIiIiIiIiIyG4YGIiIiIiIiIjIbhgYiIiIiIiIiMhuGBiIiIiIiIiIym/8P6S0hV1g0WLYAAAAASUVORK5CYII=)"
      ]
    },
    {
      "cell_type": "markdown",
      "metadata": {
        "id": "Sq27czITmQlQ"
      },
      "source": [
        "#### Why OHE?"
      ]
    },
    {
      "cell_type": "markdown",
      "metadata": {
        "id": "0Iqd6O14s7ix"
      },
      "source": [
        "![image.png](data:image/png;base64,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)"
      ]
    },
    {
      "cell_type": "markdown",
      "metadata": {
        "id": "qE21s8EK2aTN"
      },
      "source": [
        "#### What does OHE do?"
      ]
    },
    {
      "cell_type": "markdown",
      "metadata": {
        "id": "65LTvSfJEJlm"
      },
      "source": [
        "##### sparse = False"
      ]
    },
    {
      "cell_type": "markdown",
      "metadata": {
        "id": "zZlboyu1wtin"
      },
      "source": [
        "A sparse matrix is a matrix that has a value of 0 for most elements. If the ratio of Number of Non-Zero (NNZ) elements to the size is less than 0.5, the matrix is sparse."
      ]
    },
    {
      "cell_type": "markdown",
      "metadata": {
        "id": "WkZPs1ffyb1W"
      },
      "source": [
        "![image.png](data:image/png;base64,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)"
      ]
    },
    {
      "cell_type": "code",
      "metadata": {
        "id": "8Mb1_kmE2aTN",
        "colab": {
          "base_uri": "https://localhost:8080/"
        },
        "outputId": "7f7e0a6e-e411-42a9-cf16-4759ca8a39c4"
      },
      "source": [
        "## Example OHE\n",
        "\n",
        "# 6.0 What does OneHotEncoder do?\n",
        "#     Demo with 'sparse = False'\n",
        "\n",
        "# 6.1 Instantiate onehot class.\n",
        "#     Our object name is 'abc' \n",
        "\n",
        "abc = onehot(\n",
        "              sparse = False\n",
        "            )\n",
        "\n",
        "# 6.2 Let 'abc' learn relevant data\n",
        "#     properties. Our demo data is: 4 X 2\n",
        "#     Both columns are categorical:\n",
        "\n",
        "abc.fit(\n",
        "         [                            # A list of lists\n",
        "            ['big'   , 'yes' ],\n",
        "            ['small' , 'no'  ],\n",
        "            ['medium', 'yes' ],\n",
        "            ['big'   , 'no'  ]\n",
        "         ]\n",
        "       )\n",
        "\n",
        "# 6.3 Use 'abc' object to transform demo data\n",
        "#     to dummy values\n",
        "\n",
        "print(\"\\n\")\n",
        "\n",
        "abc.transform(\n",
        "              [                     \n",
        "                ['big'   , 'yes' ],\n",
        "                ['small' , 'no'  ],\n",
        "                ['medium', 'yes' ],\n",
        "                ['big'   , 'no'  ]\n",
        "              ]\n",
        "             )\n",
        "\n"
      ],
      "execution_count": null,
      "outputs": [
        {
          "output_type": "execute_result",
          "data": {
            "text/plain": [
              "OneHotEncoder(sparse=False)"
            ]
          },
          "metadata": {},
          "execution_count": 30
        },
        {
          "output_type": "stream",
          "name": "stdout",
          "text": [
            "\n",
            "\n"
          ]
        },
        {
          "output_type": "execute_result",
          "data": {
            "text/plain": [
              "array([[1., 0., 0., 0., 1.],\n",
              "       [0., 0., 1., 1., 0.],\n",
              "       [0., 1., 0., 0., 1.],\n",
              "       [1., 0., 0., 1., 0.]])"
            ]
          },
          "metadata": {},
          "execution_count": 30
        }
      ]
    },
    {
      "cell_type": "code",
      "metadata": {
        "id": "wSQeYXmQ2aTN",
        "colab": {
          "base_uri": "https://localhost:8080/"
        },
        "outputId": "c578e184-1223-4575-c0af-3e3456b8bc08"
      },
      "source": [
        "## Example OHE\n",
        "\n",
        "# 6.4 In future use 'abc' to tansform \n",
        "#     any data with such levels.\n",
        "#     For example:\n",
        "\n",
        "abc.transform(\n",
        "               [\n",
        "                   ['small'  , 'yes'],\n",
        "                   ['medium' , 'no' ]\n",
        "               ])"
      ],
      "execution_count": null,
      "outputs": [
        {
          "output_type": "execute_result",
          "data": {
            "text/plain": [
              "array([[0., 0., 1., 0., 1.],\n",
              "       [0., 1., 0., 1., 0.]])"
            ]
          },
          "metadata": {},
          "execution_count": 31
        }
      ]
    },
    {
      "cell_type": "markdown",
      "metadata": {
        "id": "Dmlt0UhqERp1"
      },
      "source": [
        "##### sparse = True"
      ]
    },
    {
      "cell_type": "markdown",
      "metadata": {
        "id": "3iV3Wl6ty03t"
      },
      "source": [
        "![image.png](data:image/png;base64,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)"
      ]
    },
    {
      "cell_type": "markdown",
      "metadata": {
        "id": "LFxx-lvihvZ1"
      },
      "source": [
        "What is a sparse matrix?"
      ]
    },
    {
      "cell_type": "code",
      "metadata": {
        "colab": {
          "base_uri": "https://localhost:8080/"
        },
        "id": "gFDkfgvo2aTN",
        "outputId": "87f085d9-d626-417c-da80-f90c8823a7b0"
      },
      "source": [
        "# 6.5 What does OneHotEncoder do?\n",
        "#     In one line, it transforms dense data to dummy values (1,0)\n",
        "#     Demo with 'sparse = True' -- Output is stored in a special compressed format\n",
        "#     See here dense matrix to sparse matrix conversion example:\n",
        "#     http://www.btechsmartclass.com/data_structures/ds_images/Triplet_Representation_of_Sparse_Matrix.png\n",
        "#     https://www.researchgate.net/publication/328995968/figure/fig4/AS:693582436528129@1542374347304/Illustration-of-the-sparse-matrix-format-A-Example-matrix-of-size-8-8-with-5.png\n",
        "\n",
        "# 6.5.1\n",
        "\n",
        "cde = onehot(sparse = True)\n",
        "\n",
        "\n",
        "# 6.5.2\n",
        "sp = cde.fit_transform(\n",
        "                       [\n",
        "                        ['big', 'yes'],\n",
        "                        ['small', 'no'],\n",
        "                        ['medium', 'yes'],\n",
        "                        ['big','no']\n",
        "                        ]\n",
        "                       )\n",
        "\n",
        "# 6.5.3\n",
        "sp\n"
      ],
      "execution_count": null,
      "outputs": [
        {
          "output_type": "execute_result",
          "data": {
            "text/plain": [
              "<4x5 sparse matrix of type '<class 'numpy.float64'>'\n",
              "\twith 8 stored elements in Compressed Sparse Row format>"
            ]
          },
          "metadata": {},
          "execution_count": 32
        }
      ]
    },
    {
      "cell_type": "code",
      "metadata": {
        "colab": {
          "base_uri": "https://localhost:8080/"
        },
        "id": "Y_II3Kjv2aTN",
        "outputId": "6028286f-59b5-4c89-c8d2-89c694e165a0"
      },
      "source": [
        "# 6.5.4  Transform sparse to dense form\n",
        "sp.toarray()"
      ],
      "execution_count": null,
      "outputs": [
        {
          "output_type": "execute_result",
          "data": {
            "text/plain": [
              "array([[1., 0., 0., 0., 1.],\n",
              "       [0., 0., 1., 1., 0.],\n",
              "       [0., 1., 0., 0., 1.],\n",
              "       [1., 0., 0., 1., 0.]])"
            ]
          },
          "metadata": {},
          "execution_count": 33
        }
      ]
    },
    {
      "cell_type": "markdown",
      "metadata": {
        "id": "rcjXaDu-EaEM"
      },
      "source": [
        "#### OHE for our train data:\n",
        "Let us now transform ALL our cat_cols to OHE."
      ]
    },
    {
      "cell_type": "code",
      "metadata": {
        "id": "2oz67E6q2aTN",
        "colab": {
          "base_uri": "https://localhost:8080/"
        },
        "outputId": "60f21eee-1e5a-4a9f-81d1-6885be6be67a"
      },
      "source": [
        "# 6.6 One Hot Encode all categorical columns, cat_cols \n",
        "#     Note, by now all NaNs have been filled\n",
        "#     No capturing of transformed data\n",
        "\n",
        "ohe = onehot(sparse = False)\n",
        "ohe.fit_transform(X_train_c[cat_cols])"
      ],
      "execution_count": null,
      "outputs": [
        {
          "output_type": "execute_result",
          "data": {
            "text/plain": [
              "array([[0., 1., 0., 1., 0., 0., 1., 0., 1., 0., 0., 0.],\n",
              "       [0., 1., 1., 0., 0., 1., 0., 0., 0., 0., 1., 0.],\n",
              "       [0., 1., 0., 1., 0., 0., 0., 1., 0., 0., 1., 0.],\n",
              "       [0., 1., 0., 1., 0., 0., 0., 1., 0., 0., 0., 1.],\n",
              "       [0., 1., 0., 1., 0., 1., 0., 0., 0., 0., 0., 1.],\n",
              "       [1., 0., 0., 1., 0., 0., 1., 0., 0., 0., 1., 0.],\n",
              "       [1., 0., 1., 0., 0., 1., 0., 0., 0., 1., 0., 0.],\n",
              "       [0., 1., 0., 1., 1., 0., 0., 0., 0., 0., 0., 1.],\n",
              "       [0., 1., 0., 1., 0., 1., 0., 0., 0., 0., 0., 1.],\n",
              "       [0., 1., 1., 0., 0., 0., 0., 1., 0., 1., 0., 0.],\n",
              "       [1., 0., 0., 1., 1., 0., 0., 0., 0., 1., 0., 0.]])"
            ]
          },
          "metadata": {},
          "execution_count": 34
        }
      ]
    },
    {
      "cell_type": "markdown",
      "metadata": {
        "id": "XbxE4yXZ2aTN"
      },
      "source": [
        "### Standard scaling all numeric columns\n",
        "Scale all numeric columns"
      ]
    },
    {
      "cell_type": "code",
      "metadata": {
        "id": "LIj1QB7T2aTO",
        "colab": {
          "base_uri": "https://localhost:8080/"
        },
        "outputId": "aead2201-2bde-4e35-ea8f-81bd833ef981"
      },
      "source": [
        "# 6.7 Scale all numeric variables (3-columns) in the same manner\n",
        "#     Note, by now all NaNs have been dealt with\n",
        "##     No capturing of transformed data\n",
        "\n",
        "ss = StandardScaler()\n",
        "ss.fit_transform(X_train_c[num_cols])"
      ],
      "execution_count": null,
      "outputs": [
        {
          "output_type": "execute_result",
          "data": {
            "text/plain": [
              "array([[ 1.60089329,  1.14024866,  2.94048315],\n",
              "       [ 0.28509059,  0.33809699,  0.52857829],\n",
              "       [ 0.01096502,  0.84855714, -0.25682937],\n",
              "       [ 0.        ,  0.33809699, -0.25682937],\n",
              "       [-0.42763588,  0.48394274, -0.25682937],\n",
              "       [ 0.55921615, -0.31820893, -0.05754683],\n",
              "       [-0.5372861 ,  0.33809699, -0.90449763],\n",
              "       [-0.81141167,  0.33809699, -0.25682937],\n",
              "       [-0.31798565, -1.33912924, -0.25682937],\n",
              "       [ 1.6557184 ,  0.33809699, -0.31544188],\n",
              "       [-2.01756415, -2.50589531, -0.90742825]])"
            ]
          },
          "metadata": {},
          "execution_count": 35
        }
      ]
    },
    {
      "cell_type": "markdown",
      "metadata": {
        "id": "mvgfHpxuBBnQ"
      },
      "source": [
        "### Should OHE features be standardized?\n",
        "\n",
        "\n",
        "\n",
        "\n"
      ]
    },
    {
      "cell_type": "markdown",
      "metadata": {
        "id": "bDsybvFbHNR3"
      },
      "source": [
        "There is quite a lot of discussion on it. Please see the following StackOverflow answers:  \n",
        "\n",
        "[Do I need to standardize my one hot encoded labels?](https://datascience.stackexchange.com/a/56452/64849)   \n",
        "\n",
        "[Ridge\\Lasso — Standardization of dummy indicators](https://stats.stackexchange.com/a/359370/78454)\n",
        "\n",
        "[Should one hot vectors be scaled with numerical attributes](https://datascience.stackexchange.com/a/31653)\n",
        "\n",
        "Very briefly: If OHE features are standardized then model interpretation becomes difficult. But if they are not, then all features are not on the same scale (ie mean = 0, variance =1). Let performance be the final judge. Try with and without standardizing OHE features."
      ]
    },
    {
      "cell_type": "markdown",
      "source": [
        "> Once converted to numerical form, models don't respond differently to columns of one-hot-encoded than they do to any other numerical data. So there is a clear precedent to normalise the {0,1} values if you are doing it for any reason to prepare other columns.\n",
        "\n",
        ">The effect of doing so will depend on the model class, and type of normalisation you apply, but I have noticed some (small) improvements when scaling to mean 0, std 1 for one-hot-encoded categorical data, when training neural networks.\n",
        "\n",
        ">It may make a difference too for model classes based on distance metrics.\n",
        "\n",
        ">Unfortunately, like most of these kind of choices, often you have to try both approaches and take the one with the best metric."
      ],
      "metadata": {
        "id": "D1GijtHD5-Le"
      }
    },
    {
      "cell_type": "markdown",
      "metadata": {
        "id": "zSrunwTQ2aTO"
      },
      "source": [
        "### Concatenate pre-processed data"
      ]
    },
    {
      "cell_type": "code",
      "metadata": {
        "id": "NLAvy-3M2aTO",
        "colab": {
          "base_uri": "https://localhost:8080/"
        },
        "outputId": "c7aade50-66aa-42df-f435-88aab16d7cb9"
      },
      "source": [
        "# 7.0 So complete dataset and transformation is:\n",
        "#\n",
        "\n",
        "a = ohe.transform(X_train_c[cat_cols])   # 4 cat_cols => 11 cols\n",
        "b = ss.transform(X_train_c[num_cols])    # 3 num_cols\n",
        "\n",
        "# 7.1 Horizontally concatenate now\n",
        "Xtr = np.hstack([a,b]) # It is not X_train\n",
        "Xtr.shape # (11,14) or (11,15)"
      ],
      "execution_count": null,
      "outputs": [
        {
          "output_type": "execute_result",
          "data": {
            "text/plain": [
              "(11, 15)"
            ]
          },
          "metadata": {},
          "execution_count": 36
        }
      ]
    },
    {
      "cell_type": "markdown",
      "metadata": {
        "id": "BfIsB1cO2aTO"
      },
      "source": [
        "### Label encoding target\n",
        "Code text values in target column to digits. Our <i>y_train</i> (<i>'Creditability'</i> column) has values 'yes', 'no'..."
      ]
    },
    {
      "cell_type": "markdown",
      "metadata": {
        "id": "tt0Yd8u2WmQ5"
      },
      "source": [
        "![image.png](data:image/png;base64,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)"
      ]
    },
    {
      "cell_type": "code",
      "metadata": {
        "id": "YWK2E7Jy2aTO",
        "colab": {
          "base_uri": "https://localhost:8080/"
        },
        "outputId": "c30b7907-3fc0-4f20-bae3-a2a7e330fe12"
      },
      "source": [
        "# 8.0 Label encode target feature\n",
        "# 8.0.1 Our target\n",
        "f\"Unencoded target column is:\"\n",
        "print(\"\\n\")\n",
        "y_tr = y_train.copy()\n",
        "\n",
        "# 8.0.2 Encode now\n",
        "le = LabelEncoder()\n",
        "le.fit(y_tr)\n",
        "\n",
        "y_tr = le.fit_transform(y_tr)\n",
        "\n",
        "# 8.0.3 Just print transformed y_train\n",
        "print(\"\\n\")\n",
        "f\"Encoded y_tr is: {y_tr}\"   # Encoded y"
      ],
      "execution_count": null,
      "outputs": [
        {
          "output_type": "execute_result",
          "data": {
            "text/plain": [
              "'Unencoded target column is:'"
            ],
            "application/vnd.google.colaboratory.intrinsic+json": {
              "type": "string"
            }
          },
          "metadata": {},
          "execution_count": 37
        },
        {
          "output_type": "stream",
          "name": "stdout",
          "text": [
            "\n",
            "\n"
          ]
        },
        {
          "output_type": "execute_result",
          "data": {
            "text/plain": [
              "LabelEncoder()"
            ]
          },
          "metadata": {},
          "execution_count": 37
        },
        {
          "output_type": "stream",
          "name": "stdout",
          "text": [
            "\n",
            "\n"
          ]
        },
        {
          "output_type": "execute_result",
          "data": {
            "text/plain": [
              "'Encoded y_tr is: [1 0 0 0 0 0 1 1 1 0 0]'"
            ],
            "application/vnd.google.colaboratory.intrinsic+json": {
              "type": "string"
            }
          },
          "metadata": {},
          "execution_count": 37
        }
      ]
    },
    {
      "cell_type": "markdown",
      "metadata": {
        "id": "TmR7brMg2aTO"
      },
      "source": [
        "### Decision tree Modeling"
      ]
    },
    {
      "cell_type": "code",
      "metadata": {
        "id": "0fNKfL-j2aTP",
        "colab": {
          "base_uri": "https://localhost:8080/"
        },
        "outputId": "ee90704f-585f-4074-def6-0a2f6eeae8e1"
      },
      "source": [
        "# 9.0 Train model using Xtrain\n",
        "from sklearn.tree import DecisionTreeClassifier \n",
        "\n",
        "# 9.1 Instantiate DecisionTreeClassifier class\n",
        "\n",
        "dt = DecisionTreeClassifier()\n",
        "\n",
        "# 9.2 Use the classifier object to train \n",
        "#     on our data\n",
        "\n",
        "dt.fit(Xtr,y_tr)\n"
      ],
      "execution_count": null,
      "outputs": [
        {
          "output_type": "execute_result",
          "data": {
            "text/plain": [
              "DecisionTreeClassifier()"
            ]
          },
          "metadata": {},
          "execution_count": 38
        }
      ]
    },
    {
      "cell_type": "markdown",
      "metadata": {
        "id": "ctNoKRIxGqTt"
      },
      "source": [
        "### Make predictions"
      ]
    },
    {
      "cell_type": "markdown",
      "metadata": {
        "id": "XqDxXWBd2aTP"
      },
      "source": [
        "#### Transform X_test_c\n",
        "Before making predictions, we need to tranform columns of <i>X_test_c</i> in the same manner we did to X_train"
      ]
    },
    {
      "cell_type": "code",
      "metadata": {
        "id": "az08pKAm2aTP"
      },
      "source": [
        "# 9.3 We now want to predict values for X_test_c\n",
        "\n",
        "# 9.4 First, transform X_test_c in the same manner as we did for X_train\n",
        "#      But this time, there will be no 'fit()'. We will use\n",
        "#       already fitted objects for transformations.\n",
        "\n",
        "#     NOTE: If you have find the error of there being new levels in Xtest,\n",
        "#           execute all code quickly from #4.0 onwards.\n",
        "\n",
        "X_test_c[num_cols_median]  = si_median.transform(X_test_c[num_cols_median])\n",
        "X_test_c[num_cols_mean]    = si_mean.transform(X_test_c[num_cols_mean])\n",
        "X_test_c[cat_cols_const]   = si_const.transform(X_test_c[cat_cols_const])\n",
        "X_test_c[cat_cols_mf]      = si_mf.transform(X_test_c[cat_cols_mf]) \n",
        "a                          = ohe.transform(X_test_c[cat_cols])\n",
        "b                          = ss.transform(X_test_c[num_cols])\n",
        "Xtest = np.hstack([a,b])   # Final transformed X_test"
      ],
      "execution_count": null,
      "outputs": []
    },
    {
      "cell_type": "code",
      "metadata": {
        "id": "iDtlibwo2aTP",
        "colab": {
          "base_uri": "https://localhost:8080/",
          "height": 124
        },
        "outputId": "ec5fbac2-7d40-4805-cfdf-aaa30fd16930"
      },
      "source": [
        "# 9.5 Also label encode, y_test\n",
        "#     Using earlier fitted 'le' object\n",
        "f\"Values in y_test are:\"\n",
        "print()\n",
        "y_test\n",
        "\n",
        "y_te = le.transform(y_test)\n",
        "print()\n",
        "f\"Transformed y_test is: {y_te}\""
      ],
      "execution_count": null,
      "outputs": [
        {
          "output_type": "execute_result",
          "data": {
            "text/plain": [
              "'Values in y_test are:'"
            ],
            "application/vnd.google.colaboratory.intrinsic+json": {
              "type": "string"
            }
          },
          "metadata": {},
          "execution_count": 40
        },
        {
          "output_type": "stream",
          "name": "stdout",
          "text": [
            "\n"
          ]
        },
        {
          "output_type": "execute_result",
          "data": {
            "text/plain": [
              "2    yes\n",
              "9     no\n",
              "4    yes\n",
              "Name: creditability, dtype: object"
            ]
          },
          "metadata": {},
          "execution_count": 40
        },
        {
          "output_type": "stream",
          "name": "stdout",
          "text": [
            "\n"
          ]
        },
        {
          "output_type": "execute_result",
          "data": {
            "text/plain": [
              "'Transformed y_test is: [1 0 1]'"
            ],
            "application/vnd.google.colaboratory.intrinsic+json": {
              "type": "string"
            }
          },
          "metadata": {},
          "execution_count": 40
        }
      ]
    },
    {
      "cell_type": "markdown",
      "metadata": {
        "id": "dpTumlZqG-NN"
      },
      "source": [
        "#### Make predictions"
      ]
    },
    {
      "cell_type": "code",
      "metadata": {
        "id": "RldJDcRI2aTP",
        "colab": {
          "base_uri": "https://localhost:8080/"
        },
        "outputId": "11b40c51-3d53-41dd-b93d-110ed4637044"
      },
      "source": [
        "# 9.6 Make prediction for Xtest\n",
        "dt.predict(Xtest)"
      ],
      "execution_count": null,
      "outputs": [
        {
          "output_type": "execute_result",
          "data": {
            "text/plain": [
              "array([0, 0, 0])"
            ]
          },
          "metadata": {},
          "execution_count": 41
        }
      ]
    },
    {
      "cell_type": "markdown",
      "metadata": {
        "id": "R_4Cixrp2aTQ"
      },
      "source": [
        "## Part II\n",
        "## Data pre-processing with Pipelining\n",
        "Pipelining has two advantages:\n",
        "> 1. It avoids intermediate variables\n",
        "> 2. It avoids data leakage\n",
        "\n",
        "As you create a pipe (say, pipe1) test it if it is working. Our big-picture of all plumbing is as below. \n",
        "\n",
        "```\n",
        "Pipeline(\n",
        "           [\n",
        "            ColumnTransformer(\n",
        "                              [ \n",
        "                                pipe1,\n",
        "                                pipe2,\n",
        "                                pipe3,\n",
        "                                pipe4\n",
        "                             ],\n",
        "           DecisionTreeClassifier            \n",
        "          ]\n",
        "        ) \n",
        "```\n",
        "\n",
        "\n",
        "                     "
      ]
    },
    {
      "cell_type": "markdown",
      "metadata": {
        "id": "PPlO-D6e6evB"
      },
      "source": [
        "Here is another complete diagram. \n",
        "\n",
        "**Impt:** As you build pipes, go on testing them (just as a plumber would do) before you join all of them together."
      ]
    },
    {
      "cell_type": "markdown",
      "metadata": {
        "id": "1N6b8RrWgX11"
      },
      "source": [
        "![image.png](data:image/png;base64,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)"
      ]
    },
    {
      "cell_type": "code",
      "metadata": {
        "id": "hACa7GuE2aTQ"
      },
      "source": [
        "# 10.0 Create pipes for all transformations\n",
        "# Ref: https://scikit-learn.org/stable/modules/compose.html#pipeline\n",
        "\n",
        "#     ColumnTransformer: Applies specified transformations parallely to each data-subset\n",
        "#     Pipeline         :  Applies transformation sequentially through transformers. \n",
        "#                         Input to pipe is one data-subset. Output of one transformer\n",
        "#                         is fed to another.\n",
        "\n",
        "#     A pipeline can be used as any other estimator\n",
        "#     and avoids leaking the test set into the train set"
      ],
      "execution_count": null,
      "outputs": []
    },
    {
      "cell_type": "markdown",
      "metadata": {
        "id": "wzoVJ2rIx_29"
      },
      "source": [
        "Pipeline syntax is as below. Pipes operate sequentially.\n",
        "\n",
        "```\n",
        "    Pipeline (\n",
        "              [ \n",
        "                 (\"transf1 name\", transformer1),\n",
        "                 (\"transf2 name\", transformer2)\n",
        "              ]\n",
        "            )\n",
        "            \n",
        "```\n",
        "\n",
        "\n"
      ]
    },
    {
      "cell_type": "markdown",
      "source": [
        "### Create pipes"
      ],
      "metadata": {
        "id": "LG_L08C59eeG"
      }
    },
    {
      "cell_type": "code",
      "metadata": {
        "id": "_cKFkFnwsfak"
      },
      "source": [
        "# 10.1 Instantiate Pipeline object for processing\n",
        "#      cat data. Impute = most_frequent\n",
        "\n",
        "pipe1  =  Pipeline(\n",
        "                     [\n",
        "                      ('mf', SimpleImputer(strategy='most_frequent')),\n",
        "                      ('ohe', onehot())\n",
        "                     ]\n",
        "                   )"
      ],
      "execution_count": null,
      "outputs": []
    },
    {
      "cell_type": "code",
      "metadata": {
        "id": "oyo47aExs_vM"
      },
      "source": [
        "# 10.2 Instantiate SimpleImputer object for processing\n",
        "#      cat data. Impute = constant\n",
        "\n",
        "sc = SimpleImputer(strategy=\"constant\", fill_value = 'missing')\n",
        "\n",
        "# 10.2.1 Ceate pipeline object:\n",
        "\n",
        "pipe2   = Pipeline(\n",
        "                    [\n",
        "                      ('cons', sc),\n",
        "                      ('ohe', onehot())\n",
        "                    ]\n",
        "                  )"
      ],
      "execution_count": null,
      "outputs": []
    },
    {
      "cell_type": "code",
      "metadata": {
        "id": "Qbuu95_oukdC"
      },
      "source": [
        "# 10.3 Instantiate Pipeline object for \n",
        "#      processing numerical data. Impute = median\n",
        "\n",
        "pipe3    = Pipeline(\n",
        "                     [\n",
        "                      ('sm', SimpleImputer(strategy='median')),\n",
        "                      ('ss2', StandardScaler())\n",
        "                     ]\n",
        "                  )"
      ],
      "execution_count": null,
      "outputs": []
    },
    {
      "cell_type": "code",
      "metadata": {
        "id": "PPgz-mjo2aTQ"
      },
      "source": [
        "# 10.4 Instantiate Pipeline object for \n",
        "#      processing numerical data. Impute = mean\n",
        "#      Pipeline as a composite transformer\n",
        "\n",
        "pipe4 =     Pipeline(\n",
        "                      [\n",
        "                       ('si', SimpleImputer(strategy='mean')),\n",
        "                       ('ss1', StandardScaler())\n",
        "                      ]\n",
        "                    )"
      ],
      "execution_count": null,
      "outputs": []
    },
    {
      "cell_type": "markdown",
      "source": [
        "### Test pipes\n",
        "Test individual pipes"
      ],
      "metadata": {
        "id": "mhoZDriu9ifl"
      }
    },
    {
      "cell_type": "code",
      "metadata": {
        "id": "3vkGgSNn2aTQ",
        "colab": {
          "base_uri": "https://localhost:8080/"
        },
        "outputId": "d3208290-07c4-4ca0-ff89-bf828443f147"
      },
      "source": [
        "# 10.5\n",
        "# Test transformers:\n",
        "# Feed data to each pipe to see if it is working\n",
        "# It is like testing a sub-component\n",
        "# before full-plumbing is done.\n",
        "# No error should come.\n",
        "\n",
        "pipe1.fit_transform(X_train[cat_cols_mf])\n",
        "pipe2.fit_transform(X_train[cat_cols_const])\n",
        "pipe3.fit_transform(X_train[num_cols_median])\n",
        "pipe4.fit_transform(X_train[num_cols_mean])"
      ],
      "execution_count": null,
      "outputs": [
        {
          "output_type": "execute_result",
          "data": {
            "text/plain": [
              "<11x4 sparse matrix of type '<class 'numpy.float64'>'\n",
              "\twith 22 stored elements in Compressed Sparse Row format>"
            ]
          },
          "metadata": {},
          "execution_count": 40
        },
        {
          "output_type": "execute_result",
          "data": {
            "text/plain": [
              "<11x8 sparse matrix of type '<class 'numpy.float64'>'\n",
              "\twith 22 stored elements in Compressed Sparse Row format>"
            ]
          },
          "metadata": {},
          "execution_count": 40
        },
        {
          "output_type": "execute_result",
          "data": {
            "text/plain": [
              "array([[ 1.26302776,  1.28117737],\n",
              "       [ 0.24146119, -0.3802379 ],\n",
              "       [ 0.24146119, -0.46511626],\n",
              "       [-2.21029858, -0.7983424 ],\n",
              "       [ 0.70116615, -0.3802379 ],\n",
              "       [ 1.05871445, -0.43367983],\n",
              "       [ 0.24146119, -0.78105237],\n",
              "       [-0.47363541, -0.3802379 ],\n",
              "       [ 0.24146119, -0.32679597],\n",
              "       [ 0.24146119, -0.01243168],\n",
              "       [-1.54628031,  2.67695482]])"
            ]
          },
          "metadata": {},
          "execution_count": 40
        },
        {
          "output_type": "execute_result",
          "data": {
            "text/plain": [
              "array([[ 1.79721257],\n",
              "       [ 0.        ],\n",
              "       [ 1.86328656],\n",
              "       [-0.7796731 ],\n",
              "       [-1.11004306],\n",
              "       [-0.11893318],\n",
              "       [-0.7796731 ],\n",
              "       [-0.51537713],\n",
              "       [ 0.54180673],\n",
              "       [ 0.21143677],\n",
              "       [-1.11004306]])"
            ]
          },
          "metadata": {},
          "execution_count": 40
        }
      ]
    },
    {
      "cell_type": "markdown",
      "source": [
        "### Collect pipes into ColumnTransformer"
      ],
      "metadata": {
        "id": "8elxYXop-M58"
      }
    },
    {
      "cell_type": "markdown",
      "metadata": {
        "id": "MsDguw9A33Jv"
      },
      "source": [
        "Column transformer syntax. In a Column transformer, all transformations take place parallely.\n",
        "\n",
        "```\n",
        "ColumnTransformer(\n",
        "                   [\n",
        "                     ('tranf1_nm', transf1, cols_list1),\n",
        "                     ('tranf2_nm', transf2, cols_list2),\n",
        "                   ]\n",
        "                  )\n",
        "```\n"
      ]
    },
    {
      "cell_type": "code",
      "metadata": {
        "id": "9xXCW9Pd2aTS"
      },
      "source": [
        "# 10.6 Collecting all pipes in column transformer\n",
        "#     along with column names\n",
        "#     All pipes operate parallely\n",
        "#                       some-name  transformer     col-names\n",
        "\n",
        "ct_transformer = ColumnTransformer(\n",
        "                                    [\n",
        "                                      ('p_mf',   pipe1,   cat_cols_mf),\n",
        "                                      ('p_const',pipe2,   cat_cols_const),\n",
        "                                      ('p_med',  pipe3,   num_cols_median),\n",
        "                                      ('p_mean', pipe4,   num_cols_mean),\n",
        "                                    ]\n",
        "                                  )"
      ],
      "execution_count": null,
      "outputs": []
    },
    {
      "cell_type": "markdown",
      "source": [
        "### Test Column Transformer"
      ],
      "metadata": {
        "id": "1Lj49UJj-3XP"
      }
    },
    {
      "cell_type": "code",
      "metadata": {
        "id": "TkdVpvay6PAb",
        "colab": {
          "base_uri": "https://localhost:8080/"
        },
        "outputId": "2ec3e532-6e8f-4fa7-c200-23d50e790792"
      },
      "source": [
        "# 10.7 Test column transformet\n",
        "ct_transformer.fit_transform(X_train)"
      ],
      "execution_count": null,
      "outputs": [
        {
          "output_type": "execute_result",
          "data": {
            "text/plain": [
              "array([[ 0.        ,  1.        ,  1.        ,  0.        ,  0.        ,\n",
              "         0.        ,  1.        ,  0.        ,  1.        ,  0.        ,\n",
              "         0.        ,  0.        ,  1.26302776,  1.28117737,  1.79721257],\n",
              "       [ 1.        ,  0.        ,  0.        ,  1.        ,  0.        ,\n",
              "         0.        ,  0.        ,  1.        ,  0.        ,  0.        ,\n",
              "         0.        ,  1.        ,  0.24146119, -0.3802379 ,  0.        ],\n",
              "       [ 0.        ,  1.        ,  1.        ,  0.        ,  0.        ,\n",
              "         0.        ,  0.        ,  1.        ,  0.        ,  1.        ,\n",
              "         0.        ,  0.        ,  0.24146119, -0.46511626,  1.86328656],\n",
              "       [ 1.        ,  0.        ,  1.        ,  0.        ,  0.        ,\n",
              "         1.        ,  0.        ,  0.        ,  0.        ,  1.        ,\n",
              "         0.        ,  0.        , -2.21029858, -0.7983424 , -0.7796731 ],\n",
              "       [ 0.        ,  1.        ,  0.        ,  1.        ,  1.        ,\n",
              "         0.        ,  0.        ,  0.        ,  0.        ,  0.        ,\n",
              "         0.        ,  1.        ,  0.70116615, -0.3802379 , -1.11004306],\n",
              "       [ 1.        ,  0.        ,  1.        ,  0.        ,  0.        ,\n",
              "         0.        ,  0.        ,  1.        ,  0.        ,  0.        ,\n",
              "         1.        ,  0.        ,  1.05871445, -0.43367983, -0.11893318],\n",
              "       [ 1.        ,  0.        ,  1.        ,  0.        ,  0.        ,\n",
              "         1.        ,  0.        ,  0.        ,  0.        ,  1.        ,\n",
              "         0.        ,  0.        ,  0.24146119, -0.78105237, -0.7796731 ],\n",
              "       [ 1.        ,  0.        ,  0.        ,  1.        ,  0.        ,\n",
              "         1.        ,  0.        ,  0.        ,  0.        ,  0.        ,\n",
              "         0.        ,  1.        , -0.47363541, -0.3802379 , -0.51537713],\n",
              "       [ 1.        ,  0.        ,  0.        ,  1.        ,  0.        ,\n",
              "         0.        ,  1.        ,  0.        ,  0.        ,  0.        ,\n",
              "         1.        ,  0.        ,  0.24146119, -0.32679597,  0.54180673],\n",
              "       [ 0.        ,  1.        ,  1.        ,  0.        ,  0.        ,\n",
              "         1.        ,  0.        ,  0.        ,  0.        ,  0.        ,\n",
              "         1.        ,  0.        ,  0.24146119, -0.01243168,  0.21143677],\n",
              "       [ 1.        ,  0.        ,  1.        ,  0.        ,  1.        ,\n",
              "         0.        ,  0.        ,  0.        ,  1.        ,  0.        ,\n",
              "         0.        ,  0.        , -1.54628031,  2.67695482, -1.11004306]])"
            ]
          },
          "metadata": {},
          "execution_count": 42
        }
      ]
    },
    {
      "cell_type": "markdown",
      "source": [
        "## Final pipeline"
      ],
      "metadata": {
        "id": "R1OtkUI1-9CE"
      }
    },
    {
      "cell_type": "code",
      "metadata": {
        "id": "WZiHn9qo2aTS"
      },
      "source": [
        "# 10.8 Final pipeline for transformation and modeling\n",
        "#     final_pipe is both a \n",
        "outer_pipe = Pipeline(\n",
        "                      [\n",
        "                       ('ct', ct_transformer),        # Column transformer object\n",
        "                       ('dt', DecisionTreeClassifier()) # Estimator\n",
        "                      ]\n",
        "                     )"
      ],
      "execution_count": null,
      "outputs": []
    },
    {
      "cell_type": "markdown",
      "metadata": {
        "id": "yJSqaIN22aTS"
      },
      "source": [
        "### Train final_pipe on data"
      ]
    },
    {
      "cell_type": "code",
      "metadata": {
        "id": "K1oS0fD32aTS",
        "colab": {
          "base_uri": "https://localhost:8080/"
        },
        "outputId": "2de2493f-a6c0-4b3a-e125-c919d39b0a8e"
      },
      "source": [
        "# 11.0 Train on data using final_pipe\n",
        "#     We use (X_train, y_train)\n",
        "\n",
        "outer_pipe.fit(X_train,y_train)"
      ],
      "execution_count": null,
      "outputs": [
        {
          "output_type": "execute_result",
          "data": {
            "text/plain": [
              "Pipeline(steps=[('ct',\n",
              "                 ColumnTransformer(transformers=[('p_mf',\n",
              "                                                  Pipeline(steps=[('mf',\n",
              "                                                                   SimpleImputer(strategy='most_frequent')),\n",
              "                                                                  ('ohe',\n",
              "                                                                   OneHotEncoder())]),\n",
              "                                                  ['acc_balance',\n",
              "                                                   'house_owned']),\n",
              "                                                 ('p_const',\n",
              "                                                  Pipeline(steps=[('cons',\n",
              "                                                                   SimpleImputer(fill_value='missing',\n",
              "                                                                                 strategy='constant')),\n",
              "                                                                  ('ohe',\n",
              "                                                                   OneHotEncoder())]),\n",
              "                                                  ['age_cat',\n",
              "                                                   'credit_amount_cat']),\n",
              "                                                 ('p_med',\n",
              "                                                  Pipeline(steps=[('sm',\n",
              "                                                                   SimpleImputer(strategy='median')),\n",
              "                                                                  ('ss2',\n",
              "                                                                   StandardScaler())]),\n",
              "                                                  ['income', 'credit_amount']),\n",
              "                                                 ('p_mean',\n",
              "                                                  Pipeline(steps=[('si',\n",
              "                                                                   SimpleImputer()),\n",
              "                                                                  ('ss1',\n",
              "                                                                   StandardScaler())]),\n",
              "                                                  ['age'])])),\n",
              "                ('dt', DecisionTreeClassifier())])"
            ]
          },
          "metadata": {},
          "execution_count": 44
        }
      ]
    },
    {
      "cell_type": "markdown",
      "source": [
        "### Make predictions"
      ],
      "metadata": {
        "id": "62OEZA3A_Cxh"
      }
    },
    {
      "cell_type": "code",
      "metadata": {
        "id": "oRrPDH5P2aTS",
        "colab": {
          "base_uri": "https://localhost:8080/"
        },
        "outputId": "8edd9e93-6dd8-4294-9e2e-553c61756e91"
      },
      "source": [
        "# 11.1 Make prediction on test data\n",
        "#     Note that there is no need to separately\n",
        "#     transform X_test. Pipes take care of that\n",
        "\n",
        "outer_pipe.predict(X_test)"
      ],
      "execution_count": null,
      "outputs": [
        {
          "output_type": "execute_result",
          "data": {
            "text/plain": [
              "array(['yes', 'yes', 'yes'], dtype=object)"
            ]
          },
          "metadata": {},
          "execution_count": 45
        }
      ]
    },
    {
      "cell_type": "code",
      "metadata": {
        "id": "E9G1b6XY2aTT",
        "colab": {
          "base_uri": "https://localhost:8080/"
        },
        "outputId": "9aba8c8c-2f98-40e1-ae34-f6eaaea22715"
      },
      "source": [
        "# 11.2 But what is the actual y_test\n",
        "y_test\n",
        "# le.transform(y_test)"
      ],
      "execution_count": null,
      "outputs": [
        {
          "output_type": "execute_result",
          "data": {
            "text/plain": [
              "11    no\n",
              "9     no\n",
              "6     no\n",
              "Name: creditability, dtype: object"
            ]
          },
          "metadata": {},
          "execution_count": 46
        }
      ]
    },
    {
      "cell_type": "markdown",
      "source": [
        "## Plot full pipe"
      ],
      "metadata": {
        "id": "2Hl6s6NI_IZo"
      }
    },
    {
      "cell_type": "code",
      "metadata": {
        "colab": {
          "base_uri": "https://localhost:8080/",
          "height": 227
        },
        "id": "sBbeFX452fLd",
        "outputId": "3972ef7f-ffe7-41a6-88d1-0dde71034535"
      },
      "source": [
        "# 11.3 Display pipeline as diagram\n",
        "# Ref:\n",
        "#  https://scikit-learn.org/stable/modules/compose.html#visualizing-composite-estimators\n",
        "\n",
        "set_config(display='diagram')\n",
        "outer_pipe"
      ],
      "execution_count": null,
      "outputs": [
        {
          "output_type": "execute_result",
          "data": {
            "text/plain": [
              "Pipeline(steps=[('ct',\n",
              "                 ColumnTransformer(transformers=[('p_mf',\n",
              "                                                  Pipeline(steps=[('mf',\n",
              "                                                                   SimpleImputer(strategy='most_frequent')),\n",
              "                                                                  ('ohe',\n",
              "                                                                   OneHotEncoder())]),\n",
              "                                                  ['acc_balance',\n",
              "                                                   'house_owned']),\n",
              "                                                 ('p_const',\n",
              "                                                  Pipeline(steps=[('cons',\n",
              "                                                                   SimpleImputer(fill_value='missing',\n",
              "                                                                                 strategy='constant')),\n",
              "                                                                  ('ohe',\n",
              "                                                                   OneHotEncoder())]),\n",
              "                                                  ['age_cat',\n",
              "                                                   'credit_amount_cat']),\n",
              "                                                 ('p_med',\n",
              "                                                  Pipeline(steps=[('sm',\n",
              "                                                                   SimpleImputer(strategy='median')),\n",
              "                                                                  ('ss2',\n",
              "                                                                   StandardScaler())]),\n",
              "                                                  ['income', 'credit_amount']),\n",
              "                                                 ('p_mean',\n",
              "                                                  Pipeline(steps=[('si',\n",
              "                                                                   SimpleImputer()),\n",
              "                                                                  ('ss1',\n",
              "                                                                   StandardScaler())]),\n",
              "                                                  ['age'])])),\n",
              "                ('dt', DecisionTreeClassifier())])"
            ],
            "text/html": [
              "<style>#sk-d0f5c795-c900-44cd-82c8-f6b8f6ca4829 {color: black;background-color: white;}#sk-d0f5c795-c900-44cd-82c8-f6b8f6ca4829 pre{padding: 0;}#sk-d0f5c795-c900-44cd-82c8-f6b8f6ca4829 div.sk-toggleable {background-color: white;}#sk-d0f5c795-c900-44cd-82c8-f6b8f6ca4829 label.sk-toggleable__label {cursor: pointer;display: block;width: 100%;margin-bottom: 0;padding: 0.3em;box-sizing: border-box;text-align: center;}#sk-d0f5c795-c900-44cd-82c8-f6b8f6ca4829 label.sk-toggleable__label-arrow:before {content: \"▸\";float: left;margin-right: 0.25em;color: #696969;}#sk-d0f5c795-c900-44cd-82c8-f6b8f6ca4829 label.sk-toggleable__label-arrow:hover:before {color: black;}#sk-d0f5c795-c900-44cd-82c8-f6b8f6ca4829 div.sk-estimator:hover label.sk-toggleable__label-arrow:before {color: black;}#sk-d0f5c795-c900-44cd-82c8-f6b8f6ca4829 div.sk-toggleable__content {max-height: 0;max-width: 0;overflow: hidden;text-align: left;background-color: #f0f8ff;}#sk-d0f5c795-c900-44cd-82c8-f6b8f6ca4829 div.sk-toggleable__content pre {margin: 0.2em;color: black;border-radius: 0.25em;background-color: #f0f8ff;}#sk-d0f5c795-c900-44cd-82c8-f6b8f6ca4829 input.sk-toggleable__control:checked~div.sk-toggleable__content {max-height: 200px;max-width: 100%;overflow: auto;}#sk-d0f5c795-c900-44cd-82c8-f6b8f6ca4829 input.sk-toggleable__control:checked~label.sk-toggleable__label-arrow:before {content: \"▾\";}#sk-d0f5c795-c900-44cd-82c8-f6b8f6ca4829 div.sk-estimator input.sk-toggleable__control:checked~label.sk-toggleable__label {background-color: #d4ebff;}#sk-d0f5c795-c900-44cd-82c8-f6b8f6ca4829 div.sk-label input.sk-toggleable__control:checked~label.sk-toggleable__label {background-color: #d4ebff;}#sk-d0f5c795-c900-44cd-82c8-f6b8f6ca4829 input.sk-hidden--visually {border: 0;clip: rect(1px 1px 1px 1px);clip: rect(1px, 1px, 1px, 1px);height: 1px;margin: -1px;overflow: hidden;padding: 0;position: absolute;width: 1px;}#sk-d0f5c795-c900-44cd-82c8-f6b8f6ca4829 div.sk-estimator {font-family: monospace;background-color: #f0f8ff;border: 1px dotted black;border-radius: 0.25em;box-sizing: border-box;margin-bottom: 0.5em;}#sk-d0f5c795-c900-44cd-82c8-f6b8f6ca4829 div.sk-estimator:hover {background-color: #d4ebff;}#sk-d0f5c795-c900-44cd-82c8-f6b8f6ca4829 div.sk-parallel-item::after {content: \"\";width: 100%;border-bottom: 1px solid gray;flex-grow: 1;}#sk-d0f5c795-c900-44cd-82c8-f6b8f6ca4829 div.sk-label:hover label.sk-toggleable__label {background-color: #d4ebff;}#sk-d0f5c795-c900-44cd-82c8-f6b8f6ca4829 div.sk-serial::before {content: \"\";position: absolute;border-left: 1px solid gray;box-sizing: border-box;top: 2em;bottom: 0;left: 50%;}#sk-d0f5c795-c900-44cd-82c8-f6b8f6ca4829 div.sk-serial {display: flex;flex-direction: column;align-items: center;background-color: white;padding-right: 0.2em;padding-left: 0.2em;}#sk-d0f5c795-c900-44cd-82c8-f6b8f6ca4829 div.sk-item {z-index: 1;}#sk-d0f5c795-c900-44cd-82c8-f6b8f6ca4829 div.sk-parallel {display: flex;align-items: stretch;justify-content: center;background-color: white;}#sk-d0f5c795-c900-44cd-82c8-f6b8f6ca4829 div.sk-parallel::before {content: \"\";position: absolute;border-left: 1px solid gray;box-sizing: border-box;top: 2em;bottom: 0;left: 50%;}#sk-d0f5c795-c900-44cd-82c8-f6b8f6ca4829 div.sk-parallel-item {display: flex;flex-direction: column;position: relative;background-color: white;}#sk-d0f5c795-c900-44cd-82c8-f6b8f6ca4829 div.sk-parallel-item:first-child::after {align-self: flex-end;width: 50%;}#sk-d0f5c795-c900-44cd-82c8-f6b8f6ca4829 div.sk-parallel-item:last-child::after {align-self: flex-start;width: 50%;}#sk-d0f5c795-c900-44cd-82c8-f6b8f6ca4829 div.sk-parallel-item:only-child::after {width: 0;}#sk-d0f5c795-c900-44cd-82c8-f6b8f6ca4829 div.sk-dashed-wrapped {border: 1px dashed gray;margin: 0 0.4em 0.5em 0.4em;box-sizing: border-box;padding-bottom: 0.4em;background-color: white;position: relative;}#sk-d0f5c795-c900-44cd-82c8-f6b8f6ca4829 div.sk-label label {font-family: monospace;font-weight: bold;background-color: white;display: inline-block;line-height: 1.2em;}#sk-d0f5c795-c900-44cd-82c8-f6b8f6ca4829 div.sk-label-container {position: relative;z-index: 2;text-align: center;}#sk-d0f5c795-c900-44cd-82c8-f6b8f6ca4829 div.sk-container {/* jupyter's `normalize.less` sets `[hidden] { display: none; }` but bootstrap.min.css set `[hidden] { display: none !important; }` so we also need the `!important` here to be able to override the default hidden behavior on the sphinx rendered scikit-learn.org. See: https://github.com/scikit-learn/scikit-learn/issues/21755 */display: inline-block !important;position: relative;}#sk-d0f5c795-c900-44cd-82c8-f6b8f6ca4829 div.sk-text-repr-fallback {display: none;}</style><div id=\"sk-d0f5c795-c900-44cd-82c8-f6b8f6ca4829\" class=\"sk-top-container\"><div class=\"sk-text-repr-fallback\"><pre>Pipeline(steps=[(&#x27;ct&#x27;,\n",
              "                 ColumnTransformer(transformers=[(&#x27;p_mf&#x27;,\n",
              "                                                  Pipeline(steps=[(&#x27;mf&#x27;,\n",
              "                                                                   SimpleImputer(strategy=&#x27;most_frequent&#x27;)),\n",
              "                                                                  (&#x27;ohe&#x27;,\n",
              "                                                                   OneHotEncoder())]),\n",
              "                                                  [&#x27;acc_balance&#x27;,\n",
              "                                                   &#x27;house_owned&#x27;]),\n",
              "                                                 (&#x27;p_const&#x27;,\n",
              "                                                  Pipeline(steps=[(&#x27;cons&#x27;,\n",
              "                                                                   SimpleImputer(fill_value=&#x27;missing&#x27;,\n",
              "                                                                                 strategy=&#x27;constant&#x27;)),\n",
              "                                                                  (&#x27;ohe&#x27;,\n",
              "                                                                   OneHotEncoder())]),\n",
              "                                                  [&#x27;age_cat&#x27;,\n",
              "                                                   &#x27;credit_amount_cat&#x27;]),\n",
              "                                                 (&#x27;p_med&#x27;,\n",
              "                                                  Pipeline(steps=[(&#x27;sm&#x27;,\n",
              "                                                                   SimpleImputer(strategy=&#x27;median&#x27;)),\n",
              "                                                                  (&#x27;ss2&#x27;,\n",
              "                                                                   StandardScaler())]),\n",
              "                                                  [&#x27;income&#x27;, &#x27;credit_amount&#x27;]),\n",
              "                                                 (&#x27;p_mean&#x27;,\n",
              "                                                  Pipeline(steps=[(&#x27;si&#x27;,\n",
              "                                                                   SimpleImputer()),\n",
              "                                                                  (&#x27;ss1&#x27;,\n",
              "                                                                   StandardScaler())]),\n",
              "                                                  [&#x27;age&#x27;])])),\n",
              "                (&#x27;dt&#x27;, DecisionTreeClassifier())])</pre><b>Please rerun this cell to show the HTML repr or trust the notebook.</b></div><div class=\"sk-container\" hidden><div class=\"sk-item sk-dashed-wrapped\"><div class=\"sk-label-container\"><div class=\"sk-label sk-toggleable\"><input class=\"sk-toggleable__control sk-hidden--visually\" id=\"189d96fa-657b-46fc-8162-7c69a930b8fc\" type=\"checkbox\" ><label for=\"189d96fa-657b-46fc-8162-7c69a930b8fc\" class=\"sk-toggleable__label sk-toggleable__label-arrow\">Pipeline</label><div class=\"sk-toggleable__content\"><pre>Pipeline(steps=[(&#x27;ct&#x27;,\n",
              "                 ColumnTransformer(transformers=[(&#x27;p_mf&#x27;,\n",
              "                                                  Pipeline(steps=[(&#x27;mf&#x27;,\n",
              "                                                                   SimpleImputer(strategy=&#x27;most_frequent&#x27;)),\n",
              "                                                                  (&#x27;ohe&#x27;,\n",
              "                                                                   OneHotEncoder())]),\n",
              "                                                  [&#x27;acc_balance&#x27;,\n",
              "                                                   &#x27;house_owned&#x27;]),\n",
              "                                                 (&#x27;p_const&#x27;,\n",
              "                                                  Pipeline(steps=[(&#x27;cons&#x27;,\n",
              "                                                                   SimpleImputer(fill_value=&#x27;missing&#x27;,\n",
              "                                                                                 strategy=&#x27;constant&#x27;)),\n",
              "                                                                  (&#x27;ohe&#x27;,\n",
              "                                                                   OneHotEncoder())]),\n",
              "                                                  [&#x27;age_cat&#x27;,\n",
              "                                                   &#x27;credit_amount_cat&#x27;]),\n",
              "                                                 (&#x27;p_med&#x27;,\n",
              "                                                  Pipeline(steps=[(&#x27;sm&#x27;,\n",
              "                                                                   SimpleImputer(strategy=&#x27;median&#x27;)),\n",
              "                                                                  (&#x27;ss2&#x27;,\n",
              "                                                                   StandardScaler())]),\n",
              "                                                  [&#x27;income&#x27;, &#x27;credit_amount&#x27;]),\n",
              "                                                 (&#x27;p_mean&#x27;,\n",
              "                                                  Pipeline(steps=[(&#x27;si&#x27;,\n",
              "                                                                   SimpleImputer()),\n",
              "                                                                  (&#x27;ss1&#x27;,\n",
              "                                                                   StandardScaler())]),\n",
              "                                                  [&#x27;age&#x27;])])),\n",
              "                (&#x27;dt&#x27;, DecisionTreeClassifier())])</pre></div></div></div><div class=\"sk-serial\"><div class=\"sk-item sk-dashed-wrapped\"><div class=\"sk-label-container\"><div class=\"sk-label sk-toggleable\"><input class=\"sk-toggleable__control sk-hidden--visually\" id=\"2d341de7-e406-4682-82aa-f0f99e66a63c\" type=\"checkbox\" ><label for=\"2d341de7-e406-4682-82aa-f0f99e66a63c\" class=\"sk-toggleable__label sk-toggleable__label-arrow\">ct: ColumnTransformer</label><div class=\"sk-toggleable__content\"><pre>ColumnTransformer(transformers=[(&#x27;p_mf&#x27;,\n",
              "                                 Pipeline(steps=[(&#x27;mf&#x27;,\n",
              "                                                  SimpleImputer(strategy=&#x27;most_frequent&#x27;)),\n",
              "                                                 (&#x27;ohe&#x27;, OneHotEncoder())]),\n",
              "                                 [&#x27;acc_balance&#x27;, &#x27;house_owned&#x27;]),\n",
              "                                (&#x27;p_const&#x27;,\n",
              "                                 Pipeline(steps=[(&#x27;cons&#x27;,\n",
              "                                                  SimpleImputer(fill_value=&#x27;missing&#x27;,\n",
              "                                                                strategy=&#x27;constant&#x27;)),\n",
              "                                                 (&#x27;ohe&#x27;, OneHotEncoder())]),\n",
              "                                 [&#x27;age_cat&#x27;, &#x27;credit_amount_cat&#x27;]),\n",
              "                                (&#x27;p_med&#x27;,\n",
              "                                 Pipeline(steps=[(&#x27;sm&#x27;,\n",
              "                                                  SimpleImputer(strategy=&#x27;median&#x27;)),\n",
              "                                                 (&#x27;ss2&#x27;, StandardScaler())]),\n",
              "                                 [&#x27;income&#x27;, &#x27;credit_amount&#x27;]),\n",
              "                                (&#x27;p_mean&#x27;,\n",
              "                                 Pipeline(steps=[(&#x27;si&#x27;, SimpleImputer()),\n",
              "                                                 (&#x27;ss1&#x27;, StandardScaler())]),\n",
              "                                 [&#x27;age&#x27;])])</pre></div></div></div><div class=\"sk-parallel\"><div class=\"sk-parallel-item\"><div class=\"sk-item\"><div class=\"sk-label-container\"><div class=\"sk-label sk-toggleable\"><input class=\"sk-toggleable__control sk-hidden--visually\" id=\"d45b167b-c569-4d51-a55a-9bd456a62899\" type=\"checkbox\" ><label for=\"d45b167b-c569-4d51-a55a-9bd456a62899\" class=\"sk-toggleable__label sk-toggleable__label-arrow\">p_mf</label><div class=\"sk-toggleable__content\"><pre>[&#x27;acc_balance&#x27;, &#x27;house_owned&#x27;]</pre></div></div></div><div class=\"sk-serial\"><div class=\"sk-item\"><div class=\"sk-serial\"><div class=\"sk-item\"><div class=\"sk-estimator sk-toggleable\"><input class=\"sk-toggleable__control sk-hidden--visually\" id=\"40ffb91e-153b-4bfa-bc50-fa44a497e0f7\" type=\"checkbox\" ><label for=\"40ffb91e-153b-4bfa-bc50-fa44a497e0f7\" class=\"sk-toggleable__label sk-toggleable__label-arrow\">SimpleImputer</label><div class=\"sk-toggleable__content\"><pre>SimpleImputer(strategy=&#x27;most_frequent&#x27;)</pre></div></div></div><div class=\"sk-item\"><div class=\"sk-estimator sk-toggleable\"><input class=\"sk-toggleable__control sk-hidden--visually\" id=\"33567c8f-c560-44bf-b449-e275934ba82d\" type=\"checkbox\" ><label for=\"33567c8f-c560-44bf-b449-e275934ba82d\" class=\"sk-toggleable__label sk-toggleable__label-arrow\">OneHotEncoder</label><div class=\"sk-toggleable__content\"><pre>OneHotEncoder()</pre></div></div></div></div></div></div></div></div><div class=\"sk-parallel-item\"><div class=\"sk-item\"><div class=\"sk-label-container\"><div class=\"sk-label sk-toggleable\"><input class=\"sk-toggleable__control sk-hidden--visually\" id=\"0df822c2-8b4c-4833-8873-10ad07ceb1fc\" type=\"checkbox\" ><label for=\"0df822c2-8b4c-4833-8873-10ad07ceb1fc\" class=\"sk-toggleable__label sk-toggleable__label-arrow\">p_const</label><div class=\"sk-toggleable__content\"><pre>[&#x27;age_cat&#x27;, &#x27;credit_amount_cat&#x27;]</pre></div></div></div><div class=\"sk-serial\"><div class=\"sk-item\"><div class=\"sk-serial\"><div class=\"sk-item\"><div class=\"sk-estimator sk-toggleable\"><input class=\"sk-toggleable__control sk-hidden--visually\" id=\"48e0ef21-6466-4792-8584-76ba44394cf7\" type=\"checkbox\" ><label for=\"48e0ef21-6466-4792-8584-76ba44394cf7\" class=\"sk-toggleable__label sk-toggleable__label-arrow\">SimpleImputer</label><div class=\"sk-toggleable__content\"><pre>SimpleImputer(fill_value=&#x27;missing&#x27;, strategy=&#x27;constant&#x27;)</pre></div></div></div><div class=\"sk-item\"><div class=\"sk-estimator sk-toggleable\"><input class=\"sk-toggleable__control sk-hidden--visually\" id=\"ca27285e-d74b-4728-944d-19cf1ac1b67a\" type=\"checkbox\" ><label for=\"ca27285e-d74b-4728-944d-19cf1ac1b67a\" class=\"sk-toggleable__label sk-toggleable__label-arrow\">OneHotEncoder</label><div class=\"sk-toggleable__content\"><pre>OneHotEncoder()</pre></div></div></div></div></div></div></div></div><div class=\"sk-parallel-item\"><div class=\"sk-item\"><div class=\"sk-label-container\"><div class=\"sk-label sk-toggleable\"><input class=\"sk-toggleable__control sk-hidden--visually\" id=\"3b8c3cd2-bc62-475d-aa47-61b223dba03d\" type=\"checkbox\" ><label for=\"3b8c3cd2-bc62-475d-aa47-61b223dba03d\" class=\"sk-toggleable__label sk-toggleable__label-arrow\">p_med</label><div class=\"sk-toggleable__content\"><pre>[&#x27;income&#x27;, &#x27;credit_amount&#x27;]</pre></div></div></div><div class=\"sk-serial\"><div class=\"sk-item\"><div class=\"sk-serial\"><div class=\"sk-item\"><div class=\"sk-estimator sk-toggleable\"><input class=\"sk-toggleable__control sk-hidden--visually\" id=\"efa52a9d-a1b6-41f9-a2f0-c839adf8a90f\" type=\"checkbox\" ><label for=\"efa52a9d-a1b6-41f9-a2f0-c839adf8a90f\" class=\"sk-toggleable__label sk-toggleable__label-arrow\">SimpleImputer</label><div class=\"sk-toggleable__content\"><pre>SimpleImputer(strategy=&#x27;median&#x27;)</pre></div></div></div><div class=\"sk-item\"><div class=\"sk-estimator sk-toggleable\"><input class=\"sk-toggleable__control sk-hidden--visually\" id=\"007a5322-8061-45bb-8f63-833ecb288b37\" type=\"checkbox\" ><label for=\"007a5322-8061-45bb-8f63-833ecb288b37\" class=\"sk-toggleable__label sk-toggleable__label-arrow\">StandardScaler</label><div class=\"sk-toggleable__content\"><pre>StandardScaler()</pre></div></div></div></div></div></div></div></div><div class=\"sk-parallel-item\"><div class=\"sk-item\"><div class=\"sk-label-container\"><div class=\"sk-label sk-toggleable\"><input class=\"sk-toggleable__control sk-hidden--visually\" id=\"9ffa454e-08f2-49ab-9b2a-e916da1c1d57\" type=\"checkbox\" ><label for=\"9ffa454e-08f2-49ab-9b2a-e916da1c1d57\" class=\"sk-toggleable__label sk-toggleable__label-arrow\">p_mean</label><div class=\"sk-toggleable__content\"><pre>[&#x27;age&#x27;]</pre></div></div></div><div class=\"sk-serial\"><div class=\"sk-item\"><div class=\"sk-serial\"><div class=\"sk-item\"><div class=\"sk-estimator sk-toggleable\"><input class=\"sk-toggleable__control sk-hidden--visually\" id=\"40accbfb-404d-43e3-87ca-333da242b884\" type=\"checkbox\" ><label for=\"40accbfb-404d-43e3-87ca-333da242b884\" class=\"sk-toggleable__label sk-toggleable__label-arrow\">SimpleImputer</label><div class=\"sk-toggleable__content\"><pre>SimpleImputer()</pre></div></div></div><div class=\"sk-item\"><div class=\"sk-estimator sk-toggleable\"><input class=\"sk-toggleable__control sk-hidden--visually\" id=\"5f86a68c-7b77-4c6d-9b55-87c03d072d4f\" type=\"checkbox\" ><label for=\"5f86a68c-7b77-4c6d-9b55-87c03d072d4f\" class=\"sk-toggleable__label sk-toggleable__label-arrow\">StandardScaler</label><div class=\"sk-toggleable__content\"><pre>StandardScaler()</pre></div></div></div></div></div></div></div></div></div></div><div class=\"sk-item\"><div class=\"sk-estimator sk-toggleable\"><input class=\"sk-toggleable__control sk-hidden--visually\" id=\"72a3b274-1a89-4b2b-923c-9e9de948c138\" type=\"checkbox\" ><label for=\"72a3b274-1a89-4b2b-923c-9e9de948c138\" class=\"sk-toggleable__label sk-toggleable__label-arrow\">DecisionTreeClassifier</label><div class=\"sk-toggleable__content\"><pre>DecisionTreeClassifier()</pre></div></div></div></div></div></div></div>"
            ]
          },
          "metadata": {},
          "execution_count": 47
        }
      ]
    },
    {
      "cell_type": "code",
      "metadata": {
        "id": "eqaeY6GJgz2n",
        "colab": {
          "base_uri": "https://localhost:8080/"
        },
        "outputId": "5fc28237-f400-48d9-d20d-4e8996dd08ee"
      },
      "source": [
        "# 11.4 Pipeline as text\n",
        "set_config(display='text')\n",
        "outer_pipe"
      ],
      "execution_count": null,
      "outputs": [
        {
          "output_type": "execute_result",
          "data": {
            "text/plain": [
              "Pipeline(steps=[('ct',\n",
              "                 ColumnTransformer(transformers=[('p_mf',\n",
              "                                                  Pipeline(steps=[('mf',\n",
              "                                                                   SimpleImputer(strategy='most_frequent')),\n",
              "                                                                  ('ohe',\n",
              "                                                                   OneHotEncoder())]),\n",
              "                                                  ['acc_balance',\n",
              "                                                   'house_owned']),\n",
              "                                                 ('p_const',\n",
              "                                                  Pipeline(steps=[('cons',\n",
              "                                                                   SimpleImputer(fill_value='missing',\n",
              "                                                                                 strategy='constant')),\n",
              "                                                                  ('ohe',\n",
              "                                                                   OneHotEncoder())]),\n",
              "                                                  ['age_cat',\n",
              "                                                   'credit_amount_cat']),\n",
              "                                                 ('p_med',\n",
              "                                                  Pipeline(steps=[('sm',\n",
              "                                                                   SimpleImputer(strategy='median')),\n",
              "                                                                  ('ss2',\n",
              "                                                                   StandardScaler())]),\n",
              "                                                  ['income', 'credit_amount']),\n",
              "                                                 ('p_mean',\n",
              "                                                  Pipeline(steps=[('si',\n",
              "                                                                   SimpleImputer()),\n",
              "                                                                  ('ss1',\n",
              "                                                                   StandardScaler())]),\n",
              "                                                  ['age'])])),\n",
              "                ('dt', DecisionTreeClassifier())])"
            ]
          },
          "metadata": {},
          "execution_count": 48
        }
      ]
    },
    {
      "cell_type": "code",
      "metadata": {
        "id": "3u3Gx_Co2aTT"
      },
      "source": [
        "######## That's all folks ##########"
      ],
      "execution_count": null,
      "outputs": []
    },
    {
      "cell_type": "markdown",
      "metadata": {
        "id": "kYt9UCvuTu4_"
      },
      "source": [
        "### Decision tree--A greedy algorithm\n",
        "What is a greedy algorithm?  \n",
        "A greedy algorithm is any algorithm that follows the problem-solving heuristic of making the locally optimal choice at each stage. In many problems, a greedy strategy does not usually produce an optimal solution, but nonetheless, a greedy heuristic may yield locally optimal solutions that approximate a globally optimal solution in a reasonable amount of time. "
      ]
    },
    {
      "cell_type": "markdown",
      "metadata": {
        "id": "3a-vYGE5XPm2"
      },
      "source": [
        "Problem:\n",
        "Find the largest possible sum, starting from the root. If focused on choosing the maximum value at each step, leads to a solution that is not globally optimal."
      ]
    },
    {
      "cell_type": "markdown",
      "metadata": {
        "id": "gCwQFc91WTYk"
      },
      "source": [
        "![image.png](data:image/png;base64,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)"
      ]
    },
    {
      "cell_type": "code",
      "metadata": {
        "id": "sqd1ABoSTznb"
      },
      "source": [
        "########### ############### ###########"
      ],
      "execution_count": null,
      "outputs": []
    }
  ]
}